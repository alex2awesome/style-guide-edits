{
 "cells": [
  {
   "cell_type": "markdown",
   "id": "052685dc-22af-4b22-a487-801e73f0d451",
   "metadata": {},
   "source": [
    "# Goals"
   ]
  },
  {
   "cell_type": "markdown",
   "id": "f122f771-73f2-45ff-9251-038199ab534e",
   "metadata": {},
   "source": [
    "This is simply a data scraping notebook and can be safely ignored, as I have already collected the data.\n",
    "\n",
    "In general, I find that development in notebooks can be extremely satisfying, especially for tasks like data scraping which require a lot of analysis and step-by-step progression."
   ]
  },
  {
   "cell_type": "markdown",
   "id": "e153b93f-e784-46d5-8f7f-8243e65531b5",
   "metadata": {},
   "source": [
    "# Guardian"
   ]
  },
  {
   "cell_type": "code",
   "execution_count": 17,
   "id": "105caa21-4c1d-4ba9-9cdd-ec830dffa382",
   "metadata": {},
   "outputs": [],
   "source": [
    "import requests\n",
    "from IPython.display import display, HTML\n",
    "from bs4 import BeautifulSoup\n",
    "import time\n",
    "from tqdm.auto import tqdm"
   ]
  },
  {
   "cell_type": "code",
   "execution_count": 1,
   "id": "b3d64ce5-20eb-4e5c-a6e6-93ca07ca49c8",
   "metadata": {},
   "outputs": [],
   "source": [
    "index_url = 'https://www.theguardian.com/guardian-observer-style-guide-a'"
   ]
  },
  {
   "cell_type": "code",
   "execution_count": 18,
   "id": "46e326c4-7a40-4eb5-afd4-7fe6c9c72d44",
   "metadata": {},
   "outputs": [],
   "source": [
    "r = requests.get(index_url)\n",
    "html = r.content.decode()"
   ]
  },
  {
   "cell_type": "code",
   "execution_count": 16,
   "id": "04224041-a276-4f12-8447-5986f5822f66",
   "metadata": {},
   "outputs": [],
   "source": [
    "# display(HTML(html))\n",
    "sel = '#maincontent > div > p:nth-child(1)'"
   ]
  },
  {
   "cell_type": "code",
   "execution_count": 30,
   "id": "56788e6d-ffc1-4429-82e5-d0fabf7391a9",
   "metadata": {},
   "outputs": [],
   "source": [
    "style_guide_links = BeautifulSoup(html).select_one(sel).find_all('a')\n",
    "style_guide_links = list(map(lambda x: x['href'], style_guide_links))"
   ]
  },
  {
   "cell_type": "code",
   "execution_count": 33,
   "id": "81b982a2-e866-4ba6-8840-635b0f56ec30",
   "metadata": {},
   "outputs": [
    {
     "data": {
      "application/vnd.jupyter.widget-view+json": {
       "model_id": "8eb51ae9293e43748f6ba671ffe0c39b",
       "version_major": 2,
       "version_minor": 0
      },
      "text/plain": [
       "  0%|          | 0/26 [00:00<?, ?it/s]"
      ]
     },
     "metadata": {},
     "output_type": "display_data"
    }
   ],
   "source": [
    "page_html = {}\n",
    "for l in tqdm(style_guide_links):\n",
    "    r = requests.get(l)\n",
    "    if r.status_code == 200:\n",
    "        page_html[l] = r.content.decode()\n",
    "    time.sleep(1)"
   ]
  },
  {
   "cell_type": "code",
   "execution_count": 39,
   "id": "40c3bac2-7e4d-46c0-8597-2379696ae79e",
   "metadata": {},
   "outputs": [],
   "source": [
    "guardian_htmls = list(page_html.values())"
   ]
  },
  {
   "cell_type": "code",
   "execution_count": null,
   "id": "7db9eeda-8d21-4d5e-88a9-5b0fdb32c8cc",
   "metadata": {},
   "outputs": [],
   "source": [
    "guardian_soups = list(map(BeautifulSoup, guardian_htmls))\n",
    "all_paragraphs = list(map(lambda x: x.find_all(attrs={'class': 'dcr-1myha1i'}), guardian_soups))\n",
    "to_filter = all_paragraphs[0][0]\n",
    "all_paragraphs = list(map(lambda x: list(filter(lambda y: y != to_filter, x)), all_paragraphs))"
   ]
  },
  {
   "cell_type": "code",
   "execution_count": 90,
   "id": "bbd06a93-ede0-460a-9a7c-90477f01dcfd",
   "metadata": {},
   "outputs": [],
   "source": [
    "import pyperclip\n",
    "pyperclip.copy('\\n'.join(list(map(str, all_paragraphs[0][0:13]))))"
   ]
  },
  {
   "cell_type": "code",
   "execution_count": 95,
   "id": "5e0b362d-923d-481e-9981-2e1ba67f2136",
   "metadata": {},
   "outputs": [
    {
     "data": {
      "text/plain": [
       "[<p class=\"dcr-1myha1i\"><strong>a or an before H?</strong><br/>Use an before a silent H: an heir, an hour, an honest politician, an honorary consul; use a before an aspirated H: a hero, a hotel, a historian (but don’t change a direct quote if the speaker says, for example, “an historic”). With abbreviations, be guided by pronunciation: eg an LSE student</p>,\n",
       " <p class=\"dcr-1myha1i\"><strong>A*</strong><br/>(A-level and GCSE) not A-star</p>,\n",
       " <p class=\"dcr-1myha1i\"><strong>A&amp;E</strong><br/>accident and emergency; in the US, it’s ER (emergency room)</p>,\n",
       " <p class=\"dcr-1myha1i\"><strong>abattoir</strong></p>,\n",
       " <p class=\"dcr-1myha1i\"><strong>Abbas, Mahmoud</strong><br/>president of the Palestinian Authority</p>,\n",
       " <p class=\"dcr-1myha1i\"><strong>abbeys</strong><br/>take initial cap, eg Westminster Abbey</p>,\n",
       " <p class=\"dcr-1myha1i\"><strong>Abbottabad</strong><br/>city in Pakistan where Osama bin Laden lived and died</p>,\n",
       " <p class=\"dcr-1myha1i\"><strong>abbreviations and acronyms</strong><br/>Do not use full points in abbreviations, or spaces between initials, including those in proper names: IMF, mph, eg, 4am, M&amp;S, No 10, AN Wilson, WH Smith, etc.</p>,\n",
       " <p class=\"dcr-1myha1i\">Use all capitals if an abbreviation is pronounced as the individual letters (an initialism): BBC, CEO, US, VAT, etc; if it is an acronym (pronounced as a word) spell out with initial capital, eg Nasa, Nato, Unicef, unless it can be considered to have entered the language as an everyday word, such as awol, laser and, more recently, asbo, pin number and sim card. Note that pdf and plc are lowercase.</p>,\n",
       " <p class=\"dcr-1myha1i\">If an abbreviation or acronym is to be used more than once in a piece, put it in brackets at first mention: so Association of Chief Police Officers (Acpo), seasonal affective disorder (Sad); alternatively, use the abbreviation with a brief description, eg the conservation charity the RSPB. Remember that our international online readership will not necessarily be aware of even well-known UK abbreviations. If an organisation is mentioned only once, it is not necessary to give its abbreviation or acronym.</p>,\n",
       " <p class=\"dcr-1myha1i\">Cap up single letters in such expressions as C-list, F-word, “the word assassin contains four Ss”, etc</p>,\n",
       " <p class=\"dcr-1myha1i\"><strong>Abd el-Fattah, Alaa<br/></strong>British-Egyptian democracy activist jailed in Egypt</p>,\n",
       " <p class=\"dcr-1myha1i\"><strong>abdicate</strong><br/>renounce high office<br/><strong>abnegate</strong><br/>renounce privileges, deny oneself<br/><strong>abrogate</strong><br/>repeal, abolish<br/><strong>arrogate</strong><br/>take or claim (something) for oneself without justification</p>,\n",
       " <p class=\"dcr-1myha1i\"><strong>abjure</strong><br/>renounce<br/><strong>adjure</strong><br/>urge</p>,\n",
       " <p class=\"dcr-1myha1i\"><strong>Aboriginal Australians<br/></strong>should be identified by their country or language groups at first mention if known, eg a Wiradjuri-Yorta Yorta man, a Noongar-Badimaya woman – or take your cue from how they identify themselves. The term “Aborigine” is outdated and offensive; Aboriginal should only be used as an adjective. Indigenous Australians is an umbrella term that covers both Aboriginal people from the Australian mainland and Torres Strait Islanders</p>,\n",
       " <p class=\"dcr-1myha1i\"><strong>abortion<br/></strong>Use <strong>pro-choice</strong>,<strong> </strong>not pro-abortion; and use <strong>anti-abortion</strong>, not pro-life. <strong>Anti-choice</strong> can be used when talking about opposition to all reproductive rights, including abortion, birth control, family planning etc.</p>,\n",
       " <p class=\"dcr-1myha1i\">In reference to US legislation, <strong>six-week abortion ban </strong>is preferable to foetal heartbeat bill, unless quoting someone talking about the “heartbeat bill”</p>,\n",
       " <p class=\"dcr-1myha1i\"><strong>abscess</strong></p>,\n",
       " <p class=\"dcr-1myha1i\"><strong>absorb</strong><br/>but absorption</p>,\n",
       " <p class=\"dcr-1myha1i\"><strong>Abu Akleh, Shireen<br/></strong>a journalist for Al Jazeera who was shot and killed in the West Bank</p>,\n",
       " <p class=\"dcr-1myha1i\"><strong>abuse<br/></strong>see individual entries on <strong>child sexual abuse</strong>, <strong>domestic abuse/family abuse</strong> and <strong>sexual abuse</strong></p>,\n",
       " <p class=\"dcr-1myha1i\"><strong>abysmal</strong></p>,\n",
       " <p class=\"dcr-1myha1i\"><strong>abyss</strong></p>,\n",
       " <p class=\"dcr-1myha1i\"><strong>Academy Awards</strong> <br/>or<strong> Oscars</strong><br/>individual awards are lowercase, eg best actor award, Oscar for best picture</p>,\n",
       " <p class=\"dcr-1myha1i\">After first mention, abbreviate the Academy of Motion Picture Arts and Sciences to <strong>the Academy</strong><br/></p>,\n",
       " <p class=\"dcr-1myha1i\"><strong>a cappella</strong><br/>Italian for “in the style of the church”, ie unaccompanied singing</p>,\n",
       " <p class=\"dcr-1myha1i\"><strong>Acas</strong><br/>the Advisory, Conciliation and Arbitration Service, at first mention; thereafter just Acas</p>,\n",
       " <p class=\"dcr-1myha1i\"><strong>accents</strong><br/>Use on French, German, Portuguese, Spanish and Irish Gaelic words (but not anglicised French words such as cafe, apart from exposé, lamé, résumé, roué). People’s names, in whatever language, should also be given appropriate accents where known. Thus: “Arsène Wenger was on holiday in Bogotá with Rafa Benítez”</p>,\n",
       " <p class=\"dcr-1myha1i\"><strong>Accenture</strong><br/>formerly Andersen Consulting; the new name was devised by an employee from “accent on the future”</p>,\n",
       " <p class=\"dcr-1myha1i\"><strong>access</strong><br/>has been known as contact since the 1989 Children Act</p>,\n",
       " <p class=\"dcr-1myha1i\"><strong>accession council</strong><br/>at which a new king or queen is formally proclaimed</p>,\n",
       " <p class=\"dcr-1myha1i\"><strong>accident<br/></strong>Take care in using this term in relation to traffic incidents; crash or collision may be better if the full circumstances are not known</p>,\n",
       " <p class=\"dcr-1myha1i\"><strong>accommodate, accommodation</strong></p>,\n",
       " <p class=\"dcr-1myha1i\"><strong>accordion</strong><br/>not accordian</p>,\n",
       " <p class=\"dcr-1myha1i\"><strong>achilles heel, achilles tendon</strong></p>,\n",
       " <p class=\"dcr-1myha1i\"><strong>acknowledgment</strong><br/>not acknowledgement</p>,\n",
       " <p class=\"dcr-1myha1i\"><strong>acres</strong><br/>Use hectares, with acres in brackets, rounded up or down, eg the field measured 25 hectares (62 acres).</p>,\n",
       " <p class=\"dcr-1myha1i\">You multiply hectares by 2.47 to convert to acres, or acres by 0.4 to convert to hectares</p>,\n",
       " <p class=\"dcr-1myha1i\"><strong>acronyms</strong><br/>See <a data-link-name=\"in body link\" href=\"#abbreviations and acronyms\">Abbreviations and acronyms</a></p>,\n",
       " <p class=\"dcr-1myha1i\"><strong>act</strong><br/>uppercase when using the full name, eg Criminal Justice Act 1998, Official Secrets Act; but lowercase on second reference, eg “the act”, and when speaking in more general terms, eg “we need a radical freedom of information act”; bills remain lowercase until passed into law</p>,\n",
       " <p class=\"dcr-1myha1i\"><strong>Action on Hearing Loss</strong><br/>formerly known as the Royal National Institute for Deaf People (RNID)</p>,\n",
       " <p class=\"dcr-1myha1i\"><strong>actor</strong><br/>Use for both male and female actors; do not use actress except when in the name of an award, eg Oscar for best actress. The Guardian’s view is that actress comes into the same category as authoress, comedienne, manageress, “lady doctor”, “male nurse” and similar obsolete terms that date from a time when professions were largely the preserve of one sex (usually men). As Whoopi Goldberg put it in an interview with the paper: “An actress can only play a woman. I’m an actor – I can play anything.”</p>,\n",
       " <p class=\"dcr-1myha1i\">There is normally no need to differentiate between the sexes – and if there is, the words male and female are perfectly adequate: Lady Gaga won a Brit in 2010 for best international female artist, not artiste, chanteuse, or songstress.</p>,\n",
       " <p class=\"dcr-1myha1i\">As always, use common sense: a piece about the late film director Carlo Ponti was edited to say that in his early career he was “already a man with a good eye for pretty actors ...” As the readers’ editor pointed out in the subsequent clarification: “This was one of those occasions when the word ‘actresses’ might have been used”</p>,\n",
       " <p class=\"dcr-1myha1i\"><strong>AD, BC</strong><br/>AD goes before the date (AD64), BC goes after (300BC); both go after the century, eg second century AD, fourth century BC</p>,\n",
       " <p class=\"dcr-1myha1i\"><strong>adaptation</strong><br/>not adaption</p>,\n",
       " <p class=\"dcr-1myha1i\"><strong>adapter</strong><br/>someone who adapts; adaptor plug</p>,\n",
       " <p class=\"dcr-1myha1i\"><strong>adblocker, adblocking</strong></p>,\n",
       " <p class=\"dcr-1myha1i\"><strong>addendum</strong><br/>plural <strong>addendums</strong></p>,\n",
       " <p class=\"dcr-1myha1i\">Latinate -um neuter endings that are a part of the language (eg stadium) take an -s plural. Exceptions: bacteria, which retain the Latin plural and take a plural verb, as do media, but note that spiritualists are mediums</p>,\n",
       " <p class=\"dcr-1myha1i\"><strong>addresses</strong><br/>like this: 90 York Way, London N1 9GU</p>,\n",
       " <p class=\"dcr-1myha1i\"><strong>Adidas</strong><br/>initial cap, although adidas is lc in the company logo</p>,\n",
       " <p class=\"dcr-1myha1i\"><strong>administration</strong><br/>the Obama administration, etc</p>,\n",
       " <p class=\"dcr-1myha1i\"><strong>admissible, inadmissible</strong><br/>not -able</p>,\n",
       " <p class=\"dcr-1myha1i\"><strong>admit</strong><br/>Take care – as a reader put it when we referred to Tory MPs who “admitted” being gay: “Admit in modern English is almost exclusively used when conceding or confessing something negative and/or of which one is or should be ashamed. Please be more careful. Language can offend.” Quite.</p>,\n",
       " <p class=\"dcr-1myha1i\">The former Washington Post editor Ben Bradlee urged reporters not to “hide their biases and emotions behind subtly pejorative words” such as admit</p>,\n",
       " <p class=\"dcr-1myha1i\"><strong>ad nauseam<br/></strong>not ad nauseum</p>,\n",
       " <p class=\"dcr-1myha1i\"><strong>adoption</strong><br/>Mention that children are adopted only when relevant to the story: a reader points out that “explicitly calling attention to adoptions in this way suggests that adoption is not as good, and not as real a relationship, as having a child normally”. So say biological father, biological family rather than “real father”, “real family”, etc</p>,\n",
       " <p class=\"dcr-1myha1i\"><strong>Adrenalin</strong><br/>TM; a brand of adrenaline</p>,\n",
       " <p class=\"dcr-1myha1i\"><strong>adrenaline</strong><br/>hormone that increases heart rate and blood pressure, extracted from animals or synthesised for medical uses</p>,\n",
       " <p class=\"dcr-1myha1i\"><strong>advance bookings</strong><br/>rather than “advanced bookings”. Or you could just say “bookings”</p>,\n",
       " <p class=\"dcr-1myha1i\"><strong>Advent calendar</strong></p>,\n",
       " <p class=\"dcr-1myha1i\"><strong>adverse</strong><br/>unfavourable; <strong>averse</strong> reluctant<br/>“He was averse to crossing the Irish Sea in such adverse conditions”</p>,\n",
       " <p class=\"dcr-1myha1i\"><strong>adviser</strong><br/>not advisor</p>,\n",
       " <p class=\"dcr-1myha1i\"><strong>Advisory Committee on Business Appointments (Acoba)</strong></p>,\n",
       " <p class=\"dcr-1myha1i\"><strong>advocate</strong><br/>member of the Scottish bar (not a barrister)</p>,\n",
       " <p class=\"dcr-1myha1i\"><strong>aeroplane</strong><br/>in UK; <strong>airplane</strong> in US; <strong>plane</strong> works well anywhere</p>,\n",
       " <p class=\"dcr-1myha1i\"><strong>affect/effect</strong><br/>exhortations in the style guide had no effect (noun) on the number of mistakes; the level of mistakes was not affected (verb) by exhortations in the style guide; we hope to effect (verb) a change in this</p>,\n",
       " <p class=\"dcr-1myha1i\"><strong>affidavit</strong><br/>a written declaration made on oath, so “sworn affidavit” is tautologous</p>,\n",
       " <p class=\"dcr-1myha1i\"><strong>affinity</strong><br/>with or between, not to or for</p>,\n",
       " <p class=\"dcr-1myha1i\"><strong>Afghans</strong><br/>the people of Afghanistan</p>,\n",
       " <p class=\"dcr-1myha1i\"><strong>afghani</strong><br/>the currency of Afghanistan</p>,\n",
       " <p class=\"dcr-1myha1i\"><strong>aficionado</strong><br/>plural aficionados</p>,\n",
       " <p class=\"dcr-1myha1i\"><strong>Africa<br/></strong>is a continent made up of more than 50 countries. When writing about people from those countries be sure to locate them precisely in their town, city, country etc. Avoid simply saying they are African or from Africa</p>,\n",
       " <p class=\"dcr-1myha1i\"><strong>African American</strong></p>,\n",
       " <p class=\"dcr-1myha1i\"><strong>African-Caribbean</strong><br/>not Afro-Caribbean</p>,\n",
       " <p class=\"dcr-1myha1i\"><strong>Afrikaans</strong><br/>language</p>,\n",
       " <p class=\"dcr-1myha1i\"><strong>Afrikaner</strong><br/>person</p>,\n",
       " <p class=\"dcr-1myha1i\"><strong>Afrikander</strong><br/>cattle breed</p>,\n",
       " <p class=\"dcr-1myha1i\"><strong>afro</strong><br/>hairstyle</p>,\n",
       " <p class=\"dcr-1myha1i\"><strong>Afrobeat or Afrobeats?<br/></strong>these are distinct music genres which often get mixed up. The first was pioneered by Fela Kuti in the 1960s and is a mix of west African musical styles, such as fuji music and highlife, with American funk and jazz; the second is an umbrella term for 21st-century west African pop music, combining Ghanaian and Nigerian pop music with western rap influences.</p>,\n",
       " <p class=\"dcr-1myha1i\"><strong>afterlife, aftermath</strong></p>,\n",
       " <p class=\"dcr-1myha1i\"><strong>ageing</strong></p>,\n",
       " <p class=\"dcr-1myha1i\"><strong>ages</strong><br/>Kamala Harris, 56 (not “aged 56”); Freddie Bawden Marsh, nine.</p>,\n",
       " <p class=\"dcr-1myha1i\">a 62-year-old man; a 62-year-old; 62 years old.</p>,\n",
       " <p class=\"dcr-1myha1i\">the woman was in her 20s (but twentysomething, thirtysomething, etc)</p>,\n",
       " <p class=\"dcr-1myha1i\">Be clear when referring to age groups, such as the over-80s or under-16s, as sometimes these groupings don’t include the people who are actually 80 or 16; if the group does include them, a formulation such as 80 or over, or 16 and above can be clearer for readers. In headlines it is OK to use the shorter description when necessary</p>,\n",
       " <p class=\"dcr-1myha1i\"><strong>agenda</strong><br/>plural in origin, but singular in use: “agendum” is simply not on anyone’s agenda</p>,\n",
       " <p class=\"dcr-1myha1i\"><strong>Age UK</strong><br/>charity formed by the merger of Age Concern and Help the Aged in 2009</p>,\n",
       " <p class=\"dcr-1myha1i\"><strong>aggravate</strong><br/>Using this word to mean annoy, rather than make worse, really aggravates some people. Good. Both meanings have been around for more than 400 years, and there is no good reason why both should not be acceptable now<em class=\"dcr-1myha1i\">.</em></p>,\n",
       " <em class=\"dcr-1myha1i\">.</em>,\n",
       " <p class=\"dcr-1myha1i\"><em class=\"dcr-1myha1i\">She only wanted to threaten him and aggravate him ...</em><br/>Wilkie Collins, The Woman in White (1860) <br/></p>,\n",
       " <em class=\"dcr-1myha1i\">She only wanted to threaten him and aggravate him ...</em>,\n",
       " <p class=\"dcr-1myha1i\"><strong>AggregateIQ<br/></strong></p>,\n",
       " <p class=\"dcr-1myha1i\"><strong>aggro</strong><br/>abbreviation of aggravation, and spelt thus despite the once popular terrace chant “A, G, A-G-R, A-G-R-O: agro!”</p>,\n",
       " <p class=\"dcr-1myha1i\"><strong>AGM</strong></p>,\n",
       " <p class=\"dcr-1myha1i\"><strong>a-ha</strong><br/>band from Norway; <strong>A-ha!</strong> Alan Partridge catchphrase, quoting Abba’s Knowing Me, Knowing You</p>,\n",
       " <p class=\"dcr-1myha1i\"><strong>ahead of</strong><br/>overused, and often jars (“Why else would they hurriedly concoct their own ‘Confucius peace prize’, a day ahead of the ceremony in Oslo?” appeared in a leading article); before (which should have been used in this case) or in advance of are among the alternatives.</p>,\n",
       " <p class=\"dcr-1myha1i\">The Press Association reported: “Hundreds gathered outside Lichfield Cathedral to witness the arrival of a horse-drawn carriage ahead of Stephen’s body ahead of his funeral”</p>,\n",
       " <p class=\"dcr-1myha1i\"><strong>aide-de-camp</strong><br/>plural aides-de-camp (aide is a noun)</p>,\n",
       " <p class=\"dcr-1myha1i\"><strong>aide-memoire</strong><br/>plural aide-memoires (aide is a verb)</p>,\n",
       " <p class=\"dcr-1myha1i\"><strong>Aids</strong><br/>acquired immune deficiency syndrome, but normally no need to spell out.</p>,\n",
       " <p class=\"dcr-1myha1i\">Do not use such terms as “Aids victims” or someone “suffering from Aids”, language that in the words of one reader is “crass, inaccurate and reinforces stigma”, implying helplessness and inviting pity; “people with Aids” or “living with Aids” are preferable.</p>,\n",
       " <p class=\"dcr-1myha1i\">Do not use the term “full-blown Aids”. Unesco guidelines state: “This term implies that there are varying stages of Aids ... People have Aids only when they present with an Aids-defining illness”</p>,\n",
       " <p class=\"dcr-1myha1i\"><strong>airbase, aircraft, aircrew, airdrop, airfield, airlift, airmail, airshow, airspace, airstrike, airstrip, airtime</strong></p>,\n",
       " <p class=\"dcr-1myha1i\"><strong>air fare, air force, air raid</strong></p>,\n",
       " <p class=\"dcr-1myha1i\"><strong>aircraft carrier</strong></p>,\n",
       " <p class=\"dcr-1myha1i\"><strong>aircraft designations </strong><br/>usually with hyphens after initials, eg B-52, MiG-23</p>,\n",
       " <p class=\"dcr-1myha1i\"><strong>Air Force One</strong><br/>US president’s jet</p>,\n",
       " <p class=\"dcr-1myha1i\"><strong>air hostess</strong><br/>cabin attendant or flight attendant, please</p>,\n",
       " <p class=\"dcr-1myha1i\"><strong>airports</strong><br/>Heathrow, Gatwick, Stansted (normally no need to say airport); Liverpool John Lennon airport, Schiphol airport, etc</p>,\n",
       " <p class=\"dcr-1myha1i\"><strong>air vice-marshal</strong></p>,\n",
       " <p class=\"dcr-1myha1i\"><strong>AKA</strong><br/>also known as</p>,\n",
       " <p class=\"dcr-1myha1i\"><strong>akimbo</strong><br/>See <a data-link-name=\"in body link\" href=\"#arms akimbo\">arms akimbo</a></p>,\n",
       " <p class=\"dcr-1myha1i\"><strong>al-</strong><br/>(note lc and hyphen) before an Arabic name means “the” so try to avoid writing “the al- ...” where possible<br/>See <a data-link-name=\"in body link\" href=\"#Arabic names\">Arabic names</a></p>,\n",
       " <p class=\"dcr-1myha1i\"><strong>al-Aqsa Martyrs Brigade</strong></p>,\n",
       " <p class=\"dcr-1myha1i\"><strong>al-Aqsa mosque</strong><br/>not the Aqsa mosque, or the al-Aqsa mosque. Not to be confused in pictures with the nearby Dome of the Rock. The mosque’s dome is silver-grey, whereas the Dome of the Rock, an Islamic shrine, has a large golden dome. Both buildings are located in occupied East Jerusalem, at the holy site known to Muslims as al-Haram al-Sharif, and to Jews as the Temple Mount, also sometimes referred to as al-Aqsa mosque compound</p>,\n",
       " <p class=\"dcr-1myha1i\"><strong>Alastair or Alistair?</strong><br/>Alastair Campbell (spin doctor)<br/>Alastair Cook (cricketer)<br/>Alastair Hetherington (late Guardian editor)<br/>Alastair Stewart (broadcaster)</p>,\n",
       " <p class=\"dcr-1myha1i\">Alistair Cooke (late BBC and Guardian journalist)<br/>Alistair Darling (politician)<br/>Alistair MacLean (late novelist)<br/>Alistair McGowan (impressionist)</p>,\n",
       " <p class=\"dcr-1myha1i\">Aleister Crowley (late satanist)</p>,\n",
       " <p class=\"dcr-1myha1i\"><strong>albinism<br/></strong>Avoid referring to people with albinism as albinos, instead say “a man with albinism” or “Jane Doe, who has albinism”<br/></p>,\n",
       " <p class=\"dcr-1myha1i\"><strong>Albright, Madeleine</strong><br/>former US secretary of state</p>,\n",
       " <p class=\"dcr-1myha1i\"><strong>Alcott, Louisa May</strong><br/>(1832-88) American author of Little Women</p>,\n",
       " <p class=\"dcr-1myha1i\"><strong>A-levels</strong></p>,\n",
       " <p class=\"dcr-1myha1i\"><strong>Al Fayed, Mohamed</strong><br/>former owner of Harrods and Fulham FC (Fayed after first mention; Mr Fayed if honorific is needed); the son who died in Paris in 1997 was Dodi Fayed</p>,\n",
       " <p class=\"dcr-1myha1i\"><strong>Alfonsín, Raúl</strong><br/>(1927-2009) president of Argentina from 1983-89</p>,\n",
       " <p class=\"dcr-1myha1i\"><strong>alfresco</strong></p>,\n",
       " <p class=\"dcr-1myha1i\"><strong>algae</strong><br/>plural of alga</p>,\n",
       " <p class=\"dcr-1myha1i\"><strong>al-Hawl</strong><br/>not al-Hol for the camp in northern Syria</p>,\n",
       " <p class=\"dcr-1myha1i\"><strong>al-Houthi, Abdulmalik</strong><br/>leader of the Houthi movement in Yemen. Call him Houthi at second mention</p>,\n",
       " <p class=\"dcr-1myha1i\"><strong>Ali, Muhammad</strong><br/>was Cassius Clay until 1964</p>,\n",
       " <p class=\"dcr-1myha1i\"><strong>alibi</strong><br/>being somewhere else; not synonymous with excuse</p>,\n",
       " <p class=\"dcr-1myha1i\"><strong>alice band</strong><br/>as worn by Alice in Lewis Carroll’s Through the Looking-Glass, and What Alice Found There (1871) and more recently David Beckham</p>,\n",
       " <p class=\"dcr-1myha1i\"><strong>Alice books</strong><br/>Alice’s Adventures in Wonderland, by Lewis Carroll (Charles Lutwidge Dodgson), was published in 1865; its sequel, which followed six years later, is called Through the Looking-Glass, and What Alice Found There.<br/>Note that they are not called “Alice in Wonderland” and “Alice Through the Looking-Glass”</p>,\n",
       " <p class=\"dcr-1myha1i\"><strong>A-list</strong><br/>etc, but to refer to “C-list celebrities” and its variations has become tedious. An edition of G2 referred to “D-list celebrities” and, less than hilariously, in a separate piece about the same reality TV show, “Z-list celebrities”</p>,\n",
       " <p class=\"dcr-1myha1i\"><strong>Al Jazeera</strong></p>,\n",
       " <p class=\"dcr-1myha1i\"><strong>alkyl nitrite</strong><br/>not nitrate; commonly known as poppers<br/></p>,\n",
       " <p class=\"dcr-1myha1i\"><strong>Allah</strong><br/>Arabic for “the God”. Both words refer to the same concept: there is no major difference between God in the Old Testament and Allah in Islam. Therefore it makes sense to talk about “God” in an Islamic context and to use “Allah” in quotations or for literary effect</p>,\n",
       " <p class=\"dcr-1myha1i\"><strong>Allahu Akbar</strong><br/>“God is greatest”</p>,\n",
       " <p class=\"dcr-1myha1i\"><strong>Allawi, Ayad</strong><br/>Iraqi politician</p>,\n",
       " <p class=\"dcr-1myha1i\"><strong>Allende, Isabel</strong><br/>Chilean author; her father was a cousin of Salvador Allende</p>,\n",
       " <p class=\"dcr-1myha1i\"><strong>Allende, Salvador</strong><br/>Chilean president, overthrown and killed in 1973</p>,\n",
       " <p class=\"dcr-1myha1i\"><strong>allies</strong><br/>second world war allies, the allied invasion, etc</p>,\n",
       " <p class=\"dcr-1myha1i\"><strong>all mouth and trousers</strong><br/>not “all mouth and no trousers”</p>,\n",
       " <p class=\"dcr-1myha1i\"><strong>all right</strong><br/>has traditionally been regarded as right, and alright as not all right (although the 1965 Who song, much loved by generations of headline writers and still widely quoted today, was The Kids are Alright).</p>,\n",
       " <p class=\"dcr-1myha1i\">Kingsley Amis in The King’s English said alright was “gross, crass, coarse and to be avoided” but admitted this was “a rule without a reason”.</p>,\n",
       " <p class=\"dcr-1myha1i\">Note, however, the difference between “she got the answers all right” and “she got the answers, alright!”</p>,\n",
       " <p class=\"dcr-1myha1i\"><strong>All Souls College</strong><br/>Oxford, no apostrophe</p>,\n",
       " <p class=\"dcr-1myha1i\"><strong>all together</strong><br/>as one united body: “We are all in it together”</p>,\n",
       " <p class=\"dcr-1myha1i\"><strong>altogether</strong> <br/>completely, totally: “That’s an altogether different matter”</p>,\n",
       " <p class=\"dcr-1myha1i\"><strong>“alt-right”<br/></strong>use once and in quotes at first mention; use far right at any subsequent mentions. Note: far right (noun) and far-right (adjective). More specific descriptions can be used where relevant when mentioning individuals associated with the movement, but such descriptions should be evidence-based.</p>,\n",
       " <p class=\"dcr-1myha1i\"><strong>al-Maliki, Nouri</strong><br/>(not Nuri) became prime minister of Iraq in 2006</p>,\n",
       " <p class=\"dcr-1myha1i\"><strong>Almo</strong><br/>arm’s-length management organisation</p>,\n",
       " <p class=\"dcr-1myha1i\"><strong>Almodóvar, Pedro</strong><br/>Spanish film-maker</p>,\n",
       " <p class=\"dcr-1myha1i\"><strong>alpha male</strong></p>,\n",
       " <p class=\"dcr-1myha1i\"><strong>al-Qaida</strong><br/>it means “the base”</p>,\n",
       " <p class=\"dcr-1myha1i\"><strong>al-Quds</strong><br/>force of the Iranian Revolutionary Guard Corps; not Quds, Qods</p>,\n",
       " <p class=\"dcr-1myha1i\"><strong>al-Sadr, Moqtada</strong><br/>creator of the Mahdi army, or as the magazine Red Pepper described it: “Moqtada al-Sadr’s not-so-barmy army”</p>,\n",
       " <p class=\"dcr-1myha1i\"><strong>alsatian</strong><br/>dog</p>,\n",
       " <p class=\"dcr-1myha1i\"><strong>Alsatian</strong><br/>person from Alsace</p>,\n",
       " <p class=\"dcr-1myha1i\"><strong>al-Shabaab</strong><br/>Islamist insurgency group in Somalia; it means “the youth”. Singular, not plural</p>,\n",
       " <p class=\"dcr-1myha1i\"><strong>also</strong><br/>often redundant</p>,\n",
       " <p class=\"dcr-1myha1i\"><strong>alter ego</strong><br/>not “altar ego”, as we have been known to spell it</p>,\n",
       " <p class=\"dcr-1myha1i\"><strong>alternative</strong><br/>normally a choice between two courses of action; if there are more than two, option or choice may be preferred; beware the trend to use “alternate” instead of alternative: in a piece about French politics we wrote “in this juddering alternate reality …”</p>,\n",
       " <p class=\"dcr-1myha1i\"><strong>alumna (female), alumnus (male)</strong><br/>plural alumni, or alumnae for all-female institutions; in the UK graduate is preferable</p>,\n",
       " <p class=\"dcr-1myha1i\"><strong>al-Zaidi, Muntazer</strong><br/>Iraqi journalist who served a jail sentence for throwing his shoes at the then US president, George Bush</p>,\n",
       " <p class=\"dcr-1myha1i\"><strong>Alzheimer’s disease</strong></p>,\n",
       " <p class=\"dcr-1myha1i\"><strong>Amazon</strong><br/>normally no need for com or co.uk</p>,\n",
       " <p class=\"dcr-1myha1i\"><strong>Amazon Prime</strong></p>,\n",
       " <p class=\"dcr-1myha1i\"><strong>Amazon Prime Video<br/></strong>for the TV package, although these days it prefers to call itself simply Prime Video</p>,\n",
       " <p class=\"dcr-1myha1i\"><strong>ambassador</strong><br/>lc, eg the British ambassador to Washington; “ambassador, you are spoiling us” has become a headline cliche</p>,\n",
       " <p class=\"dcr-1myha1i\"><strong>ambience</strong><br/>not ambiance</p>,\n",
       " <p class=\"dcr-1myha1i\"><strong>ambiguity</strong><br/>a common problem in headlines when the subject is omitted from the past tense of a verb, as in this example from the paper:</p>,\n",
       " <p class=\"dcr-1myha1i\">Westworld extras allegedly asked to participate in ‘graphic sexual situations’</p>,\n",
       " <p class=\"dcr-1myha1i\">Did they allegedly ask, or were they allegedly asked? A simple “were” before “asked” would have fixed this.<strong> </strong>Similarly:</p>,\n",
       " <p class=\"dcr-1myha1i\">Labour warned of financial crash (did someone warn Labour of an impending crash, or did Labour warn someone else?)</p>,\n",
       " <p class=\"dcr-1myha1i\">Tories paid millions to avoid tax <br/>Here not only does the reader have to ask whether the Tories paid millions or were paid millions, but also whether they paid millions of pounds or millions of people, and whether the Tories’ aim was to avoid tax or to enable the millions to avoid tax. This is very poor editing</p>,\n",
       " <p class=\"dcr-1myha1i\"><strong>ambulance services</strong><br/>These are NHS trusts, so lc for everything that is generic, eg London ambulance service, East of England ambulance service, South East Coast ambulance service</p>,\n",
       " <p class=\"dcr-1myha1i\"><strong>amendments</strong><br/>to the US constitution like this: fifth amendment, 18th amendment, etc</p>,\n",
       " <p class=\"dcr-1myha1i\"><strong>America, Americans</strong><br/>the country is generally the United States or US, although its citizens are Americans; we should remember that America includes all of North, Central and South America</p>,\n",
       " <p class=\"dcr-1myha1i\"><strong>“America first”</strong><br/>A phrase <a data-link-name=\"in body link\" href=\"http://www.adl.org/press-center/press-releases/anti-semitism-usa/adl-urges-donald-trump-to-reconsider-america-first.html?referrer=https://www.theguardian.com/us-news/live/2017/jan/20/donald-trump-inauguration-the-world-holds-its-breath-live-coverage?page=with:block-58827bebe4b01065cf598f5d#.WLf58zaLTAw\">denounced by the Anti-Defamation League</a> for its links to 1940s Nazi sympathisers</p>,\n",
       " <p class=\"dcr-1myha1i\"><strong>American Civil Liberties Union</strong><br/>not American Civil Rights Union</p>,\n",
       " <p class=\"dcr-1myha1i\"><strong>American English</strong><br/>Follow US spellings for proper nouns, eg Centers for Disease Control and Prevention, Department of Defense, Labor Day, One World Trade Center, Ann Arbor, Pearl Harbor, World Health Organization</p>,\n",
       " <p class=\"dcr-1myha1i\"><strong>American universities</strong><br/>Take care: “University of X” is not the same as “X University”; most states have two large public universities, eg University of Kentucky and Kentucky State University, University of Illinois and Illinois State University, etc.</p>,\n",
       " <p class=\"dcr-1myha1i\">Do not call Johns Hopkins University “John Hopkins” or Stanford University “Stamford”</p>,\n",
       " <p class=\"dcr-1myha1i\"><strong>America’s Cup</strong><br/>sailing trophy named after the schooner America, its first winner</p>,\n",
       " <p class=\"dcr-1myha1i\"><strong>Amhrán na bhFiann</strong><br/>Irish national anthem</p>,\n",
       " <p class=\"dcr-1myha1i\"><strong>Amicus</strong><br/>trade union formed by a merger between the AEEU and MSF, now part of Unite after a further merger with the TGWU</p>,\n",
       " <p class=\"dcr-1myha1i\"><strong>amid</strong><br/>not amidst.</p>,\n",
       " <p class=\"dcr-1myha1i\">“James warned, however, that the second half of the year was likely to prove more challenging overall amid a weak consumer backdrop.”</p>,\n",
       " <p class=\"dcr-1myha1i\">Things fall <em class=\"dcr-1myha1i\">against</em> a backdrop, not amid one. If something is amid the backdrop, it’s part of it, <em class=\"dcr-1myha1i\">and thus completely unremarkable</em>. Some cliches make the news sound tired; this one makes the news sound as if it’s not news at all</p>,\n",
       " <em class=\"dcr-1myha1i\">against</em>,\n",
       " <em class=\"dcr-1myha1i\">and thus completely unremarkable</em>,\n",
       " <p class=\"dcr-1myha1i\"><strong>amok</strong><br/>not amuck</p>,\n",
       " <p class=\"dcr-1myha1i\"><strong>among</strong><br/>not amongst</p>,\n",
       " <p class=\"dcr-1myha1i\"><strong>among or between?</strong><br/>Whatever you may have been told, between is not limited to two parties. It is appropriate when the relationship is essentially reciprocal: fighting between the many peoples of Yugoslavia, treaties between European countries, etc; among belongs to distributive relationships: shared among, etc</p>,\n",
       " <p class=\"dcr-1myha1i\"><strong>amount or number?</strong><br/>amount refers to a quantity, number to something that can be counted, eg an enormous amount of energy was exerted by a small number of people</p>,\n",
       " <p class=\"dcr-1myha1i\"><strong>ampersand</strong><br/>Use in company names when the company does: Johnson &amp; Johnson, Marks &amp; Spencer, P&amp;O, etc, but use “and” in the names of government departments and agencies: Department of Work and Pensions, Advanced Research and Invention Agency etc</p>,\n",
       " <p class=\"dcr-1myha1i\"><strong>anaesthetic</strong></p>,\n",
       " <p class=\"dcr-1myha1i\"><strong>analysis</strong><br/>plural analyses</p>,\n",
       " <p class=\"dcr-1myha1i\"><strong>anarchism</strong><br/>a political philosophy that advocates stateless societies, holding the state to be undesirable, unnecessary and harmful.</p>,\n",
       " <p class=\"dcr-1myha1i\">The term “anarchist” is bandied about carelessly, often used by politicians and the media to denigrate opponents of the status quo, and should be used with care; “self-styled anarchist” should be avoided altogether</p>,\n",
       " <p class=\"dcr-1myha1i\"><strong>ancestors</strong><br/>precede descendants; we frequently manage to get them the wrong way round</p>,\n",
       " <p class=\"dcr-1myha1i\"><strong>and/or</strong><br/>This is horrible. Make your mind up and say either “and” or “or” – whichever is more appropriate. The same applies to the phrase “if and when”</p>,\n",
       " <p class=\"dcr-1myha1i\"><strong>Andalucía</strong></p>,\n",
       " <p class=\"dcr-1myha1i\"><strong>Anderson shelter</strong><br/>not Andersen</p>,\n",
       " <p class=\"dcr-1myha1i\"><strong>… And You Will Know Us By The Trail Of Dead</strong></p>,\n",
       " <p class=\"dcr-1myha1i\"><strong>Angkor Wat</strong><br/>Angkor Wat is only one of the 100 or so temples of Angkor, albeit the best known (“wat” means temple)</p>,\n",
       " <p class=\"dcr-1myha1i\"><strong>Anglesey<br/></strong>Always also include its Welsh name, Ynys Môn, possibly in brackets at first mention. Anglesey is the name of the island; Isle of Anglesey is the name of its county, which also includes nearby Holy Island, and Ynys Môn is the name of the UK parliament and Senedd constituency that covers the same area. Ynys Môn is the Welsh name for both the island and the county</p>,\n",
       " <p class=\"dcr-1myha1i\"><strong>anglicise, anglophile, anglophone</strong></p>,\n",
       " <p class=\"dcr-1myha1i\"><strong>animals</strong><br/>pronoun “it” unless gender established</p>,\n",
       " <p class=\"dcr-1myha1i\">Animal breeds are usually lowercase, eg gloucestershire old spot, friesian, belted galloway, shetland pony, but note English longhorn, Welsh cob, British saddleback</p>,\n",
       " <p class=\"dcr-1myha1i\"><strong>annex</strong><br/>verb; annexe noun; I am going to annex the annexe for the afternoon</p>,\n",
       " <p class=\"dcr-1myha1i\"><strong>anniversaries</strong><br/>first anniversary, 10th anniversary etc; not one-year anniversary, 10-year anniversary. There is no such thing as a six-month anniversary</p>,\n",
       " <p class=\"dcr-1myha1i\"><strong>anorexic</strong><br/>is not a superlative of thin. Anorexia is an illness. Like schizophrenia, it should not be used as a cheap and lazy metaphor. Anyone who thinks of using a phrase such as “positively anorexic” should think again</p>,\n",
       " <p class=\"dcr-1myha1i\"><strong>Ansaphone</strong><br/>TM; use answering machine or answerphone</p>,\n",
       " <p class=\"dcr-1myha1i\"><strong>antenatal</strong></p>,\n",
       " <p class=\"dcr-1myha1i\"><strong>antenna</strong><br/>(insect) plural antennae; (radio) plural antennas</p>,\n",
       " <p class=\"dcr-1myha1i\"><strong>anti-ballistic missile treaty</strong></p>,\n",
       " <p class=\"dcr-1myha1i\"><strong>antichrist</strong></p>,\n",
       " <p class=\"dcr-1myha1i\"><strong>anticipate</strong><br/>Purists say this should not be used to mean expect, but expressions like “they did not anticipate any trouble” are now normal usage<br/></p>,\n",
       " <p class=\"dcr-1myha1i\"><strong>anticlimax</strong></p>,\n",
       " <p class=\"dcr-1myha1i\"><strong>antidepressants</strong></p>,\n",
       " <p class=\"dcr-1myha1i\"><strong>antidisestablishmentarianism</strong><br/>position adopted by those opposed to the disestablishment of the Church of England.</p>,\n",
       " <p class=\"dcr-1myha1i\">Not a good headline word<br/></p>,\n",
       " <p class=\"dcr-1myha1i\"><strong>antihero</strong></p>,\n",
       " <p class=\"dcr-1myha1i\"><strong>antimalarial</strong></p>,\n",
       " <p class=\"dcr-1myha1i\"><strong>antipodean, antipodes</strong><br/>terms Australians themselves rarely use; avoid</p>,\n",
       " <p class=\"dcr-1myha1i\"><strong>antisemitic, antisemitism</strong><br/>no hyphen: it does not mean “anti-Semitic”</p>,\n",
       " <p class=\"dcr-1myha1i\"><strong>antislavery</strong></p>,\n",
       " <p class=\"dcr-1myha1i\"><strong>antisocial</strong></p>,\n",
       " <p class=\"dcr-1myha1i\"><strong>anti-vaxxer</strong><br/>a person who is opposed to vaccinations</p>,\n",
       " <p class=\"dcr-1myha1i\"><strong>anti-war</strong></p>,\n",
       " <p class=\"dcr-1myha1i\"><strong>any more</strong><br/>Please do not say “anymore” any more</p>,\n",
       " <p class=\"dcr-1myha1i\"><strong>ap Iorwerth, Rhun<br/></strong>leader of Plaid Cymru. Lowercase a, whether you include his first name or not. So: “Speaking in Cardiff, ap Iorwerth said …”</p>,\n",
       " <p class=\"dcr-1myha1i\"><strong>apex</strong><br/>plural apexes</p>,\n",
       " <p class=\"dcr-1myha1i\"><strong>apostrofly</strong><br/>“an insect that lands at random on the printed page, depositing an apostrophe wherever it lands” according to the Guardian’s former readers’ editor</p>,\n",
       " <p class=\"dcr-1myha1i\"><strong>apostrophes</strong><br/>used to indicate a missing letter or letters (can’t, we’d) or a possessive (David’s book).</p>,\n",
       " <p class=\"dcr-1myha1i\">Don’t let anyone tell you that apostrophes don’t matter and we would be better off without them. Consider these four phrases, each of which means something different:<br/>my sister’s friend’s books (refers to one sister and her friend).<br/>my sister’s friends’ books (one sister with lots of friends).<br/>my sisters’ friend’s books (more than one sister, and their friend).<br/>my sisters’ friends’ books (more than one sister, and their friends).</p>,\n",
       " <p class=\"dcr-1myha1i\">The possessive in words and names ending in S normally takes an apostrophe followed by a second S (Jones’s, James’s), but be guided by pronunciation and use the plural apostrophe where it helps: Mephistopheles’, Waters’, Hedges’ rather than Mephistopheles’s, Waters’s, Hedges’s.</p>,\n",
       " <p class=\"dcr-1myha1i\">Plural nouns that do not end in S take an apostrophe and S in the possessive: children’s games, old folk’s home, people’s republic, etc.</p>,\n",
       " <p class=\"dcr-1myha1i\">Phrases such as butcher’s knife, collector’s item, cow’s milk, goat’s cheese, pig’s blood, hangman’s noose, writer’s cramp, etc are treated as singular.</p>,\n",
       " <p class=\"dcr-1myha1i\">Use apostrophes in phrases such as two days’ time, 12 years’ imprisonment and six weeks’ holiday, where the time period (two days) modifies a noun (time), but not in nine months pregnant or three weeks old, where the time period is adverbial (modifying an adjective such as pregnant or old) – if in doubt, test with a singular such as one day’s time, one month pregnant.</p>,\n",
       " <p class=\"dcr-1myha1i\">Proper names that contain an apostrophe stay the same in the possessive: McDonald’s burgers may be delicious but Sainsbury’s are just as good.</p>,\n",
       " <p class=\"dcr-1myha1i\">Some shops use an apostrophe, wrongly, to indicate a plural (“pea’s”), but will generally omit the apostrophe when one is actually required (“new seasons asparagus”), a phenomenon sometimes referred to as the greengrocer’s (or grocer’s) apostrophe. Try to avoid this</p>,\n",
       " <p class=\"dcr-1myha1i\"><strong>app</strong><br/>an application for, typically, a mobile phone</p>,\n",
       " <p class=\"dcr-1myha1i\"><strong>appal</strong><br/>but as the former Prince of Wales might have said, it really is appalling</p>,\n",
       " <p class=\"dcr-1myha1i\"><strong>apparatchik</strong></p>,\n",
       " <p class=\"dcr-1myha1i\"><strong>appeal</strong><br/>In British English you appeal against a decision, verdict, etc, you do not “appeal the verdict”. After we reported on 9 June 2010 that a convicted murderer “successfully appealed the sentence”, a despairing reader wrote: “This usage seems to be occurring more and more, sometimes even in headlines. Do Guardian journalists not read the style guide?” Not all of them, evidently</p>,\n",
       " <p class=\"dcr-1myha1i\"><strong>appendix</strong><br/>plural appendices</p>,\n",
       " <p class=\"dcr-1myha1i\"><strong>Apple</strong><br/>no longer Apple Computer</p>,\n",
       " <p class=\"dcr-1myha1i\"><strong>apples</strong><br/>lc: cox’s orange pippin, golden delicious, granny smith, etc</p>,\n",
       " <p class=\"dcr-1myha1i\"><strong>appraise</strong><br/>to evaluate</p>,\n",
       " <p class=\"dcr-1myha1i\"><strong>apprise</strong><br/>to inform</p>,\n",
       " <p class=\"dcr-1myha1i\"><strong>April Fools’ Day</strong><br/>also known, less commonly nowadays, as All Fools’ Day; an individual prank, or the victim of one, is an April fool, so you might say “one of the greatest April fools was the Guardian’s <a data-link-name=\"in body link\" href=\"http://image.guardian.co.uk/sys-files/Guardian/documents/2012/03/23/SanSerriffe1.pdf\">San Serriffe issue of 1977</a> – it made April fools of all who were taken in”</p>,\n",
       " <p class=\"dcr-1myha1i\"><strong>apropos</strong><br/>Used most commonly to mean “with regard to”, it does not need a preposition, so “apropos your question ... “ But note the idiomatic “apropos of nothing ...” which means something like “changing the subject” or “incidentally”.</p>,\n",
       " <p class=\"dcr-1myha1i\">Used to mean “pertinent” or “relevant to”, now rather rare, you might say “the thought was apropos to this” or, even more quaintly, “the point was apropos”.</p>,\n",
       " <p class=\"dcr-1myha1i\">The French idiom “à propos de bottes” (“with regard to boots”), meaning without rhyme or reason, was used by, among others, George Orwell</p>,\n",
       " <p class=\"dcr-1myha1i\"><strong>aquarium</strong><br/>plural aquariums</p>,\n",
       " <p class=\"dcr-1myha1i\"><strong>Arab</strong><br/>Both a noun and an adjective, and the preferred adjective when referring to Arab things in general, eg Arab history, Arab traditions. Arabic usually refers to the language and literature: “the Arabic press” means newspapers written in Arabic, while “the Arab press” would include newspapers produced by Arabs in other languages.</p>,\n",
       " <p class=\"dcr-1myha1i\">There is no simple definition of an Arab. At an international level, the 22 members of the Arab League can safely be described as Arab countries: Algeria, Bahrain, Comoros, Djibouti, Egypt, Iraq, Jordan, Kuwait, Lebanon, Libya, Mauritania, Morocco, Oman, Palestine, Qatar, Saudi Arabia, Somalia, Sudan, Syria, Tunisia, United Arab Emirates, and Yemen. At a human level, there are substantial groups within those countries – the Berbers of north Africa and the Kurds, for example – who do not regard themselves as Arabs.</p>,\n",
       " <p class=\"dcr-1myha1i\"><strong>Arabic names</strong><br/>Though Arabic has only three vowels – a, i and u – it has several consonants that have no equivalent in the Roman alphabet. For instance, there are two kinds of s, d and t. There are also two glottal sounds. This means there are dozens of ways of writing the former Libyan leader Muammar Gaddafi’s name in English, and a reasonable argument can be made for adopting almost any of them. With no standard approach to transliteration agreed by the western media, we must try to balance consistency, comprehensibility and familiarity – which often puts a strain on all three.</p>,\n",
       " <p class=\"dcr-1myha1i\">Typically, Arabs have at least three names. In some cases the first or second name may be the one that is most used, and this does not imply familiarity (Arabs often address foreigners politely as “Mr John” or “Dr David”). Often Arabs also have familiar names that have no connection with the names on their identity cards: a man might become known after the birth of his first son as “Abu Ahmad”, and a woman as “Umm Ahmad”, the father or mother of Ahmad (eg the Palestinian leader Ahmed Qureia is commonly known as Abu Ala).</p>,\n",
       " <p class=\"dcr-1myha1i\">Where a particular spelling has become widely accepted through usage we should retain it. Where an individual with links to the west has clearly adopted a particular spelling of his or her own name, we should respect that. For breaking news and stories using names for which we have no established style, we take the lead given by Reuters wire copy.</p>,\n",
       " <p class=\"dcr-1myha1i\">Note also that names in some parts of the Arab world have become gallicised, while others have become anglicised, eg the leading Egyptian film director Youssef Chahine uses a French spelling instead of the English transliteration, Shaheen.</p>,\n",
       " <p class=\"dcr-1myha1i\"><em class=\"dcr-1myha1i\">Some guidelines (for use particularly where there is no established transliteration)</em></p>,\n",
       " <em class=\"dcr-1myha1i\">Some guidelines (for use particularly where there is no established transliteration)</em>,\n",
       " <p class=\"dcr-1myha1i\"><strong>al-</strong> <br/>Means “the”. In names it is not capitalised, eg Ahmad al-Saqqaf, and can be dropped after the first mention (Mr Saqqaf). For placenames we drop it altogether. Sometimes it appears as as- or ash- or ad- or ul-: these should be ignored and can be safely rewritten as al-. But some Arabs, including Syrians and Egyptians, prefer to use el- in place of al-. Exceptions: by convention, Allah (al-Lah, literally “the God”) is written as one word and capitalised; and in Saudi royal names, Al Saud is correct (in this case, “al” is actually “aal” and does not mean “the”).</p>,\n",
       " <p class=\"dcr-1myha1i\"><strong>abdul, abu and bin</strong> <br/>These are not self-contained names, but are connected to the name that follows: abdul means “slave of … “ and so cannot correctly be used on its own. There are standard combinations, “slave of the merciful one”, “slave of the generous one”, etc, which all indicate that the person is a servant of God. In transliteration, “abd” (slave) is lowercase, eg Ahmad abd al-Rahman al-Saqqaf, except when used at the start of a name; abu (father of) and bin (son of) are similar. When they appear in the middle of a name they should be lower case and are used in combination with the following part of the name: Faisal abu Ahmad al-Saqqaf, Faisal bin Ahmad al-Saqqaf. Despite the above, some people are actually known as “Abdul”. This is more common among non-Arab Muslims. And some Arabs run “abd” or “abu” into the following word, eg the writer Abdelrahman Munif.</p>,\n",
       " <p class=\"dcr-1myha1i\"><strong>Muhammad</strong><br/>Our style for the prophet’s name and for most Muhammads living in Arab countries, though where someone’s preferred spelling is known we respect it, eg Mohamed Al Fayed, Mohamed ElBaradei</p>,\n",
       " <p class=\"dcr-1myha1i\"><strong>Muhandis/Mohandes, Qadi</strong><br/>Be wary of names where the first word is Muhandis or Qadi: these are honorary titles, meaning engineer and judge respectively</p>,\n",
       " <p class=\"dcr-1myha1i\"><strong>European surnames of Arabic origin</strong><br/>The guidelines above do not apply in examples such as the French labour minister, Myriam El Khomri. She is French born and only has one surname, which appears on her birth certificate and passport, written in the Latin alphabet; there is no other spelling. So she should be referred to as Myriam El Khomri at first mention and El Khomri thereafter.</p>,\n",
       " <p class=\"dcr-1myha1i\">Similarly, the two 2016 Brussels airport suicide bombers, Ibrahim and Khalid El Bakraoui, were Belgian born. The Belgian legal system and prosecutors refer to them by the surname El Bakraoui, and we should too</p>,\n",
       " <p class=\"dcr-1myha1i\"><strong>Arab spring</strong></p>,\n",
       " <p class=\"dcr-1myha1i\"><strong>Aran Island</strong><br/>is off Co Donegal and the Aran Islands off Co Galway in western Ireland; the Isle of Arran is the largest island in the Firth of Clyde in Scotland. Aran sweaters, whether Irish or Scottish, come with an initial cap A</p>,\n",
       " <p class=\"dcr-1myha1i\"><strong>arcane</strong><br/>esoteric; <strong>archaic</strong> antiquated</p>,\n",
       " <p class=\"dcr-1myha1i\"><strong>archbishops</strong><br/>It is not normally necessary to use their formal title, which for both Anglicans and Catholics is Most Rev: so Justin Welby, the archbishop of Canterbury, at first mention, thereafter Welby or the archbishop (except in leading articles, where he is Mr Welby); Vincent Nichols, the archbishop of Westminster, on first mention, subsequently Nichols or the archbishop</p>,\n",
       " <p class=\"dcr-1myha1i\"><strong>archdeacon</strong><br/>the Ven Paul Olive, archdeacon of Farringdon, at first mention; thereafter Olive, or the archdeacon</p>,\n",
       " <p class=\"dcr-1myha1i\"><strong>archery</strong><br/>arrows are shot, rather than fired; and if they hit the centre of the target, it is a gold rather than a bullseye</p>,\n",
       " <p class=\"dcr-1myha1i\"><strong>archetype or stereotype?</strong><br/>An archetype is a perfect or typical specimen, an original model or pattern, or prototype.</p>,\n",
       " <p class=\"dcr-1myha1i\">A stereotype is based on simplistic generalisations about a particular group. So the matriarch in a typical Woody Allen film might be described as a stereotypical, not archetypal, Jewish mother</p>,\n",
       " <p class=\"dcr-1myha1i\"><strong>archipelago</strong><br/>plural archipelagos</p>,\n",
       " <p class=\"dcr-1myha1i\"><strong>architect or designer?</strong><br/>The title of architect is protected under UK law and should only be used to describe someone who is registered as such. If someone works on building design but is not registered as an architect they are most likely to be called a designer, eg Thomas Heatherwick<br/><br/><strong>arch-rival</strong><br/>an arch rival would mean something different</p>,\n",
       " <p class=\"dcr-1myha1i\"><strong>Ardoyne</strong><br/>(Belfast), not “the Ardoyne”</p>,\n",
       " <p class=\"dcr-1myha1i\"><strong>area of outstanding natural beauty (AONB)</strong></p>,\n",
       " <p class=\"dcr-1myha1i\"><strong>Argentina, Argentinian</strong></p>,\n",
       " <p class=\"dcr-1myha1i\"><strong>arguably</strong><br/>unarguably one of the most overused words in the language</p>,\n",
       " <p class=\"dcr-1myha1i\"><strong>argyle sweater<br/><br/>Armageddon</strong></p>,\n",
       " <p class=\"dcr-1myha1i\"><strong>armed forces, armed services</strong><br/>the army, the British army, the navy, but Royal Navy, Royal Air Force or RAF</p>,\n",
       " <p class=\"dcr-1myha1i\"><strong>armed forces ranks</strong><br/>Use as abbreviated below on first mention, then just surname, eg Col Tommy Smith, thereafter Smith.</p>,\n",
       " <p class=\"dcr-1myha1i\">Army: Gen, Lt Gen, Maj Gen, Brig, Col, Lt Col, Maj, Capt, Lt, 2Lt, OCdt, WOI, WOII, SSgt, CSgt, Sgt, CoH, L/CoH, Cpl, Bdr, L/Cpl, L/Bdr, Pte</p>,\n",
       " <p class=\"dcr-1myha1i\">Navy: Adm, V-Adm, R Adm, Capt, Cmdr, Lt Cmdr, Lt, SLt, Mid, OCdt, WOI, WOII, CPO, PO, LH, AB, Mne</p>,\n",
       " <p class=\"dcr-1myha1i\">RAF: Gp Capt, Wg Cmdr, Sqn Ldr, Flt Lt, Fg Off, Plt Off, MAcr, WO, Ft Sgt, Ch Tech, Sgt, Cpl, Jr Tech, L/Cpl, SAC, LAC, AC</p>,\n",
       " <p class=\"dcr-1myha1i\">Do not abbreviate: Field Marshal, Admiral of the Fleet, Commodore, Marshal of the RAF, Air Chief Marshal, Air Marshal, Air Vice-Marshal, Air Commodore</p>,\n",
       " <p class=\"dcr-1myha1i\"><strong>Armistice Day<br/></strong>but the armistice</p>,\n",
       " <p class=\"dcr-1myha1i\"><strong>arms akimbo</strong><br/>hands on hips, elbows out; it is surprising how often the phrase “legs akimbo” turns up in the paper, “suggesting that such a posture exists, but lacks a word to define it”, as David McKie wrote.</p>,\n",
       " <p class=\"dcr-1myha1i\">The radical theatre group in the BBC TV comedy series The League of Gentlemen was called Legz Akimbo</p>,\n",
       " <p class=\"dcr-1myha1i\"><strong>army regiments<br/></strong>for a detailed guide to the organisation of the British army see <a data-link-name=\"in body link\" href=\"https://www.theguardian.com/uk-news/2006/jun/01/british-army-personnel-organisation\">here</a></p>,\n",
       " <p class=\"dcr-1myha1i\"><strong>around</strong><br/>about or approximately are better, eg “about £1m” or “approximately 2,000 people”</p>,\n",
       " <p class=\"dcr-1myha1i\"><strong>around or round?</strong><br/>We were driving around aimlessly all weekend; it nearly drove me round the bend</p>,\n",
       " <p class=\"dcr-1myha1i\"><strong>arranged marriages</strong><br/>are a traditional and perfectly acceptable form of wedlock across southern Asia and within the Asian community in Britain; they should not be confused with forced marriages, which are arranged without the consent of one or both partners, and have been widely criticised</p>,\n",
       " <p class=\"dcr-1myha1i\"><strong>arse</strong><br/>British English; <strong>ass</strong> American English</p>,\n",
       " <p class=\"dcr-1myha1i\"><strong>arsing about</strong><br/>rather than arseing</p>,\n",
       " <p class=\"dcr-1myha1i\"><strong>art movements</strong><br/>are generally lowercase, eg art deco, art nouveau, cubism, dadaism, expressionism, gothic, impressionism, pop art, surrealism, etc, but note Bauhaus, Modern (in the sense of Modern British, to distinguish it from “modern art”, pre-Raphaelite, Romantic (to differentiate between a romantic painting and a Romantic painting)</p>,\n",
       " <p class=\"dcr-1myha1i\"><strong>artefact</strong></p>,\n",
       " <p class=\"dcr-1myha1i\"><strong>artificial intelligence</strong><br/>AI on second mention and in headlines. Be careful not to overuse. An AI system is one able to improve from previous experiences or one created through training and learning rather than human coding or simple algorithms</p>,\n",
       " <p class=\"dcr-1myha1i\"><strong>artist</strong><br/>not artiste (except, possibly, in a historical context)</p>,\n",
       " <p class=\"dcr-1myha1i\"><strong>Arts and Crafts movement</strong></p>,\n",
       " <p class=\"dcr-1myha1i\"><strong>Arts Council England, Arts Council of Wales, Creative Scotland</strong></p>,\n",
       " <p class=\"dcr-1myha1i\"><strong>as ... as</strong><br/>“The hawthorn may be as old, if not older, than the stone tower of the windmill,” which appeared in the paper, should have read: “The hawthorn may be as old as, if not older than, the stone tower of the windmill.”</p>,\n",
       " <p class=\"dcr-1myha1i\">A common error that is quite easy to spot if you try to read it without the phrase inside the commas: as old ... than (wrong); as old ... as (right)</p>,\n",
       " <p class=\"dcr-1myha1i\"><strong>as or since?<br/></strong>“As” is causal: I cannot check the online style guide as the connection is down; “since” is temporal: Luckily, I have had the latest edition of Guardian Style on my desk since it was published</p>,\n",
       " <p class=\"dcr-1myha1i\"><strong>asbo</strong><br/>antisocial behaviour order</p>,\n",
       " <p class=\"dcr-1myha1i\"><strong>ascendancy, ascendant</strong></p>,\n",
       " <p class=\"dcr-1myha1i\"><strong>Asean</strong><br/>Association of Southeast (sic) Asian Nations</p>,\n",
       " <p class=\"dcr-1myha1i\"><strong>Ash</strong><br/>Action on Smoking and Health</p>,\n",
       " <p class=\"dcr-1myha1i\"><strong>Ashton, Catherine</strong><br/>The former EU foreign minister (strictly “high representative of the union for foreign affairs and security policy”) is Catherine Ashton at first mention, Lady Ashton at second mention, and thereafter simply Ashton</p>,\n",
       " <p class=\"dcr-1myha1i\"><strong>Ashura</strong><br/>a day of voluntary fasting for Muslims; Shia Muslims also commemorate the martyrdom of Hussein, a grandson of the prophet, so for them it is not a festival but a day of mourning</p>,\n",
       " <p class=\"dcr-1myha1i\"><strong>Asio</strong><br/>Australian Security and Intelligence Service, the country’s domestic counter-intelligence and security agency (the equivalent of Britain’s MI5)</p>,\n",
       " <p class=\"dcr-1myha1i\"><strong>Asperger syndrome</strong><br/>but it is acceptable to call it Asperger’s for short. Some people dislike the name because of the association with Hans Asperger, or consider it outdated, so it is better to use the broader term “autistic” unless you know a person prefers to say they have Asperger’s, in which case you should respect that preference.<br/><br/>Do not use such witticisms as “Asperger-ish men”, which had to be removed from our website<br/></p>,\n",
       " <p class=\"dcr-1myha1i\"><strong>aspirin</strong></p>,\n",
       " <p class=\"dcr-1myha1i\"><strong>al-Assad, Bashar</strong><br/>became president of Syria in 2000 after the death of his father, Hafez al-Assad</p>,\n",
       " <p class=\"dcr-1myha1i\"><strong>assassin, assassination</strong><br/>the murder of prominent political figures rather than, say, celebrities</p>,\n",
       " <p class=\"dcr-1myha1i\"><strong>assisted dying</strong><br/>is preferable to “assisted suicide”</p>,\n",
       " <p class=\"dcr-1myha1i\"><strong>astrologer, astrology</strong><br/>horoscopes</p>,\n",
       " <p class=\"dcr-1myha1i\"><strong>astronomer, astronomy</strong><br/>telescopes</p>,\n",
       " <p class=\"dcr-1myha1i\"><strong>astronomer royal</strong><br/>currently Lord Rees</p>,\n",
       " <p class=\"dcr-1myha1i\"><strong>Asunción</strong><br/>capital of Paraguay</p>,\n",
       " <p class=\"dcr-1myha1i\"><strong>asylum seeker</strong><br/>Someone seeking refugee status or humanitarian protection; there is no such thing as an “illegal asylum seeker”, a term the Press Complaints Commission ruled in breach of its code of practice.</p>,\n",
       " <p class=\"dcr-1myha1i\">Refugees are people who have fled their home countries in fear for their lives, and may have been granted asylum under the 1951 refugee convention or qualify for humanitarian protection or discretionary leave, or have been granted exceptional leave to remain in Britain.</p>,\n",
       " <p class=\"dcr-1myha1i\">Someone who is refused asylum should be referred to as a refused asylum seeker, not a “failed asylum seeker”.</p>,\n",
       " <p class=\"dcr-1myha1i\">An asylum seeker can become an illegal immigrant only if he or she remains in Britain after having failed to respond to a removal notice</p>,\n",
       " <p class=\"dcr-1myha1i\"><strong>Atacms<br/></strong>for the missiles, not ATACMS. It’s short for army tactical missile system</p>,\n",
       " <p class=\"dcr-1myha1i\"><strong>ATCU</strong><br/>Associated Train Crew Union; not to be confused with ACTU, the Australian Council of Trade Unions</p>,\n",
       " <p class=\"dcr-1myha1i\"><strong>athletics</strong><br/>also known (particularly in the US) as track and field.</p>,\n",
       " <p class=\"dcr-1myha1i\">1500m but 5,000m (the former is the “fifteen hundred” not “one thousand five hundred” metres)</p>,\n",
       " <p class=\"dcr-1myha1i\"><strong>Atlantic Ocean</strong><br/>or just the Atlantic</p>,\n",
       " <p class=\"dcr-1myha1i\"><strong>attache</strong><br/>no accent</p>,\n",
       " <p class=\"dcr-1myha1i\"><strong>attention deficit hyperactivity disorder</strong><br/>ADHD after first mention</p>,\n",
       " <p class=\"dcr-1myha1i\"><strong>Attlee, Clement</strong><br/>(1883-1967) Labour prime minister 1945-51, often misspelt as Atlee</p>,\n",
       " <p class=\"dcr-1myha1i\"><strong>attorney general</strong><br/>lc, no hyphen; plural <strong>attorneys general</strong></p>,\n",
       " <p class=\"dcr-1myha1i\"><strong>auger</strong><br/>used to make holes</p>,\n",
       " <p class=\"dcr-1myha1i\"><strong>augur</strong><br/>predict or presage</p>,\n",
       " <p class=\"dcr-1myha1i\"><strong>Aum Shinrikyo</strong><br/>means Supreme Truth sect<br/></p>,\n",
       " <p class=\"dcr-1myha1i\"><strong>Aung San Suu Kyi</strong><br/>Use her full name (as with other Burmese names), even on second and subsequent mentions, in copy; if absolutely necessary, Suu Kyi is permissible in headlines</p>,\n",
       " <p class=\"dcr-1myha1i\"><strong>Auntie</strong><br/>not Aunty if you must refer to the BBC in this way</p>,\n",
       " <p class=\"dcr-1myha1i\"><strong>au pair</strong></p>,\n",
       " <p class=\"dcr-1myha1i\"><strong>Auschwitz<br/></strong>a Nazi death camp in German-occupied Poland, not a Polish death camp (see entry on “Polish death camps”)</p>,\n",
       " <p class=\"dcr-1myha1i\"><strong>Australasia</strong><br/>Oceania is preferable. <a data-link-name=\"in body link\" href=\"https://www.theguardian.com/guardian-observer-style-guide-o#oceania\">See Oceania</a></p>,\n",
       " <p class=\"dcr-1myha1i\"><strong>Australian Labor party</strong><br/>not Labour</p>,\n",
       " <p class=\"dcr-1myha1i\"><strong>autism</strong><br/>Autism is a neurodevelopmental disorder, not an illness. Use only when referring to the condition, not as a term of abuse or in producing such witticisms as “mindless moral autism” and “Star Wars is a form of male autism”, both of which have appeared in the paper</p>,\n",
       " <p class=\"dcr-1myha1i\"><strong>autistic people<br/></strong>largely regard autism as a fundamental part of who they are, so dislike being described as having autism, or being people with autism/living with autism. Whenever possible, ask a person how they prefer to be described. (Further reading: <a data-link-name=\"in body link\" href=\"https://www.autism.org.uk/describingautism\">National Autistic Society guidance on writing about autism</a>)<br/><br/><strong>autocorrect, autocomplete</strong><br/>but <strong>auto-predict</strong></p>,\n",
       " <p class=\"dcr-1myha1i\"><strong>Autocue</strong><br/>TM; teleprompter is a generic alternative</p>,\n",
       " <p class=\"dcr-1myha1i\"><strong>Auto-Tune</strong><br/>TM; also Auto-Tuned, etc</p>,\n",
       " <p class=\"dcr-1myha1i\"><strong>autumn</strong></p>,\n",
       " <p class=\"dcr-1myha1i\"><strong>autumn statement</strong></p>,\n",
       " <p class=\"dcr-1myha1i\"><strong>AV</strong><br/>the alternative vote electoral system</p>,\n",
       " <p class=\"dcr-1myha1i\"><strong>avant garde</strong><br/>no hyphen</p>,\n",
       " <p class=\"dcr-1myha1i\"><strong>average, mean and median</strong><br/>Although we loosely refer to the “average” in many contexts (eg pay), there are two useful averages worth distinguishing.</p>,\n",
       " <p class=\"dcr-1myha1i\">What is commonly known as the average is the mean: everyone’s wages are added up and divided by the number of wage earners. The median is described as “the value below which 50% of employees fall”, ie it is the wage earned by the middle person when everyone’s wages are lined up from smallest to largest. (For even numbers there are two middle people, but you calculate the mean average of their two wages.)</p>,\n",
       " <p class=\"dcr-1myha1i\">The median is often a more useful guide than the mean, which can be distorted by figures at one extreme or the other</p>,\n",
       " <p class=\"dcr-1myha1i\"><strong>awaken</strong><br/>Say “I woke up”, “I was woken up” and so on because the forms starting with A are either considered wrong (“I was awoken”) or sound wrong (“I was awakened”). The US grammarian Bryan A Garner says: “The past-tense and past-participial forms of ‘wake’ and its various siblings are perhaps the most vexing in the language.”</p>,\n",
       " <p class=\"dcr-1myha1i\">Exception: Star Wars: Episode VII – The Force Awakens<br/></p>,\n",
       " <p class=\"dcr-1myha1i\"><strong>awards and prizes</strong><br/>are generally lc, eg Guardian first book award, Nobel peace prize (but note Academy Awards)<br/>lc for categories, eg Colin Firth won the best actor Oscar, Chipmunk was voted best newcomer at the 2008 Mobos, etc</p>,\n",
       " <p class=\"dcr-1myha1i\"><strong>awol</strong><br/>stands for “absent without leave” but, having been around since at least the 1920s, has established itself as a word in its own right</p>,\n",
       " <p class=\"dcr-1myha1i\"><strong>awopbopaloobop alopbamboom</strong><br/>from Little Richard’s Tutti Frutti (1955), a recording that has been described as “the sound of the birth of rock’n’roll”</p>,\n",
       " <p class=\"dcr-1myha1i\"><strong>axing</strong><br/>not axeing, but cutting jobs is less cliched than axing them</p>,\n",
       " <p class=\"dcr-1myha1i\"><strong>axis</strong><br/>plural axes</p>,\n",
       " <p class=\"dcr-1myha1i\"><strong>Ayers Rock</strong><br/>is now <strong>Uluru</strong></p>,\n",
       " <p class=\"dcr-1myha1i\"><strong>Azerbaijan</strong><br/>noun, Azerbaijani adjective; note that there are ethnic Azeris living in, for example, Armenia</p>,\n",
       " <p class=\"dcr-1myha1i\"><strong>Aznar, José María</strong><br/>former prime minister of Spain</p>]"
      ]
     },
     "execution_count": 95,
     "metadata": {},
     "output_type": "execute_result"
    }
   ],
   "source": [
    "all_paragraphs[0]"
   ]
  },
  {
   "cell_type": "code",
   "execution_count": 170,
   "id": "78636db7-e5ac-4df6-9711-abc6b5099d06",
   "metadata": {},
   "outputs": [],
   "source": [
    "# Iterate over each paragraph tag\n",
    "guardian_rules = {}\n",
    "for pars in all_paragraphs:\n",
    "    for p in pars:\n",
    "        if p.strong and p.strong == p.contents[0]:  # Check if paragraph starts with a strong tag\n",
    "            current_title = p.strong.get_text().strip()  # Extract title\n",
    "            guardian_rules[current_title] = p.get_text(separator=\" \").replace(current_title, '', 1).strip()  # Initialize title in dictionary\n",
    "        elif current_title:\n",
    "            # Add text to the current title key\n",
    "            guardian_rules[current_title] += \"\\n\\n\" + p.get_text(separator=\" \").strip()"
   ]
  },
  {
   "cell_type": "code",
   "execution_count": 171,
   "id": "673a9ebe-cd00-4d9b-a3ce-77cebdfd7ab3",
   "metadata": {},
   "outputs": [],
   "source": [
    "import pandas as pd \n",
    "guardian_rules_df = pd.Series(guardian_rules).to_frame('rule_text').reset_index().rename(columns={'index': 'rule_title'})"
   ]
  },
  {
   "cell_type": "code",
   "execution_count": 172,
   "id": "1ceda422-d87a-4125-90bb-0e75c2535575",
   "metadata": {},
   "outputs": [],
   "source": [
    "guardian_rules_df['rule_text'] = guardian_rules_df['rule_text'].str.replace(' +', ' ', regex=True)"
   ]
  },
  {
   "cell_type": "code",
   "execution_count": 173,
   "id": "52e2734c-95ca-410e-8ed2-404cad5f5432",
   "metadata": {},
   "outputs": [],
   "source": [
    "# mkdir ../corpora/guardian"
   ]
  },
  {
   "cell_type": "code",
   "execution_count": 174,
   "id": "b00c3eb6-6a19-4449-bdcf-4d89db987920",
   "metadata": {},
   "outputs": [],
   "source": [
    "guardian_rules_df.to_csv('../corpora/guardian/parsed-rules-df.csv')\n",
    "import pickle\n",
    "with open('../corpora/guardian/all-htmls.pkl', 'wb') as f:\n",
    "    pickle.dump(guardian_htmls, f)"
   ]
  },
  {
   "cell_type": "code",
   "execution_count": 175,
   "id": "d7a18673-67a6-4ff1-8044-cf5a23c5a36f",
   "metadata": {},
   "outputs": [
    {
     "data": {
      "text/plain": [
       "'president of the Palestinian Authority'"
      ]
     },
     "execution_count": 175,
     "metadata": {},
     "output_type": "execute_result"
    }
   ],
   "source": [
    "guardian_rules_df['rule_text'].iloc[4]"
   ]
  },
  {
   "cell_type": "code",
   "execution_count": 176,
   "id": "15d0e9d8-26de-4072-8923-4c2fe623f56e",
   "metadata": {},
   "outputs": [
    {
     "name": "stdout",
     "output_type": "stream",
     "text": [
      "Use pro-choice , not pro-abortion; and use anti-abortion , not pro-life. Anti-choice can be used when talking about opposition to all reproductive rights, including abortion, birth control, family planning etc.\n",
      "\n",
      "In reference to US legislation, six-week abortion ban is preferable to foetal heartbeat bill, unless quoting someone talking about the “heartbeat bill”\n"
     ]
    }
   ],
   "source": [
    "print(guardian_rules_df.loc[lambda df: df['rule_title']== 'abortion']['rule_text'].iloc[0])"
   ]
  },
  {
   "cell_type": "markdown",
   "id": "dcef33f5-565c-4b9b-a601-a51834b835fe",
   "metadata": {},
   "source": [
    "# Buzzfeed"
   ]
  },
  {
   "cell_type": "code",
   "execution_count": 265,
   "id": "c94f46de-7ee7-4bb4-ac15-3f11cfd577a1",
   "metadata": {},
   "outputs": [],
   "source": [
    "t = 'https://www.buzzfeed.com/buzzfeednews/buzzfeed-style-guide'\n",
    "r = requests.get(t)"
   ]
  },
  {
   "cell_type": "code",
   "execution_count": 266,
   "id": "3e89b225-2c1c-423b-8405-02fa06d6b205",
   "metadata": {},
   "outputs": [],
   "source": [
    "# mkdir ../corpora/buzzfeed"
   ]
  },
  {
   "cell_type": "code",
   "execution_count": 267,
   "id": "dc6f9700-a744-4ac6-aa70-685e2aadc524",
   "metadata": {},
   "outputs": [],
   "source": [
    "html = r.content.decode()\n",
    "with open('../corpora/buzzfeed/buzzfeed.html', 'w') as f:\n",
    "    f.write(html)\n",
    "# display(HTML(html))"
   ]
  },
  {
   "cell_type": "code",
   "execution_count": 331,
   "id": "d9f3cdde-54c6-4306-9c12-7412ba06a119",
   "metadata": {},
   "outputs": [],
   "source": [
    "soup = BeautifulSoup(html)\n",
    "rule_ps = soup.find_all('p')[4:-1]\n",
    "rule_ps_and_brs = soup.find_all(['p', 'br'])[4:-1]"
   ]
  },
  {
   "cell_type": "code",
   "execution_count": 271,
   "id": "558f8bb1-81ed-4d96-bdf0-7c8bb072fc3c",
   "metadata": {},
   "outputs": [
    {
     "data": {
      "text/html": [
       "<p><b>A-list</b>, <b>B-list,</b> etc. (n. and adj.): Use when referring to celebrities, e.g., “A-list celeb,” “celeb on the D-list.”</p>"
      ],
      "text/plain": [
       "<IPython.core.display.HTML object>"
      ]
     },
     "metadata": {},
     "output_type": "display_data"
    }
   ],
   "source": [
    "display(HTML(str(rule_ps[0])))"
   ]
  },
  {
   "cell_type": "code",
   "execution_count": 650,
   "id": "6de59379-64fb-4cf5-8c04-d7dbc9bd41d3",
   "metadata": {},
   "outputs": [],
   "source": [
    "from bs4 import BeautifulSoup, Tag\n",
    "# Function to split a <b> tag with multiple <br/> into separate <b> tags\n",
    "def split_b_tag(b_tag, tag_type='b'):\n",
    "    def create_new_b_tag(current_contents):\n",
    "        new_tag = soup.new_tag(tag_type)\n",
    "        new_tag.extend(current_contents)\n",
    "        return new_tag\n",
    "    \n",
    "    new_tags = []\n",
    "    current_contents = []  # Temporary list to hold contents for each new <b> tag\n",
    "    elements = list(b_tag.contents)\n",
    "    for content in elements:\n",
    "        # print(content)\n",
    "        if isinstance(content, Tag) and content.name == 'br':\n",
    "            if current_contents:  # Only create a <b> tag if there is content to include\n",
    "                new_b_tag = create_new_b_tag(current_contents)\n",
    "                new_tags.append(new_b_tag)\n",
    "                new_tags.append(soup.new_tag('br'))\n",
    "                current_contents = []  # Reset for the next <b> tag\n",
    "        else:\n",
    "            current_contents.append(content)\n",
    "        # print(current_contents)            \n",
    "\n",
    "    # Check if there is any remaining content to be added to a new <b> tag\n",
    "    if current_contents:\n",
    "        new_b_tag = create_new_b_tag(current_contents)\n",
    "        new_tags.append(new_b_tag)\n",
    "        new_tags.append(soup.new_tag('br'))\n",
    "\n",
    "    return new_tags\n",
    "\n",
    "\n",
    "def parse_blocks(p_list):\n",
    "    data = {}\n",
    "    current_title = None\n",
    "    current_text = []\n",
    "\n",
    "    # Function to flush current block into data\n",
    "    def flush():\n",
    "        if current_title is not None:\n",
    "            full_text = ' '.join(current_text).strip()\n",
    "            if current_title in data:\n",
    "                data[current_title] += \"\\n\" + full_text  # Append to existing title\n",
    "            else:\n",
    "                data[current_title] = full_text\n",
    "            current_text.clear()\n",
    "\n",
    "    # Iterate through each paragraph\n",
    "    for p in p_list: # html_soup.find_all('p'):\n",
    "        elements = list(p.children)\n",
    "        expanded_elements_list = []\n",
    "        for element in elements:\n",
    "            if element.name == 'b':\n",
    "                expanded_elements_list += split_b_tag(element)\n",
    "            else:\n",
    "                expanded_elements_list.append(element)\n",
    "        elements = expanded_elements_list\n",
    "        i = 0\n",
    "        while i < len(elements):\n",
    "            element = elements[i]\n",
    "            if element.name == 'b' and (i == 0 or elements[i - 1].name == 'br'):\n",
    "                flush()  # Flush previous block\n",
    "                current_title = element.get_text(strip=True)\n",
    "                # Extend the title to include all text up to \":\"\n",
    "                # current_title = full_title.split(\":\")[0] + ':' if ':' in full_title else full_title\n",
    "            elif element.name == 'b':\n",
    "                # If <b> is not the first element or after <br>, add its text to the current text block\n",
    "                current_text.append(element.get_text(strip=True))\n",
    "            elif element.name == 'br':\n",
    "                # Flush the current block if <br> is found and start a new block if the next element is text or <b>\n",
    "                if i + 1 < len(elements) and (isinstance(elements[i + 1], str) or elements[i + 1].name == 'b'):\n",
    "                    flush()\n",
    "            else:\n",
    "                # Append any text or the text of any other element that is not <b>\n",
    "                text = element if isinstance(element, str) else element.get_text(strip=True)\n",
    "                if text:\n",
    "                    current_text.append(text)\n",
    "            i += 1\n",
    "            \n",
    "        # Flush after processing each paragraph to ensure no data is missed\n",
    "        flush()\n",
    "\n",
    "    # output_data = {}\n",
    "    # for key, value\n",
    "    return data"
   ]
  },
  {
   "cell_type": "code",
   "execution_count": null,
   "id": "542538c4-f96f-4e6e-a565-0f765b4ab4cf",
   "metadata": {},
   "outputs": [],
   "source": [
    "soup = BeautifulSoup(html)\n",
    "rule_ps = soup.find_all('p')[4:-1]\n",
    "elements = list(rule_ps[1].children)\n",
    "e = elements[117]\n",
    "buzzfeed_rules = parse_blocks(rule_ps)\n",
    "buzzfeed_rules_s = pd.Series(buzzfeed_rules).str.strip().str.replace(' +', ' ', regex=True)\n",
    "buzzfeed_rules = buzzfeed_rules_s.to_dict()\n",
    "\n",
    "import re\n",
    "reparsed_buzzfeed_dict = {}\n",
    "for key, value in buzzfeed_rules.items():\n",
    "    if ':' in ' '.join(value.split()[:8]):\n",
    "        b, e = value.split(':', maxsplit=1)\n",
    "        key = key + ' ' + b\n",
    "        key = re.sub(r'\\s+', ' ', key).strip()\n",
    "        value = e\n",
    "    reparsed_buzzfeed_dict[key] = value"
   ]
  },
  {
   "cell_type": "code",
   "execution_count": 513,
   "id": "5caab953-49d4-4205-8be7-19a876fb23e1",
   "metadata": {},
   "outputs": [],
   "source": [
    "buzzfeed_rules_s = pd.Series(reparsed_buzzfeed_dict).str.strip()"
   ]
  },
  {
   "cell_type": "code",
   "execution_count": 516,
   "id": "b799e9a6-9d09-47d5-8115-4fdd7c96b0f2",
   "metadata": {},
   "outputs": [],
   "source": [
    "(buzzfeed_rules_s\n",
    "     .to_frame('rule_text')\n",
    "     .reset_index()\n",
    "     .rename(columns={'index': 'rule_title'})\n",
    "     .to_csv('../corpora/buzzfeed/parsed-rules-df.csv')\n",
    ")"
   ]
  },
  {
   "cell_type": "code",
   "execution_count": null,
   "id": "87d415e3-203b-4219-9f50-28c0070578bf",
   "metadata": {},
   "outputs": [],
   "source": []
  },
  {
   "cell_type": "markdown",
   "id": "3515ca64-7759-4d90-9b9c-3dc275cb4c6a",
   "metadata": {},
   "source": [
    "# Mother Jones"
   ]
  },
  {
   "cell_type": "code",
   "execution_count": 532,
   "id": "3f0af228-864d-44fe-9a76-ec3c733d8f24",
   "metadata": {},
   "outputs": [],
   "source": [
    "import playwright\n",
    "from playwright.async_api import async_playwright"
   ]
  },
  {
   "cell_type": "code",
   "execution_count": 545,
   "id": "296a267e-be55-4ac2-9576-32e429517109",
   "metadata": {},
   "outputs": [],
   "source": [
    "playwright = await async_playwright().start()\n",
    "browser = await playwright.chromium.launch(headless = False)\n",
    "page = await browser.new_page()"
   ]
  },
  {
   "cell_type": "code",
   "execution_count": 546,
   "id": "ae98d231-80a5-4a10-af6c-a9636cfa9f6f",
   "metadata": {},
   "outputs": [],
   "source": [
    "t = 'https://www.motherjones.com/media/2020/02/mother-jones-style-guide/'\n",
    "# r = requests.get(t)"
   ]
  },
  {
   "cell_type": "code",
   "execution_count": 547,
   "id": "5dbf2ce3-e3c4-4f54-983d-89127e9adf3f",
   "metadata": {},
   "outputs": [
    {
     "data": {
      "text/plain": [
       "<Response url='https://www.motherjones.com/media/2020/02/mother-jones-style-guide/' request=<Request url='https://www.motherjones.com/media/2020/02/mother-jones-style-guide/' method='GET'>>"
      ]
     },
     "execution_count": 547,
     "metadata": {},
     "output_type": "execute_result"
    }
   ],
   "source": [
    "await page.goto(t)"
   ]
  },
  {
   "cell_type": "code",
   "execution_count": 548,
   "id": "f2499b0f-9c06-481e-9d26-6c5983b6b08c",
   "metadata": {},
   "outputs": [],
   "source": [
    "html_t = await page.content()"
   ]
  },
  {
   "cell_type": "code",
   "execution_count": 520,
   "id": "7f8e9883-b82c-4d29-bdb2-1b11d8786976",
   "metadata": {},
   "outputs": [],
   "source": [
    "# mkdir ../corpora/mother_jones"
   ]
  },
  {
   "cell_type": "code",
   "execution_count": 550,
   "id": "0b47dafd-a6fc-456e-937c-c0e40858b777",
   "metadata": {},
   "outputs": [],
   "source": [
    "with open('../corpora/mother_jones/all_rules.html', 'w') as f:\n",
    "    f.write(html)"
   ]
  },
  {
   "cell_type": "code",
   "execution_count": 551,
   "id": "20c70b48-73db-45cf-a2f0-a549c4d67d89",
   "metadata": {},
   "outputs": [],
   "source": [
    "soup = BeautifulSoup(html)"
   ]
  },
  {
   "cell_type": "code",
   "execution_count": 552,
   "id": "a69c9afd-569a-46c6-b28f-9cd9e3863c00",
   "metadata": {},
   "outputs": [],
   "source": [
    "headers = soup.find_all(['h3', 'p'])[5:]"
   ]
  },
  {
   "cell_type": "code",
   "execution_count": 561,
   "id": "3e277228-63cf-460d-9d18-dcba066c5cd4",
   "metadata": {},
   "outputs": [],
   "source": [
    "pyperclip.copy('\\n'.join(list(map(str, headers[:5]))))"
   ]
  },
  {
   "cell_type": "code",
   "execution_count": 569,
   "id": "43b3e7dd-2c71-4f71-b60d-aabde9177506",
   "metadata": {},
   "outputs": [],
   "source": [
    "e = soup.find_all(['h3', 'p'])[5:]"
   ]
  },
  {
   "cell_type": "code",
   "execution_count": 648,
   "id": "0f203da3-8cf1-4dc3-9178-a22b03e07f72",
   "metadata": {},
   "outputs": [],
   "source": [
    "def get_hierarchy(tag):\n",
    "    if tag.name == 'h3':\n",
    "        return 1\n",
    "    elif tag.name == 'p':\n",
    "        span = tag.find('span')\n",
    "        if ('style' in tag.attrs and 'padding-left: 40px;' in tag.attrs['style']):\n",
    "            return 3\n",
    "        # elif (span and 'class' in span.attrs and ('section-lead' in span.attrs['class'])):\n",
    "            # return 3\n",
    "        else:\n",
    "            return 2\n",
    "    return None\n",
    "\n",
    "soup = BeautifulSoup(html)\n",
    "results = []\n",
    "current_title_path = []\n",
    "current_text = []\n",
    "\n",
    "for tag in soup.find_all(['h3', 'p'])[5:]:\n",
    "    hierarchy_level = get_hierarchy(tag)\n",
    "    strong_tag = tag.find('strong')\n",
    "    if strong_tag:\n",
    "        # Save text if collected and reset\n",
    "        if current_title_path:\n",
    "            results.append({\n",
    "                'Title': current_title_path[-1],\n",
    "                'Hierarchy Path': ' -> '.join(current_title_path[:-1]),\n",
    "                'Text': '\\n'.join(current_text)\n",
    "            })\n",
    "        current_text = []  # Reset text for the new block\n",
    "\n",
    "        title_text = strong_tag.get_text(separator=\" \", strip=True)\n",
    "        # Adjust the current title path according to the hierarchy level\n",
    "        # Reset for top level\n",
    "        if hierarchy_level == 1:\n",
    "            current_title_path = [title_text]  \n",
    "        #\n",
    "        # Append for deeper level            \n",
    "        elif hierarchy_level > len(current_title_path):\n",
    "            current_title_path.append(title_text) \n",
    "        #\n",
    "        # Replace for same or shallower level            \n",
    "        else:\n",
    "            current_title_path = current_title_path[:hierarchy_level - 1] + [title_text] \n",
    "            \n",
    "    # Append text to current block, excluding repeated title\n",
    "    tag_text = tag.get_text(separator=\" \", strip=True)\n",
    "    tag_text = tag_text.replace(title_text, ' ', 1).strip() if strong_tag else tag_text.strip()\n",
    "    if tag_text:\n",
    "        current_text.append(tag_text)\n",
    "\n",
    "# Append the last collected block if any\n",
    "if current_title_path:\n",
    "    results.append({\n",
    "        'Title': current_title_path[-1],\n",
    "        'Hierarchy Path': ' -> '.join(current_title_path[:-1]),\n",
    "        'Text': ' '.join(current_text)\n",
    "    })"
   ]
  },
  {
   "cell_type": "code",
   "execution_count": 649,
   "id": "7fdca723-c9f0-47f9-bf16-f82c9ea7083a",
   "metadata": {},
   "outputs": [
    {
     "data": {
      "text/plain": [
       "{'Title': 'W',\n",
       " 'Hierarchy Path': 'Preferred Spelling',\n",
       " 'Text': 'Walmart war on terror Washington, DC, with commas and no periods wellbeing whoa , unless you insist on “woah,” but why would you insist? wifi winner-takes-all wiseguy WMD not WMDs wokeism words use quotes (e.g., the word “color” has two syllables)'}"
      ]
     },
     "execution_count": 649,
     "metadata": {},
     "output_type": "execute_result"
    }
   ],
   "source": [
    "results[-7]"
   ]
  },
  {
   "cell_type": "code",
   "execution_count": 652,
   "id": "36b938cb-e458-4cc3-be14-c1fbda245473",
   "metadata": {},
   "outputs": [],
   "source": [
    "results_df = pd.DataFrame(results[:-3])"
   ]
  },
  {
   "cell_type": "code",
   "execution_count": 656,
   "id": "0a9af034-9e24-45c1-a8cb-0eaee48239f2",
   "metadata": {},
   "outputs": [],
   "source": [
    "results_df.rename(columns={\n",
    "    'Title':'rule_title', \n",
    "    'Text': 'rule_text',\n",
    "    'Hierarchy Path': 'rule_hierarchy'\n",
    "}).to_csv('../corpora/mother_jones/mother_jones_parsed_rules.csv')"
   ]
  },
  {
   "cell_type": "code",
   "execution_count": null,
   "id": "6cb28ba1-7b32-4d4b-a836-f9aa6159993c",
   "metadata": {},
   "outputs": [],
   "source": []
  },
  {
   "cell_type": "code",
   "execution_count": null,
   "id": "02d35373-be1c-4c49-b747-bcc0f07a2576",
   "metadata": {},
   "outputs": [],
   "source": []
  },
  {
   "cell_type": "code",
   "execution_count": null,
   "id": "fe854b3b-e441-4a4b-a758-f30cf487b3b7",
   "metadata": {},
   "outputs": [],
   "source": []
  },
  {
   "cell_type": "code",
   "execution_count": null,
   "id": "0da578b7-7d08-4ad8-a462-735a70b7745a",
   "metadata": {},
   "outputs": [],
   "source": []
  },
  {
   "cell_type": "code",
   "execution_count": null,
   "id": "6463686a-2bc1-4862-8dd7-1741ae79de19",
   "metadata": {},
   "outputs": [],
   "source": []
  },
  {
   "cell_type": "code",
   "execution_count": null,
   "id": "535b78ec-39bd-43f6-b188-b6670eae1af2",
   "metadata": {},
   "outputs": [],
   "source": []
  },
  {
   "cell_type": "code",
   "execution_count": null,
   "id": "66008745-892a-4d80-b96e-81de80aa08b1",
   "metadata": {},
   "outputs": [],
   "source": []
  },
  {
   "cell_type": "code",
   "execution_count": null,
   "id": "61b4b90c-f4f3-4f32-85d1-96084c117a7c",
   "metadata": {},
   "outputs": [],
   "source": []
  }
 ],
 "metadata": {
  "kernelspec": {
   "display_name": "Python 3 (ipykernel)",
   "language": "python",
   "name": "python3"
  },
  "language_info": {
   "codemirror_mode": {
    "name": "ipython",
    "version": 3
   },
   "file_extension": ".py",
   "mimetype": "text/x-python",
   "name": "python",
   "nbconvert_exporter": "python",
   "pygments_lexer": "ipython3",
   "version": "3.12.2"
  }
 },
 "nbformat": 4,
 "nbformat_minor": 5
}
