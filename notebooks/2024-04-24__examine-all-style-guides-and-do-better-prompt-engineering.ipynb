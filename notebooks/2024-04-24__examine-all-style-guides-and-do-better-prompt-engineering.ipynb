{
 "cells": [
  {
   "cell_type": "markdown",
   "id": "7649a88f-1115-4659-a216-83386e026377",
   "metadata": {},
   "source": [
    "# Goals"
   ]
  },
  {
   "cell_type": "markdown",
   "id": "5c9bd1c5-7197-4d0f-8240-b67384839b3c",
   "metadata": {},
   "source": [
    "The goal of this notebook is to improve the BAD outputs that the language models generate.\n",
    "\n",
    "I was anecdotally examining a lot of outputs, and had been noticing that many of the outputs in earlier notebooks weren't that good. So I decided to apply a prompting technique known as Chain of Thought (https://arxiv.org/abs/2201.11903) to this problem.\n",
    "\n",
    "It definitely did end up working pretty well, so I continued to use it in later approaches."
   ]
  },
  {
   "cell_type": "markdown",
   "id": "c17024a6-1b18-430a-9181-59b2f8f9c0b7",
   "metadata": {},
   "source": [
    "# Read in the style guide rules"
   ]
  },
  {
   "cell_type": "code",
   "execution_count": 10,
   "id": "efb90e00-61e2-4681-81d2-b767234d1535",
   "metadata": {},
   "outputs": [],
   "source": [
    "import pandas as pd\n",
    "import glob"
   ]
  },
  {
   "cell_type": "code",
   "execution_count": 14,
   "id": "44ba5322-6b48-4fa1-b798-25c60c7edc5f",
   "metadata": {},
   "outputs": [],
   "source": [
    "file_dict = [\n",
    "    ('../corpora/mother_jones/mother_jones_parsed_rules.csv', 'mother_jones', 'csv'),\n",
    "    ('../corpora/buzzfeed/parsed-rules-df.csv', 'buzzfeed', 'csv'),\n",
    "    ('../corpora/guardian/parsed-rules-df.csv', 'guardian', 'csv'),\n",
    "    ('../corpora/chicago-style-guide/all-rules.jsonl', 'chicago', 'jsonl')\n",
    "]"
   ]
  },
  {
   "cell_type": "code",
   "execution_count": 37,
   "id": "063073f1-5b07-426c-8f68-f8e4acb3be7f",
   "metadata": {},
   "outputs": [],
   "source": [
    "all_dfs = []\n",
    "for fname, outlet_name, read_type in file_dict:\n",
    "    if read_type == 'csv':\n",
    "        df = pd.read_csv(fname, index_col=0)\n",
    "    else:\n",
    "        df = pd.read_json(fname, lines=True).rename(columns={\n",
    "            'hierarchy': 'rule_hierarchy',\n",
    "            'content': 'rule_text',\n",
    "            'title': 'rule_title',\n",
    "        }).assign(rule_hierarchy=lambda df: df['rule_hierarchy'].apply(lambda x: ' -> '.join(list(map(lambda y: y['text'], x)))))\n",
    "    df = df.assign(outlet_name=outlet_name).reset_index(drop=True)\n",
    "    df = df.assign(idx=lambda df: outlet_name + '_' + (df.reset_index()['index']+ 1).astype(str) )\n",
    "    all_dfs.append(df)"
   ]
  },
  {
   "cell_type": "code",
   "execution_count": 43,
   "id": "11b1ec79-403f-4eef-b338-f40087fd398f",
   "metadata": {},
   "outputs": [],
   "source": [
    "cols = ['rule_title', 'rule_hierarchy', 'rule_text', 'outlet_name', 'idx']\n",
    "all_rules_combined_df = pd.concat(all_dfs)[cols].reset_index(drop=True)"
   ]
  },
  {
   "cell_type": "code",
   "execution_count": 44,
   "id": "19ff835c-6a37-43d1-878c-b29adbc64ec6",
   "metadata": {},
   "outputs": [
    {
     "data": {
      "text/plain": [
       "outlet_name\n",
       "guardian        4732\n",
       "buzzfeed        1121\n",
       "chicago         1093\n",
       "mother_jones     283\n",
       "Name: count, dtype: int64"
      ]
     },
     "execution_count": 44,
     "metadata": {},
     "output_type": "execute_result"
    }
   ],
   "source": [
    "all_rules_combined_df['outlet_name'].value_counts()"
   ]
  },
  {
   "cell_type": "markdown",
   "id": "62586b0a-d842-4c23-beea-b0c5f965461b",
   "metadata": {},
   "source": [
    "# Experiment with Different Prompting Techniques\n",
    "\n",
    "## Try a more chain-of-thought approach"
   ]
  },
  {
   "cell_type": "code",
   "execution_count": 47,
   "id": "cd29734e-65a5-46ec-85b7-4255aa11a92b",
   "metadata": {},
   "outputs": [],
   "source": [
    "import sys\n",
    "sys.path.insert(0, '../tasks/generate_synthetic_example_data/')\n",
    "import model_util"
   ]
  },
  {
   "cell_type": "code",
   "execution_count": 63,
   "id": "9240e7ef-2ed0-4446-93e2-e8278cb5759f",
   "metadata": {},
   "outputs": [],
   "source": [
    "tok, gpt4_model, _ = model_util.get_model('gpt-4-turbo', cache_dir=None)"
   ]
  },
  {
   "cell_type": "code",
   "execution_count": 87,
   "id": "5a959833-fd80-462e-acb3-ed5a6e581ee8",
   "metadata": {},
   "outputs": [],
   "source": [
    "rule_title, rule_text = (\n",
    "    all_rules_combined_df\n",
    "         .loc[lambda df: df['outlet_name'] == 'chicago']\n",
    "         [['rule_hierarchy', 'rule_text']]\n",
    "         .iloc[3]\n",
    ")"
   ]
  },
  {
   "cell_type": "code",
   "execution_count": 89,
   "id": "1346039f-cf98-4f7d-8c4a-dfa45636e2e3",
   "metadata": {},
   "outputs": [],
   "source": [
    "prompt = \"\"\"You are a helpful editor's assistant. I am trying to read a style guide. Here is an entry in the style guide:\n",
    "\n",
    "Title: {rule_title}\n",
    "\n",
    "```{rule_text}```\n",
    "\n",
    "The entry might specify a generic grammar definition, a specific rule, a specific spelling, or something else.\n",
    "\n",
    "I want examples of sentences that this would be applicable to. \n",
    "\n",
    "Think step-by-step. \n",
    "1. Is there a rule being expressed? \n",
    "2. Is this rule something that can be violated? \n",
    "\n",
    "If the answer to 1 and 2 is Yes, then:\n",
    "3. Simplify the rule in plain language and specify ways it can be broken.\n",
    "\n",
    "If you have done all of that, then say generate 10 example sentences that violate this rule. Output them in a python list.\n",
    "Make them topically sound like news-article sentences: they should be about current events, or similar news writing.\n",
    "\"\"\"\n",
    "\n",
    "messages = [\n",
    "    {'role': 'system', 'content': \"You are a helpful editor's assistant.\"},\n",
    "    {\n",
    "        'role': 'user',\n",
    "        'content': prompt.format(\n",
    "            rule_text=rule_text,\n",
    "            rule_title=rule_title,\n",
    "        )\n",
    "    }\n",
    "]"
   ]
  },
  {
   "cell_type": "code",
   "execution_count": 88,
   "id": "2808467c-17c7-4217-884e-d3a367908244",
   "metadata": {},
   "outputs": [
    {
     "name": "stdout",
     "output_type": "stream",
     "text": [
      "A noun is a word that names something, whether abstract (intangible) or concrete (tangible). It may be a common noun (the name of a generic class or type of person, place, thing, process, activity, or condition) or a proper noun (the name of a specific person, place, or thing—hence capitalized). A concrete noun may be a count noun (if what it names can be counted—as with horses or cars) or a mass noun (if what it names is uncountable or collective—as with information or salt).\n"
     ]
    }
   ],
   "source": [
    "print(rule_text)"
   ]
  },
  {
   "cell_type": "code",
   "execution_count": 90,
   "id": "7cdc9311-1687-4cc9-9e99-acf41298c9cb",
   "metadata": {},
   "outputs": [],
   "source": [
    "output = gpt4_model(messages=messages)"
   ]
  },
  {
   "cell_type": "code",
   "execution_count": 91,
   "id": "8f8db78f-d4df-4267-b34d-9d398ddd29b6",
   "metadata": {},
   "outputs": [
    {
     "name": "stdout",
     "output_type": "stream",
     "text": [
      "The entry from the style guide provides a general definition for nouns and distinguishes between different types of nouns (common vs. proper; concrete vs. abstract; countable vs. mass). Let's analyze if there is a specific rule and whether it can be violated:\n",
      "\n",
      "1. **Is there a rule being expressed?**\n",
      "   Yes, the rule here concerns the distinctions between types of nouns and proper usage, including capitalization for proper nouns and the correct treatment of count and mass nouns.\n",
      "\n",
      "2. **Is this rule something that can be violated?**\n",
      "   Absolutely. Violations can occur if proper nouns are not capitalized, or if count nouns and mass nouns are misused (e.g., treating a mass noun like it is countable).\n",
      "\n",
      "3. **Simplify the rule in plain language and specify ways it can be broken.**\n",
      "   - **Rule**: Capitalize proper nouns. Treat common nouns according to their nature: if they refer to individual items that can be counted, use them accordingly; if they refer to uncountable substances or concepts, treat them as mass nouns.\n",
      "   - **Violations**:\n",
      "     - Not capitalizing proper nouns.\n",
      "     - Incorrectly pluralizing or attempting to count mass nouns.\n",
      "     - Using singular verbs with plural nouns or plural verbs with singular nouns.\n",
      "\n",
      "**Violation Example Sentences** (formatted as a list in Python and faux news):\n",
      "\n",
      "```python\n",
      "[\n",
      "    \"Several informations were revealed in the recent government leak.\",  # Incorrect pluralization of mass noun 'information'\n",
      "    \"The atlantic ocean is full of mysterious creatures still undiscovered by marine biologists.\",  # 'Atlantic Ocean' should be capitalized\n",
      "    \"john smith, a well-known actor, refused to comment on his latest movie project.\",  # 'John Smith' should be capitalized\n",
      "    \"new Yorkers are known for their fast-paced lifestyle.\",  # 'New Yorkers' should be capitalized\n",
      "    \"The company's new policy on social medias like Facebook and Twitter has caused quite a stir.\",  # Incorrect pluralization of mass noun 'social media'\n",
      "    \"Twenty four furnitures were donated to the local shelter by the community center.\",  # Incorrectly counting the mass noun 'furniture'\n",
      "    \"A series of unfortunate events was happens to him last month.\",  # Grammatical issue with verb agreement and tense\n",
      "    \"Paris is a beautiful city in the spring, with many tourists visiting Eiffel tower each year.\",  # 'Eiffel Tower' should be capitalized\n",
      "    \"Oil are a valuable commodity in global markets.\",  # Incorrect verb use with mass noun 'oil'\n",
      "    \"Germany produces some of world's best beers.\"  # 'World's' should be capitalized as 'World'\n",
      "]\n",
      "``` \n",
      "\n",
      "Each sentence above is designed as a plausible excerpt from a news article but includes specific violations of the grammar rules described.\n"
     ]
    }
   ],
   "source": [
    "print(output.choices[0].message.content)"
   ]
  },
  {
   "cell_type": "code",
   "execution_count": null,
   "id": "4afe9ed6-33be-426c-9aa0-698dc227bcd6",
   "metadata": {},
   "outputs": [],
   "source": []
  },
  {
   "cell_type": "code",
   "execution_count": null,
   "id": "51d5d5ee-bb50-4a6e-bbad-aee2946f69cd",
   "metadata": {},
   "outputs": [],
   "source": []
  },
  {
   "cell_type": "code",
   "execution_count": null,
   "id": "9e7ef160-88b2-456f-b66a-75bfa1bc9b8d",
   "metadata": {},
   "outputs": [],
   "source": []
  },
  {
   "cell_type": "code",
   "execution_count": null,
   "id": "e14114f6-70ca-4da6-a27c-b36d35928a09",
   "metadata": {},
   "outputs": [],
   "source": []
  }
 ],
 "metadata": {
  "kernelspec": {
   "display_name": "Python 3 (ipykernel)",
   "language": "python",
   "name": "python3"
  },
  "language_info": {
   "codemirror_mode": {
    "name": "ipython",
    "version": 3
   },
   "file_extension": ".py",
   "mimetype": "text/x-python",
   "name": "python",
   "nbconvert_exporter": "python",
   "pygments_lexer": "ipython3",
   "version": "3.12.2"
  }
 },
 "nbformat": 4,
 "nbformat_minor": 5
}
