{
 "cells": [
  {
   "cell_type": "markdown",
   "id": "527cb2ea-cb32-4793-9025-2ca24e3f44b7",
   "metadata": {},
   "source": [
    "# Goals\n",
    "\n",
    "The goals of this demo is to download the style-guide rules and use llama3, using Ollama, to generate synthetic data.\n",
    "\n",
    "You'll also have the chance to see the synthetic data that I generated when using these tools."
   ]
  },
  {
   "cell_type": "code",
   "execution_count": null,
   "id": "407c7e14-dba3-4a26-a1a3-be4edb6815fc",
   "metadata": {
    "scrolled": true
   },
   "outputs": [],
   "source": [
    "## get the data\n",
    "\n",
    "! mkdir ../demo-data\n",
    "\n",
    "! wget https://storage.googleapis.com/usc-data/style-guide-data/6-1-2024__alex__synthetic-generations.tar.gz\n",
    "! wget https://storage.googleapis.com/usc-data/style-guide-data/style-guides.tar.gz\n",
    "! mkdir ../demo-data/trial-synthetic-generations\n",
    "! mkdir ../demo-data/style-guides\n",
    "! tar -xzvf 6-1-2024__alex__synthetic-generations.tar.gz  -C ../demo-data/trial-synthetic-generations --strip-components=1\n",
    "! tar -xzvf style-guides.tar.gz  -C ../demo-data/style-guides --strip-components=1\n",
    "# clean up \n",
    "! rm style-guides.tar.gz\n",
    "! rm 6-1-2024__alex__synthetic-generations.tar.gz"
   ]
  },
  {
   "cell_type": "markdown",
   "id": "426e86f0-88d9-4023-b771-0d2562766748",
   "metadata": {},
   "source": [
    "# Let's start by look through the synthetic data I generated\n",
    "(remember, this synthetic data only violates 1 rule)"
   ]
  },
  {
   "cell_type": "code",
   "execution_count": null,
   "id": "99ee9a2e-fae4-4ed1-88ff-afb6af5e54f2",
   "metadata": {},
   "outputs": [],
   "source": [
    "import sys\n",
    "sys.path.insert(0, '../tasks/generate_synthetic_example_data/')\n",
    "import glob\n",
    "import pandas as pd \n",
    "\n",
    "style_guide_dir = '../demo-data/style-guides'\n",
    "synthetic_dir = '../demo-data/trial-synthetic-generations'\n",
    "orig_input_file = pd.read_json(f'{style_guide_dir}/chicago-style-guide/all-rules.jsonl', lines=True)\n",
    "bad_sentence_files = glob.glob(f'{synthetic_dir}/*cot*')\n",
    "\n",
    "mixtral_data_df = pd.read_json(f'{synthetic_dir}/mixtral_zeroshot_cot_bad_only.jsonl', lines=True)\n",
    "gpt4_data_df = pd.read_json(f'{synthetic_dir}/gpt-4-turbo_zeroshot_cot_bad_only.jsonl', lines=True)\n",
    "llama_data_df = pd.read_json(f'{synthetic_dir}/llama-3-70b_zeroshot_cot_bad_only.jsonl', lines=True)\n",
    "gpt3_data_df = pd.read_json(f'{synthetic_dir}/gpt-3.5-turbo_zeroshot_cot_bad_only.jsonl', lines=True)\n",
    "command_r_data_df = pd.read_json(f'{synthetic_dir}/command-r_zeroshot_cot_bad_only.jsonl', lines=True)"
   ]
  },
  {
   "cell_type": "markdown",
   "id": "6811ea66-5f29-4a1b-86e5-9b2800f313a1",
   "metadata": {},
   "source": [
    "This data was generated via the following prompt:"
   ]
  },
  {
   "cell_type": "code",
   "execution_count": 34,
   "id": "867ed0f7-c1e8-4184-b64d-9b0377866ffa",
   "metadata": {},
   "outputs": [
    {
     "name": "stdout",
     "output_type": "stream",
     "text": [
      "You are a helpful editor's assistant. I am trying to read a style guide. Here is an entry in the style guide:\n",
      "\n",
      "Title: {style_guide_rule_title}\n",
      "\n",
      "```{style_guide_rule}```\n",
      "\n",
      "The entry might specify a generic grammar definition, a specific rule, a specific spelling, or something else.\n",
      "If the rule contains just a single word, it is likely demonstrating the correct spelling of that word.\n",
      "\n",
      "I want examples of sentences that this would be applicable to.\n",
      "\n",
      "Let's think about this step-by-step. \n",
      "1. Is there a rule being expressed? \n",
      "2. Is this rule something that can be violated?\n",
      "\n",
      "If the answer to 1 or 2 is No, then say \"No clear rule or preference expressed.\" and STOP.\n",
      "\n",
      "If the answer to 1 and 2 is Yes, then:\n",
      "3. Simplify the rule in plain language and specify ways it can be broken.\n",
      "(Note: if it is a spelling rule, to violate it, simply misspell the word).\n",
      "\n",
      "Then, generate {n} example sentences that violate this rule. Don't worry about them sounding wrong.\n",
      "Make them topically sound like news-article sentences: they should be about current events, or similar news writing.\n",
      "The example sentences in A PYTHON LIST. Don't output in any other format.\n",
      "\n"
     ]
    }
   ],
   "source": [
    "import prompts\n",
    "print(prompts.ZERO_SHOT_COT_BAD_SYNTHETIC_DATA)"
   ]
  },
  {
   "cell_type": "markdown",
   "id": "e8b554fb-30fb-407b-9360-488fc4492976",
   "metadata": {},
   "source": [
    "Let's put it into a dataframe so we can read it more easily:"
   ]
  },
  {
   "cell_type": "code",
   "execution_count": 23,
   "id": "cd55ee39-bca8-4388-8b77-3d728fe8aab6",
   "metadata": {},
   "outputs": [],
   "source": [
    "input_data_df_w_all_annotations = (\n",
    "    orig_input_file\n",
    "    ## gpt 4\n",
    "         .merge(gpt4_data_df.rename(columns={'key': 'url'})).rename(columns={'message': 'message_gpt4'})\n",
    "    # ##  mixtral\n",
    "         .merge(mixtral_data_df.rename(columns={'key': 'url'}), how='left').rename(columns={'message': 'message_mixtral'})\n",
    "    # ##  command-r\n",
    "         .merge(command_r_data_df.rename(columns={'key': 'url'}), how='left').rename(columns={'message': 'message_command_r'})\n",
    "    # ##  llama 3\n",
    "         .merge(llama_data_df.rename(columns={'key': 'url'}), how='left').rename(columns={'message': 'message_llama'})\n",
    "        .drop_duplicates('url')\n",
    ")"
   ]
  },
  {
   "cell_type": "markdown",
   "id": "46b30118-e770-4839-84d1-1ea9308566a8",
   "metadata": {},
   "source": [
    "This dataframe has the following columns:\n",
    "\n",
    "`['url', 'section_number', 'title', 'hierarchy']` <- These are all unique IDs for the style-guide rule being used.\n",
    "\n",
    "`'content'` <- This is the content of the style guide rule\n",
    "\n",
    "`['message_gpt4', 'message_mixtral', 'message_command_r', 'message_llama']` <- These all refer to outputs from different language models.\n",
    "\n",
    "For reference:\n",
    "\n",
    "* GPT4: this is GPT4, from OpenAI, https://openai.com/index/gpt-4/\n",
    "* Mixtral: this is Mixtral-8x7b, https://huggingface.co/mistralai/Mixtral-8x7B-Instruct-v0.1\n",
    "* Command R: This command-r-v01, https://huggingface.co/CohereForAI/c4ai-command-r-v01-4bit\n",
    "* Llama: This is llama 70b, https://huggingface.co/meta-llama/Meta-Llama-3-70B-Instruct "
   ]
  },
  {
   "cell_type": "code",
   "execution_count": 36,
   "id": "cbb0415a-42dc-40bd-a0a1-9db3c0200680",
   "metadata": {},
   "outputs": [
    {
     "data": {
      "text/html": [
       "<div>\n",
       "<style scoped>\n",
       "    .dataframe tbody tr th:only-of-type {\n",
       "        vertical-align: middle;\n",
       "    }\n",
       "\n",
       "    .dataframe tbody tr th {\n",
       "        vertical-align: top;\n",
       "    }\n",
       "\n",
       "    .dataframe thead th {\n",
       "        text-align: right;\n",
       "    }\n",
       "</style>\n",
       "<table border=\"1\" class=\"dataframe\">\n",
       "  <thead>\n",
       "    <tr style=\"text-align: right;\">\n",
       "      <th></th>\n",
       "      <th>url</th>\n",
       "      <th>section_number</th>\n",
       "      <th>title</th>\n",
       "      <th>hierarchy</th>\n",
       "      <th>content</th>\n",
       "      <th>message_gpt4</th>\n",
       "      <th>message_mixtral</th>\n",
       "      <th>message_command_r</th>\n",
       "      <th>message_llama</th>\n",
       "    </tr>\n",
       "  </thead>\n",
       "  <tbody>\n",
       "    <tr>\n",
       "      <th>0</th>\n",
       "      <td>/book/ed17/part2/ch05/psec001.html</td>\n",
       "      <td>5.1</td>\n",
       "      <td>The field of grammar</td>\n",
       "      <td>[{'href': '/book/ed17/part2/ch05/toc.html', 't...</td>\n",
       "      <td>In its usual sense, grammar is the set of rule...</td>\n",
       "      <td>1. **Is there a rule being expressed?**\\n   Th...</td>\n",
       "      <td>No clear rule or preference expressed.\\n\\nThe ...</td>\n",
       "      <td>Yes, there are rules being expressed, and they...</td>\n",
       "      <td>Let's break down the entry step-by-step.\\n\\n1....</td>\n",
       "    </tr>\n",
       "    <tr>\n",
       "      <th>8</th>\n",
       "      <td>/book/ed17/part2/ch05/psec002.html</td>\n",
       "      <td>5.2</td>\n",
       "      <td>Schools of grammatical thought</td>\n",
       "      <td>[{'href': '/book/ed17/part2/ch05/toc.html', 't...</td>\n",
       "      <td>There are many schools of grammatical thought—...</td>\n",
       "      <td>1. Is there a rule being expressed?\\n\\nUpon re...</td>\n",
       "      <td>No clear rule or preference expressed.\\n\\nThe ...</td>\n",
       "      <td>Yes, there is a rule being expressed, and it i...</td>\n",
       "      <td>Let's break it down step by step.\\n\\n1. Is the...</td>\n",
       "    </tr>\n",
       "  </tbody>\n",
       "</table>\n",
       "</div>"
      ],
      "text/plain": [
       "                                  url  section_number  \\\n",
       "0  /book/ed17/part2/ch05/psec001.html             5.1   \n",
       "8  /book/ed17/part2/ch05/psec002.html             5.2   \n",
       "\n",
       "                            title  \\\n",
       "0            The field of grammar   \n",
       "8  Schools of grammatical thought   \n",
       "\n",
       "                                           hierarchy  \\\n",
       "0  [{'href': '/book/ed17/part2/ch05/toc.html', 't...   \n",
       "8  [{'href': '/book/ed17/part2/ch05/toc.html', 't...   \n",
       "\n",
       "                                             content  \\\n",
       "0  In its usual sense, grammar is the set of rule...   \n",
       "8  There are many schools of grammatical thought—...   \n",
       "\n",
       "                                        message_gpt4  \\\n",
       "0  1. **Is there a rule being expressed?**\\n   Th...   \n",
       "8  1. Is there a rule being expressed?\\n\\nUpon re...   \n",
       "\n",
       "                                     message_mixtral  \\\n",
       "0  No clear rule or preference expressed.\\n\\nThe ...   \n",
       "8  No clear rule or preference expressed.\\n\\nThe ...   \n",
       "\n",
       "                                   message_command_r  \\\n",
       "0  Yes, there are rules being expressed, and they...   \n",
       "8  Yes, there is a rule being expressed, and it i...   \n",
       "\n",
       "                                       message_llama  \n",
       "0  Let's break down the entry step-by-step.\\n\\n1....  \n",
       "8  Let's break it down step by step.\\n\\n1. Is the...  "
      ]
     },
     "execution_count": 36,
     "metadata": {},
     "output_type": "execute_result"
    }
   ],
   "source": [
    "input_data_df_w_all_annotations.head(2)"
   ]
  },
  {
   "cell_type": "markdown",
   "id": "8bb2b4a7-441f-471a-af44-6ecf4efd7963",
   "metadata": {},
   "source": [
    "Here is the output from one row of the dataframe. What this shows is different LLM generations of bad, synthetic data:"
   ]
  },
  {
   "cell_type": "code",
   "execution_count": 24,
   "id": "b567f007-bdb6-493f-9065-1b67042863c4",
   "metadata": {},
   "outputs": [
    {
     "name": "stdout",
     "output_type": "stream",
     "text": [
      "content\n",
      "---------------------------------\n",
      "Large or complex fractions are expressed as numeric decimal fractions (cf. 9.14). When a quantity equals less than 1.00, a zero normally appears before the decimal point as an aid to readability, particularly in scientific contexts and especially if quantities greater than 1.00 appear in the same context. Note that a unit of measure with a quantity of less than one is generally treated as if it were plural (see 10.65, 10.53). See also 9.55, 9.58.\n",
      "\n",
      "a mean of 0.73\n",
      "the ratio 0.85\n",
      "In Cyprus, there were 0.96 females for every male in the general population; in the sixty-five-and-over age group, the number was 1.30.\n",
      "\n",
      "In contexts where decimal quantities must be 1.00 or less, as in probabilities, batting averages, and the like, or between −1.00 and 1.00, as in correlation coefficients, a zero is typically omitted before the decimal point. For zeros with decimal points in tables, see 3.72.\n",
      "\n",
      "\n",
      "p < .05\n",
      "\n",
      "R = .10\n",
      "Ty Cobb’s career batting average was .367.\n",
      "\n",
      "By a similar token, the zero is routinely omitted from firearm calibers expressed as fractions of an inch.\n",
      "\n",
      "They found and confiscated a .38 police special and a .22-caliber single-shot rifle.\n",
      "\n",
      "\n",
      "message_gpt4\n",
      "---------------------------------\n",
      "1. **Is there a rule being expressed?**  \n",
      "   Yes, the style guide expresses specific rules regarding the use of zeros before decimal points in different contexts.\n",
      "\n",
      "2. **Is this rule something that can be violated?**  \n",
      "   Yes, the rules can be violated by not following the specified formatting for decimal numbers.\n",
      "\n",
      "3. **Simplify the rule in plain language and specify ways it can be broken.**  \n",
      "   The rule states:\n",
      "   - Include a zero before decimal fractions less than 1.00 for clarity, especially in scientific contexts or when numbers greater than 1.00 are also present.\n",
      "   - Omit the zero before decimal fractions in specific contexts like probabilities, batting averages, correlation coefficients, and firearm calibers.\n",
      "\n",
      "   Ways to break this rule:\n",
      "   - Omitting the zero before decimal fractions less than 1.00 in general contexts.\n",
      "   - Including a zero before decimal fractions in contexts where it should be omitted (probabilities, batting averages, etc.).\n",
      "\n",
      "Here are 10 example sentences that violate this rule:\n",
      "\n",
      "```python\n",
      "[\n",
      "    \"The recent study shows that water boils at .100 degrees Celsius under certain conditions.\",\n",
      "    \"In the latest survey, only .55 of respondents agreed with the new policy.\",\n",
      "    \"The probability of rain tomorrow is 0.2 according to the weather forecast.\",\n",
      "    \"His batting average this season is 0.456, which is one of the highest in the league.\",\n",
      "    \"The correlation between the variables was found to be 0.05, indicating a very weak relationship.\",\n",
      "    \"The new report states that .75 of the population supports the change in law.\",\n",
      "    \"During the experiment, the solution had a pH level of .07.\",\n",
      "    \"The economist noted that the growth rate of the economy was .03 last quarter.\",\n",
      "    \"She scored .95 on her final exam, which was the highest in the class.\",\n",
      "    \"The museum reported that .85 of all visitors were satisfied with their experience.\"\n",
      "]\n",
      "```\n",
      "\n",
      "These sentences either incorrectly omit or include the zero in decimal fractions, contrary to the guidelines specified in the style guide entry.\n",
      "\n",
      "\n",
      "message_mixtral\n",
      "---------------------------------\n",
      "No clear rule or preference expressed. The entry provides a guideline for expressing decimal fractions and the use of the zero, but it does not explicitly state that the provided examples must be followed, nor does it specify a penalty for not following them. Therefore, it is not a rule that can be violated. Instead, it is a style recommendation.\n",
      "\n",
      "However, if we simplify the guideline in plain language, it would be: \"When expressing decimal fractions, include a zero before the decimal point if the quantity is less than 1.00, except in certain contexts such as probabilities, batting averages, and firearm calibers.\"\n",
      "\n",
      "Here are 10 example sentences that violate this guideline by not including a zero before the decimal point when the quantity is less than 1.00:\n",
      "\n",
      "[\n",
      "\"The company's market share dropped to .5% last quarter.\",\n",
      "\"The unemployment rate in the region is currently .32.\",\n",
      "\"The new policy will affect approximately .75% of our customers.\",\n",
      "\"The test showed a radiation level of .08 mSv.\",\n",
      "\"The patient's white blood cell count is .9.\",\n",
      "\"The new product has a failure rate of .02.\",\n",
      "\"The company's revenue growth was -.15% last year.\",\n",
      "\"The new policy will save the company .03% in operating costs.\",\n",
      "\"The new product has a defect rate of .005.\",\n",
      "\"The new policy will reduce emissions by .01%.\"\n",
      "]</s>\n",
      "\n",
      "\n",
      "message_command_r\n",
      "---------------------------------\n",
      "1. Yes, there is a clear rule being expressed. It regards how to format certain decimal numbers.\n",
      "\n",
      "2. Yes, this rule can be violated, as evidenced by the examples given.\n",
      "\n",
      "3. The general rule, as understood through context and the examples given, is that decimals less than 1.00 should have a leading zero in most circumstances. \n",
      "\n",
      "This rule can be broken in the following ways:\n",
      "- When the decimal number is already specified in a unit of measurement, such as in lengths or calibers.\n",
      "- When the number is meant to be understood as a probability, correlation coefficient, or similar metric where the full range is 1.00 or less, or −1.00 to 1.00.\n",
      "\n",
      "Here are 10 example sentences that violate the stated rule:\n",
      "\n",
      "1. The study found that the average household size had decreased to 2.4 over the past year.\n",
      "\n",
      "2. Health officials reported 29 new COVID cases, with an average age of 37.\n",
      "\n",
      "3. The poll shows a 46% approval rating, a 7-point drop from the previous month.\n",
      "\n",
      "4. NASA's latest Mars orbit insertion maneuver succeeded, with the spacecraft's engine firing for a crucial 28-minute window.\n",
      "\n",
      "5. Apple's new iPhone release has a sleek new design and boasts a 12MP camera, a major upgrade.\n",
      "\n",
      "6. The correlation between social media use and anxiety disorders, a growing concern, showed a weak but significant positive correlation of 0.42.\n",
      "\n",
      "7. Police have identified a suspected gunman in the recent string of shootings, a 23-year-old male with a reported IQ of 78.\n",
      "\n",
      "8. Farmers in the region are struggling with crop yields, which have halved this season due to the ongoing drought.\n",
      "\n",
      "9. The new bridge construction is 86% complete, with progress on schedule.\n",
      "\n",
      "10. Omitted zeros can also be seen in firearm calibers, such as the popular .357 magnum.\n",
      "\n",
      "These examples violate the rule by either omitting the leading zero or including units of measurement alongside the decimal fractions.<|END_OF_TURN_TOKEN|>\n",
      "\n",
      "\n",
      "message_llama\n",
      "---------------------------------\n",
      "Let's break down the entry step-by-step.\n",
      "\n",
      "1. Is there a rule being expressed?\n",
      "Yes, the entry expresses rules about when to include or omit a zero before a decimal point in numeric decimal fractions.\n",
      "\n",
      "2. Is this rule something that can be violated?\n",
      "Yes, the rule can be violated by including or omitting the zero in situations where it's not recommended.\n",
      "\n",
      "Now, let's simplify the rule in plain language and specify ways it can be broken:\n",
      "\n",
      "The rule states that when expressing decimal fractions, a zero should normally appear before the decimal point if the quantity is less than 1.00, except in specific contexts such as probabilities, batting averages, and correlation coefficients, where the zero can be omitted.\n",
      "\n",
      "Ways to break this rule:\n",
      "\n",
      "* Omitting the zero before the decimal point in situations where it's recommended (e.g., in scientific contexts or when quantities greater than 1.00 appear in the same context).\n",
      "* Including the zero before the decimal point in situations where it's not recommended (e.g., in probabilities, batting averages, or correlation coefficients).\n",
      "\n",
      "Here are 10 example sentences that violate this rule:\n",
      "\n",
      "```\n",
      "examples = [\n",
      "    \"The new policy has a probability of.5 of being approved.\",  # Should be 0.5\n",
      "    \"The team's batting average was.42 last season.\",  # Should be 0.42\n",
      "    \"The correlation coefficient was.87, indicating a strong relationship.\",  # Should be 0.87\n",
      "    \"The ratio of males to females in the population was 1. females for every.9 males.\",  # Should be 0.9\n",
      "    \"The company's stock price dropped by.5 points yesterday.\",  # Should be 0.5\n",
      "    \"The study found a significant correlation of.7 between the two variables.\",  # Should be 0.7\n",
      "    \"The athlete's career batting average was.321, a new record.\",  # Should be 0.321\n",
      "    \"The probability of winning the lottery is.00001.\",  # Should be 0.00001\n",
      "    \"The firearm caliber was.45 inches, a rare size.\",  # Should be.45 (but actually, it's an exception to the rule)\n",
      "    \"The researcher found a correlation coefficient of.95, indicating a strong relationship.\",  # Should be 0.95\n",
      "]\n",
      "```\n",
      "\n",
      "Note that sentence 9 is actually an exception to the rule, as the zero is omitted before the decimal point in firearm calibers expressed as fractions of an inch.<|eot_id|>\n",
      "\n",
      "\n"
     ]
    }
   ],
   "source": [
    "d = (input_data_df_w_all_annotations\n",
    "     [['content', 'message_gpt4', 'message_mixtral', 'message_command_r', 'message_llama']]\n",
    "     .iloc[700]\n",
    "     # .iloc[0]\n",
    "     .to_dict()\n",
    ")\n",
    "\n",
    "for k, v in d.items():\n",
    "    print(k)\n",
    "    print('---------------------------------')\n",
    "    print(v)\n",
    "\n",
    "    print()\n",
    "    print()"
   ]
  },
  {
   "cell_type": "markdown",
   "id": "9e0a75f8-15ed-4433-808b-85b90d8d2310",
   "metadata": {},
   "source": [
    "# Recreating this output"
   ]
  },
  {
   "cell_type": "markdown",
   "id": "006bfffc-349e-4566-aa64-1028092dff1c",
   "metadata": {},
   "source": [
    "How did I do this? I launched big language models on a server. Hold tight on doing this yourselves – we're working on figuring out how to get you access. In the meantime, you can play around with prompts as follows. \n",
    "\n",
    "Please download and install Ollama: https://ollama.com/"
   ]
  },
  {
   "cell_type": "markdown",
   "id": "2e59efc4-edde-4a78-b73e-03c4f79bdb66",
   "metadata": {},
   "source": [
    "Run this in your terminal:\n",
    "\n",
    "`ollama run llama3`\n",
    "\n",
    "Even llama3 8b is pretty powerful. Llama 70b is better, but that may not run on your local computer.\n",
    "\n",
    "Let's run the zero-shot Chain-of-Thought prompt that I printed above through your local Ollama instance. We'll pick one style-guide rule:"
   ]
  },
  {
   "cell_type": "code",
   "execution_count": 49,
   "id": "b272c348-ac9c-46b8-b31c-cdba326594f6",
   "metadata": {},
   "outputs": [],
   "source": [
    "buzzfeed_style_guide = pd.read_csv(f'{style_guide_dir}/buzzfeed/parsed-rules-df.csv')"
   ]
  },
  {
   "cell_type": "code",
   "execution_count": 54,
   "id": "3a926c9a-1bd2-4c20-a710-e03c3a159502",
   "metadata": {},
   "outputs": [
    {
     "name": "stdout",
     "output_type": "stream",
     "text": [
      "Title: ableism (see also disability )\n",
      "----------------------------------\n",
      "Text: • Avoid ableist language (discriminating against people with disabilities), including figurative use of words like lame , crutch , or handicap (which historically described physical disabilities) and crazy , stupid , or insane (once used as official diagnoses for people housed in institutions) and idioms like lame duck (opt for outgoing president\n",
      "), turns a blind eye , or falls on deaf ears (use willfully ignorant\n",
      "instead) . See Lydia X. Z. Brown’s glossary of ableist language to consider which words and terms to avoid and “ Ableism Is Embedded In Our Language. We Can Dismantle It. ”\n",
      "• Use nondisabled\n",
      "or person without a disability\n",
      "rather than able-bodied , which implies that people with disabilities lack “able bodies,” per NCDJ guidance .\n",
      "• Use low support needs\n",
      "or high support needs\n",
      "when writing about disabled people. Avoid high- and low-functioning ; how someone is “functioning” can change day to day, but support needs do not change so often. Avoid special needs , differently abled , and handicapable .\n"
     ]
    }
   ],
   "source": [
    "title, text = buzzfeed_style_guide.iloc[3][['rule_title', 'rule_text']]\n",
    "print(f'Title: {title}')\n",
    "print('----------------------------------')\n",
    "print(f'Text: {text}')"
   ]
  },
  {
   "cell_type": "code",
   "execution_count": 72,
   "id": "68b72b77-eeb8-430b-81d0-8452ca242b1f",
   "metadata": {},
   "outputs": [],
   "source": [
    "import requests\n",
    "p = prompts.ZERO_SHOT_COT_BAD_SYNTHETIC_DATA.format(\n",
    "    style_guide_rule_title=title,\n",
    "    style_guide_rule=text,\n",
    "    n=3\n",
    ")\n",
    "r = requests.post(\n",
    "    'http://localhost:11434/api/generate', \n",
    "    json = {\n",
    "        \"model\": \"llama3\",\n",
    "        \"prompt\": p,\n",
    "        \"stream\": False\n",
    "})"
   ]
  },
  {
   "cell_type": "code",
   "execution_count": 74,
   "id": "940bb634-bb20-4f9f-b9f1-223630d15916",
   "metadata": {},
   "outputs": [
    {
     "name": "stdout",
     "output_type": "stream",
     "text": [
      "Let's go through the steps:\n",
      "\n",
      "1. Is there a rule being expressed? Yes\n",
      "2. Is this rule something that can be violated? Yes\n",
      "\n",
      "So, let's simplify the rule and specify ways it can be broken:\n",
      "\n",
      "Simplify the rule: Avoid using ableist language and terms when writing about people with disabilities.\n",
      "\n",
      "Ways to break the rule:\n",
      "* Use the words \"lame\", \"crutch\", or \"handicap\" figuratively.\n",
      "* Refer to someone as \"crazy\", \"stupid\", or \"insane\".\n",
      "* Use idioms like \"turns a blind eye\" or \"falls on deaf ears\".\n",
      "\n",
      "Here are three example sentences that violate this rule:\n",
      "\n",
      "[[\"The new policy is going to be a lame duck,\" said the mayor, trying to downplay its impact.]]\n",
      "[['The politician has been accused of turning a blind eye to the crisis in the city's schools.']]\n",
      "[['The company's CEO has always been crazy about innovation and taking risks.']]\n"
     ]
    }
   ],
   "source": [
    "print(r.json()['response'])"
   ]
  },
  {
   "cell_type": "markdown",
   "id": "ba756cca-011c-40c2-afbf-c686cf52e57f",
   "metadata": {},
   "source": [
    "# interesting!!!!"
   ]
  },
  {
   "cell_type": "code",
   "execution_count": null,
   "id": "af936da3-0c0e-4e37-87f9-1dc668adde96",
   "metadata": {},
   "outputs": [],
   "source": []
  },
  {
   "cell_type": "code",
   "execution_count": null,
   "id": "cc4cf2a9-503b-4de6-8561-4644e07fc194",
   "metadata": {},
   "outputs": [],
   "source": []
  },
  {
   "cell_type": "code",
   "execution_count": null,
   "id": "e7a86be9-6ad8-43f9-9525-d8d9800adddf",
   "metadata": {},
   "outputs": [],
   "source": []
  },
  {
   "cell_type": "code",
   "execution_count": null,
   "id": "df464d91-5cac-4c6a-84c7-0d8d870114c8",
   "metadata": {},
   "outputs": [],
   "source": []
  }
 ],
 "metadata": {
  "kernelspec": {
   "display_name": "Python 3 (ipykernel)",
   "language": "python",
   "name": "python3"
  },
  "language_info": {
   "codemirror_mode": {
    "name": "ipython",
    "version": 3
   },
   "file_extension": ".py",
   "mimetype": "text/x-python",
   "name": "python",
   "nbconvert_exporter": "python",
   "pygments_lexer": "ipython3",
   "version": "3.12.2"
  }
 },
 "nbformat": 4,
 "nbformat_minor": 5
}
