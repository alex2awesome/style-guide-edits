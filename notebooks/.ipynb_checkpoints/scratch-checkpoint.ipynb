{
 "cells": [
  {
   "cell_type": "code",
   "execution_count": 1,
   "id": "a9271c3a-8cd5-4737-a1d4-5995988e4901",
   "metadata": {},
   "outputs": [],
   "source": [
    "import gdown"
   ]
  },
  {
   "cell_type": "code",
   "execution_count": 4,
   "id": "6e7abc52-d096-4cbf-9444-7216627d1543",
   "metadata": {},
   "outputs": [
    {
     "name": "stderr",
     "output_type": "stream",
     "text": [
      "Downloading...\n",
      "From (original): https://drive.google.com/uc?id=16ubUT-Q123dqPNdVPXAeF6r6F04Bqjc6PzY4lF53wnc\n",
      "From (redirected): https://docs.google.com/spreadsheets/d/16ubUT-Q123dqPNdVPXAeF6r6F04Bqjc6PzY4lF53wnc/export?format=xlsx\n",
      "To: /Users/spangher/tmp/crowdsource-idea-rankings.xlsx\n",
      "5.17kB [00:00, 3.12MB/s]\n"
     ]
    },
    {
     "data": {
      "text/plain": [
       "'/Users/spangher/tmp/crowdsource-idea-rankings.xlsx'"
      ]
     },
     "execution_count": 4,
     "metadata": {},
     "output_type": "execute_result"
    }
   ],
   "source": [
    "url = 'https://docs.google.com/spreadsheets/d/16ubUT-Q123dqPNdVPXAeF6r6F04Bqjc6PzY4lF53wnc/edit?usp=sharing'\n",
    "gdown.download(url, output='/Users/spangher/tmp/crowdsource-idea-rankings.xlsx', fuzzy=True)"
   ]
  },
  {
   "cell_type": "code",
   "execution_count": 3,
   "id": "264220fe-68ad-4b67-8954-8ff9bdd5e893",
   "metadata": {},
   "outputs": [],
   "source": [
    "import pandas as pd "
   ]
  },
  {
   "cell_type": "code",
   "execution_count": 6,
   "id": "4dfb32e3-0fa7-4bf6-9de4-37c506f8f2e6",
   "metadata": {},
   "outputs": [],
   "source": [
    "df = pd.read_excel('/Users/spangher/tmp/crowdsource-idea-rankings.xlsx')"
   ]
  },
  {
   "cell_type": "code",
   "execution_count": 15,
   "id": "92733c12-8f51-4980-97f3-fdf92bc0402e",
   "metadata": {},
   "outputs": [],
   "source": [
    "df = df.apply(lambda s: s.astype(str).str.replace('*', '')).astype(int)"
   ]
  },
  {
   "cell_type": "code",
   "execution_count": null,
   "id": "edba2bb8-efb3-4acd-8924-acb2fada1a5f",
   "metadata": {},
   "outputs": [],
   "source": [
    "df.mean().sort_values()"
   ]
  },
  {
   "cell_type": "code",
   "execution_count": 24,
   "id": "69eb3525-4ede-4064-9b53-443921ed92f9",
   "metadata": {},
   "outputs": [
    {
     "data": {
      "text/plain": [
       "Style Guide Edits          0.620370\n",
       "Discourse Translation      0.583333\n",
       "Journalist Toolformer      0.509259\n",
       "Homepage Newsworthiness    0.453704\n",
       "dtype: float64"
      ]
     },
     "execution_count": 24,
     "metadata": {},
     "output_type": "execute_result"
    }
   ],
   "source": [
    "(1 / df).mean().sort_values(ascending=False)"
   ]
  },
  {
   "cell_type": "code",
   "execution_count": null,
   "id": "9e54e1b5-ef4a-4ae3-bf78-d88d65ddb5cb",
   "metadata": {},
   "outputs": [],
   "source": []
  },
  {
   "cell_type": "code",
   "execution_count": null,
   "id": "64a4f72c-586f-4310-813c-ff3d877cd359",
   "metadata": {},
   "outputs": [],
   "source": []
  },
  {
   "cell_type": "code",
   "execution_count": null,
   "id": "c58ea0ab-5ecf-4992-b790-1149c1ddaeb0",
   "metadata": {},
   "outputs": [],
   "source": []
  },
  {
   "cell_type": "code",
   "execution_count": null,
   "id": "fb090402-4713-40cc-ad42-a17bca48e917",
   "metadata": {},
   "outputs": [],
   "source": []
  },
  {
   "cell_type": "code",
   "execution_count": null,
   "id": "37c44151-5d7c-43b7-ab4e-6541caa06d07",
   "metadata": {},
   "outputs": [],
   "source": []
  }
 ],
 "metadata": {
  "kernelspec": {
   "display_name": "Python 3 (ipykernel)",
   "language": "python",
   "name": "python3"
  },
  "language_info": {
   "codemirror_mode": {
    "name": "ipython",
    "version": 3
   },
   "file_extension": ".py",
   "mimetype": "text/x-python",
   "name": "python",
   "nbconvert_exporter": "python",
   "pygments_lexer": "ipython3",
   "version": "3.12.2"
  }
 },
 "nbformat": 4,
 "nbformat_minor": 5
}
