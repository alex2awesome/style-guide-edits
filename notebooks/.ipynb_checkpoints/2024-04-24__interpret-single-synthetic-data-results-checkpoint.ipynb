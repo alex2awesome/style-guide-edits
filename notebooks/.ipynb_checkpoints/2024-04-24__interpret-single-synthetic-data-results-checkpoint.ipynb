{
 "cells": [
  {
   "cell_type": "code",
   "execution_count": 5,
   "id": "65fc8b80-32e9-4784-9060-91c76a093734",
   "metadata": {},
   "outputs": [],
   "source": [
    "import ast\n",
    "import json\n",
    "from tqdm.auto import tqdm\n",
    "import pandas as pd \n",
    "import re \n",
    "import sys\n",
    "sys.path.insert(0, '../tasks/generate_synthetic_example_data/')\n",
    "import run_synthetic_data_models as r\n",
    "import warnings\n",
    "warnings.simplefilter(action='ignore', category=SyntaxWarning)\n",
    "\n",
    "tok, gpt_4_model,_ = r.get_model('gpt-4-turbo', cache_dir=None)"
   ]
  },
  {
   "cell_type": "code",
   "execution_count": 2,
   "id": "c61c1135-ddbf-4851-929d-8a495c1acd32",
   "metadata": {},
   "outputs": [
    {
     "name": "stdout",
     "output_type": "stream",
     "text": [
      "-rw-rw---- 1 spangher jonmay_231  984K Apr 23 23:24 gpt-3.5-turbo_zeroshot_bad_only.jsonl\n",
      "-rw-rw---- 1 spangher jonmay_231  508K Apr 23 23:47 gpt-4-turbo_zeroshot_bad_only.jsonl\n",
      "-rw-rw---- 1 spangher jonmay_231     0 Apr 23 22:31 llama-3-70b_zeroshot_bad_only.jsonl\n",
      "-rw-rw---- 1 spangher jonmay_231     0 Apr 23 22:31 mixtral_zeroshot_bad_only.jsonl\n"
     ]
    }
   ],
   "source": [
    "proj_dir = '/project/jonmay_231/spangher/Projects/style-guides'\n",
    "! ssh end \"ls -lh $proj_dir/tasks/generate_synthetic_example_data/ | grep bad_only.jsonl\""
   ]
  },
  {
   "cell_type": "code",
   "execution_count": 6,
   "id": "125144ef-1171-40f5-8ab1-ca229beb3a89",
   "metadata": {},
   "outputs": [
    {
     "name": "stdout",
     "output_type": "stream",
     "text": [
      "gpt-4-turbo_zeroshot_bad_only.jsonl           100%  508KB 443.5KB/s   00:01    \n",
      "gpt-3.5-turbo_zeroshot_bad_only.jsonl         100%  983KB 100.9KB/s   00:09    \n"
     ]
    }
   ],
   "source": [
    "! scp end:$proj_dir/tasks/generate_synthetic_example_data/gpt-4-turbo_zeroshot_bad_only.jsonl ../tasks/generate_synthetic_example_data/\n",
    "! scp end:$proj_dir/tasks/generate_synthetic_example_data/gpt-3.5-turbo_zeroshot_bad_only.jsonl ../tasks/generate_synthetic_example_data/\n",
    "# ! scp end:$proj_dir/tasks/generate_synthetic_example_data/command-r_zeroshot.jsonl ../tasks/generate_synthetic_example_data/\n",
    "# ! scp end:$proj_dir/tasks/generate_synthetic_example_data/mixtral_zeroshot.jsonl ../tasks/generate_synthetic_example_data/"
   ]
  },
  {
   "cell_type": "code",
   "execution_count": 18,
   "id": "17a64cce-3018-4d94-9557-e39267cb05b5",
   "metadata": {},
   "outputs": [],
   "source": [
    "# mixtral_data_df = pd.read_json('../tasks/generate_synthetic_example_data/mixtral_zeroshot.jsonl', lines=True)\n",
    "# command_r_data_df = pd.read_json('../tasks/generate_synthetic_example_data/command-r_zeroshot.jsonl', lines=True)\n",
    "input_data_df = pd.read_json('../corpora/chicago-style-guide/all-rules.jsonl', lines=True)\n",
    "gpt4_data_df = pd.read_json('../tasks/generate_synthetic_example_data/gpt-4-turbo_zeroshot_bad_only.jsonl', lines=True)\n",
    "gpt3_data_df = pd.read_json('../tasks/generate_synthetic_example_data/gpt-3.5-turbo_zeroshot_bad_only.jsonl', lines=True)"
   ]
  },
  {
   "cell_type": "code",
   "execution_count": 22,
   "id": "c486020c-2b03-4350-918f-fafe95858f21",
   "metadata": {
    "scrolled": true
   },
   "outputs": [
    {
     "ename": "KeyError",
     "evalue": "'parsed_output'",
     "output_type": "error",
     "traceback": [
      "\u001b[0;31m---------------------------------------------------------------------------\u001b[0m",
      "\u001b[0;31mKeyError\u001b[0m                                  Traceback (most recent call last)",
      "File \u001b[0;32m~/miniconda3/lib/python3.12/site-packages/pandas/core/indexes/base.py:3805\u001b[0m, in \u001b[0;36mIndex.get_loc\u001b[0;34m(self, key)\u001b[0m\n\u001b[1;32m   3804\u001b[0m \u001b[38;5;28;01mtry\u001b[39;00m:\n\u001b[0;32m-> 3805\u001b[0m     \u001b[38;5;28;01mreturn\u001b[39;00m \u001b[38;5;28;43mself\u001b[39;49m\u001b[38;5;241;43m.\u001b[39;49m\u001b[43m_engine\u001b[49m\u001b[38;5;241;43m.\u001b[39;49m\u001b[43mget_loc\u001b[49m\u001b[43m(\u001b[49m\u001b[43mcasted_key\u001b[49m\u001b[43m)\u001b[49m\n\u001b[1;32m   3806\u001b[0m \u001b[38;5;28;01mexcept\u001b[39;00m \u001b[38;5;167;01mKeyError\u001b[39;00m \u001b[38;5;28;01mas\u001b[39;00m err:\n",
      "File \u001b[0;32mindex.pyx:167\u001b[0m, in \u001b[0;36mpandas._libs.index.IndexEngine.get_loc\u001b[0;34m()\u001b[0m\n",
      "File \u001b[0;32mindex.pyx:196\u001b[0m, in \u001b[0;36mpandas._libs.index.IndexEngine.get_loc\u001b[0;34m()\u001b[0m\n",
      "File \u001b[0;32mpandas/_libs/hashtable_class_helper.pxi:7081\u001b[0m, in \u001b[0;36mpandas._libs.hashtable.PyObjectHashTable.get_item\u001b[0;34m()\u001b[0m\n",
      "File \u001b[0;32mpandas/_libs/hashtable_class_helper.pxi:7089\u001b[0m, in \u001b[0;36mpandas._libs.hashtable.PyObjectHashTable.get_item\u001b[0;34m()\u001b[0m\n",
      "\u001b[0;31mKeyError\u001b[0m: 'parsed_output'",
      "\nThe above exception was the direct cause of the following exception:\n",
      "\u001b[0;31mKeyError\u001b[0m                                  Traceback (most recent call last)",
      "Cell \u001b[0;32mIn[22], line 5\u001b[0m\n\u001b[1;32m      1\u001b[0m input_data_df_w_all_annotations \u001b[38;5;241m=\u001b[39m (\n\u001b[1;32m      2\u001b[0m     \u001b[43minput_data_df\u001b[49m\n\u001b[1;32m      3\u001b[0m \u001b[43m    \u001b[49m\u001b[38;5;66;43;03m## gpt 4\u001b[39;49;00m\n\u001b[1;32m      4\u001b[0m \u001b[43m         \u001b[49m\u001b[38;5;241;43m.\u001b[39;49m\u001b[43mmerge\u001b[49m\u001b[43m(\u001b[49m\u001b[43mgpt4_data_df\u001b[49m\u001b[38;5;241;43m.\u001b[39;49m\u001b[43mdrop\u001b[49m\u001b[43m(\u001b[49m\u001b[43mcolumns\u001b[49m\u001b[38;5;241;43m=\u001b[39;49m\u001b[43m[\u001b[49m\u001b[38;5;124;43m'\u001b[39;49m\u001b[38;5;124;43mmessage\u001b[39;49m\u001b[38;5;124;43m'\u001b[39;49m\u001b[43m]\u001b[49m\u001b[43m)\u001b[49m\u001b[38;5;241;43m.\u001b[39;49m\u001b[43mrename\u001b[49m\u001b[43m(\u001b[49m\u001b[43mcolumns\u001b[49m\u001b[38;5;241;43m=\u001b[39;49m\u001b[43m{\u001b[49m\u001b[38;5;124;43m'\u001b[39;49m\u001b[38;5;124;43mkey\u001b[39;49m\u001b[38;5;124;43m'\u001b[39;49m\u001b[43m:\u001b[49m\u001b[43m \u001b[49m\u001b[38;5;124;43m'\u001b[39;49m\u001b[38;5;124;43murl\u001b[39;49m\u001b[38;5;124;43m'\u001b[39;49m\u001b[43m}\u001b[49m\u001b[43m)\u001b[49m\u001b[43m)\u001b[49m\n\u001b[0;32m----> 5\u001b[0m \u001b[43m         \u001b[49m\u001b[38;5;241;43m.\u001b[39;49m\u001b[43massign\u001b[49m\u001b[43m(\u001b[49m\u001b[43mwas_unclear_gpt4\u001b[49m\u001b[38;5;241;43m=\u001b[39;49m\u001b[38;5;28;43;01mlambda\u001b[39;49;00m\u001b[43m \u001b[49m\u001b[43mdf\u001b[49m\u001b[43m:\u001b[49m\u001b[43m \u001b[49m\u001b[43mdf\u001b[49m\u001b[43m[\u001b[49m\u001b[38;5;124;43m'\u001b[39;49m\u001b[38;5;124;43mparsed_output\u001b[39;49m\u001b[38;5;124;43m'\u001b[39;49m\u001b[43m]\u001b[49m\u001b[43m \u001b[49m\u001b[38;5;241;43m==\u001b[39;49m\u001b[43m \u001b[49m\u001b[43mWAS_UNCLEAR_STR\u001b[49m\u001b[43m)\u001b[49m\n\u001b[1;32m      6\u001b[0m          \u001b[38;5;241m.\u001b[39massign(parsed_output\u001b[38;5;241m=\u001b[39m\u001b[38;5;28;01mlambda\u001b[39;00m df: df[\u001b[38;5;124m'\u001b[39m\u001b[38;5;124mparsed_output\u001b[39m\u001b[38;5;124m'\u001b[39m]\u001b[38;5;241m.\u001b[39mapply(\u001b[38;5;28;01mlambda\u001b[39;00m x: x \u001b[38;5;28;01mif\u001b[39;00m x \u001b[38;5;241m!=\u001b[39m WAS_UNCLEAR_STR \u001b[38;5;28;01melse\u001b[39;00m \u001b[38;5;28;01mNone\u001b[39;00m))\n\u001b[1;32m      7\u001b[0m          \u001b[38;5;241m.\u001b[39mrename(columns\u001b[38;5;241m=\u001b[39m{\u001b[38;5;124m'\u001b[39m\u001b[38;5;124mparsed_output\u001b[39m\u001b[38;5;124m'\u001b[39m: \u001b[38;5;124m'\u001b[39m\u001b[38;5;124mparsed_gpt4\u001b[39m\u001b[38;5;124m'\u001b[39m})\n\u001b[1;32m      8\u001b[0m     \u001b[38;5;66;03m# ##  mixtral\u001b[39;00m\n\u001b[1;32m      9\u001b[0m     \u001b[38;5;66;03m#      .merge(mixtral_data_df.drop(columns=['message']).rename(columns={'key': 'url'}), how='left')\u001b[39;00m\n\u001b[1;32m     10\u001b[0m     \u001b[38;5;66;03m#      .assign(was_unclear_mixtral=lambda df: df['parsed_output'] == WAS_UNCLEAR_STR)\u001b[39;00m\n\u001b[1;32m     11\u001b[0m     \u001b[38;5;66;03m#      .assign(parsed_output=lambda df: df['parsed_output'].apply(lambda x: x if x != WAS_UNCLEAR_STR else None))\u001b[39;00m\n\u001b[1;32m     12\u001b[0m     \u001b[38;5;66;03m#      .rename(columns={'parsed_output': 'parsed_mixtral'})\u001b[39;00m\n\u001b[1;32m     13\u001b[0m     \u001b[38;5;66;03m# ##  command-r\u001b[39;00m\n\u001b[1;32m     14\u001b[0m     \u001b[38;5;66;03m#      .merge(command_r_data_df.drop(columns=['message']).rename(columns={'key': 'url'}), how='left')\u001b[39;00m\n\u001b[1;32m     15\u001b[0m     \u001b[38;5;66;03m#      .assign(was_unclear_command_r=lambda df: df['parsed_output'] == WAS_UNCLEAR_STR)\u001b[39;00m\n\u001b[1;32m     16\u001b[0m     \u001b[38;5;66;03m#      .assign(parsed_output=lambda df: df['parsed_output'].apply(lambda x: x if x != WAS_UNCLEAR_STR else None))\u001b[39;00m\n\u001b[1;32m     17\u001b[0m     \u001b[38;5;66;03m#      .rename(columns={'parsed_output': 'parsed_command_r'})\u001b[39;00m\n\u001b[1;32m     18\u001b[0m )\n",
      "File \u001b[0;32m~/miniconda3/lib/python3.12/site-packages/pandas/core/frame.py:5226\u001b[0m, in \u001b[0;36mDataFrame.assign\u001b[0;34m(self, **kwargs)\u001b[0m\n\u001b[1;32m   5223\u001b[0m data \u001b[38;5;241m=\u001b[39m \u001b[38;5;28mself\u001b[39m\u001b[38;5;241m.\u001b[39mcopy(deep\u001b[38;5;241m=\u001b[39m\u001b[38;5;28;01mNone\u001b[39;00m)\n\u001b[1;32m   5225\u001b[0m \u001b[38;5;28;01mfor\u001b[39;00m k, v \u001b[38;5;129;01min\u001b[39;00m kwargs\u001b[38;5;241m.\u001b[39mitems():\n\u001b[0;32m-> 5226\u001b[0m     data[k] \u001b[38;5;241m=\u001b[39m \u001b[43mcom\u001b[49m\u001b[38;5;241;43m.\u001b[39;49m\u001b[43mapply_if_callable\u001b[49m\u001b[43m(\u001b[49m\u001b[43mv\u001b[49m\u001b[43m,\u001b[49m\u001b[43m \u001b[49m\u001b[43mdata\u001b[49m\u001b[43m)\u001b[49m\n\u001b[1;32m   5227\u001b[0m \u001b[38;5;28;01mreturn\u001b[39;00m data\n",
      "File \u001b[0;32m~/miniconda3/lib/python3.12/site-packages/pandas/core/common.py:384\u001b[0m, in \u001b[0;36mapply_if_callable\u001b[0;34m(maybe_callable, obj, **kwargs)\u001b[0m\n\u001b[1;32m    373\u001b[0m \u001b[38;5;250m\u001b[39m\u001b[38;5;124;03m\"\"\"\u001b[39;00m\n\u001b[1;32m    374\u001b[0m \u001b[38;5;124;03mEvaluate possibly callable input using obj and kwargs if it is callable,\u001b[39;00m\n\u001b[1;32m    375\u001b[0m \u001b[38;5;124;03motherwise return as it is.\u001b[39;00m\n\u001b[0;32m   (...)\u001b[0m\n\u001b[1;32m    381\u001b[0m \u001b[38;5;124;03m**kwargs\u001b[39;00m\n\u001b[1;32m    382\u001b[0m \u001b[38;5;124;03m\"\"\"\u001b[39;00m\n\u001b[1;32m    383\u001b[0m \u001b[38;5;28;01mif\u001b[39;00m \u001b[38;5;28mcallable\u001b[39m(maybe_callable):\n\u001b[0;32m--> 384\u001b[0m     \u001b[38;5;28;01mreturn\u001b[39;00m \u001b[43mmaybe_callable\u001b[49m\u001b[43m(\u001b[49m\u001b[43mobj\u001b[49m\u001b[43m,\u001b[49m\u001b[43m \u001b[49m\u001b[38;5;241;43m*\u001b[39;49m\u001b[38;5;241;43m*\u001b[39;49m\u001b[43mkwargs\u001b[49m\u001b[43m)\u001b[49m\n\u001b[1;32m    386\u001b[0m \u001b[38;5;28;01mreturn\u001b[39;00m maybe_callable\n",
      "Cell \u001b[0;32mIn[22], line 5\u001b[0m, in \u001b[0;36m<lambda>\u001b[0;34m(df)\u001b[0m\n\u001b[1;32m      1\u001b[0m input_data_df_w_all_annotations \u001b[38;5;241m=\u001b[39m (\n\u001b[1;32m      2\u001b[0m     input_data_df\n\u001b[1;32m      3\u001b[0m     \u001b[38;5;66;03m## gpt 4\u001b[39;00m\n\u001b[1;32m      4\u001b[0m          \u001b[38;5;241m.\u001b[39mmerge(gpt4_data_df\u001b[38;5;241m.\u001b[39mdrop(columns\u001b[38;5;241m=\u001b[39m[\u001b[38;5;124m'\u001b[39m\u001b[38;5;124mmessage\u001b[39m\u001b[38;5;124m'\u001b[39m])\u001b[38;5;241m.\u001b[39mrename(columns\u001b[38;5;241m=\u001b[39m{\u001b[38;5;124m'\u001b[39m\u001b[38;5;124mkey\u001b[39m\u001b[38;5;124m'\u001b[39m: \u001b[38;5;124m'\u001b[39m\u001b[38;5;124murl\u001b[39m\u001b[38;5;124m'\u001b[39m}))\n\u001b[0;32m----> 5\u001b[0m          \u001b[38;5;241m.\u001b[39massign(was_unclear_gpt4\u001b[38;5;241m=\u001b[39m\u001b[38;5;28;01mlambda\u001b[39;00m df: \u001b[43mdf\u001b[49m\u001b[43m[\u001b[49m\u001b[38;5;124;43m'\u001b[39;49m\u001b[38;5;124;43mparsed_output\u001b[39;49m\u001b[38;5;124;43m'\u001b[39;49m\u001b[43m]\u001b[49m \u001b[38;5;241m==\u001b[39m WAS_UNCLEAR_STR)\n\u001b[1;32m      6\u001b[0m          \u001b[38;5;241m.\u001b[39massign(parsed_output\u001b[38;5;241m=\u001b[39m\u001b[38;5;28;01mlambda\u001b[39;00m df: df[\u001b[38;5;124m'\u001b[39m\u001b[38;5;124mparsed_output\u001b[39m\u001b[38;5;124m'\u001b[39m]\u001b[38;5;241m.\u001b[39mapply(\u001b[38;5;28;01mlambda\u001b[39;00m x: x \u001b[38;5;28;01mif\u001b[39;00m x \u001b[38;5;241m!=\u001b[39m WAS_UNCLEAR_STR \u001b[38;5;28;01melse\u001b[39;00m \u001b[38;5;28;01mNone\u001b[39;00m))\n\u001b[1;32m      7\u001b[0m          \u001b[38;5;241m.\u001b[39mrename(columns\u001b[38;5;241m=\u001b[39m{\u001b[38;5;124m'\u001b[39m\u001b[38;5;124mparsed_output\u001b[39m\u001b[38;5;124m'\u001b[39m: \u001b[38;5;124m'\u001b[39m\u001b[38;5;124mparsed_gpt4\u001b[39m\u001b[38;5;124m'\u001b[39m})\n\u001b[1;32m      8\u001b[0m     \u001b[38;5;66;03m# ##  mixtral\u001b[39;00m\n\u001b[1;32m      9\u001b[0m     \u001b[38;5;66;03m#      .merge(mixtral_data_df.drop(columns=['message']).rename(columns={'key': 'url'}), how='left')\u001b[39;00m\n\u001b[1;32m     10\u001b[0m     \u001b[38;5;66;03m#      .assign(was_unclear_mixtral=lambda df: df['parsed_output'] == WAS_UNCLEAR_STR)\u001b[39;00m\n\u001b[1;32m     11\u001b[0m     \u001b[38;5;66;03m#      .assign(parsed_output=lambda df: df['parsed_output'].apply(lambda x: x if x != WAS_UNCLEAR_STR else None))\u001b[39;00m\n\u001b[1;32m     12\u001b[0m     \u001b[38;5;66;03m#      .rename(columns={'parsed_output': 'parsed_mixtral'})\u001b[39;00m\n\u001b[1;32m     13\u001b[0m     \u001b[38;5;66;03m# ##  command-r\u001b[39;00m\n\u001b[1;32m     14\u001b[0m     \u001b[38;5;66;03m#      .merge(command_r_data_df.drop(columns=['message']).rename(columns={'key': 'url'}), how='left')\u001b[39;00m\n\u001b[1;32m     15\u001b[0m     \u001b[38;5;66;03m#      .assign(was_unclear_command_r=lambda df: df['parsed_output'] == WAS_UNCLEAR_STR)\u001b[39;00m\n\u001b[1;32m     16\u001b[0m     \u001b[38;5;66;03m#      .assign(parsed_output=lambda df: df['parsed_output'].apply(lambda x: x if x != WAS_UNCLEAR_STR else None))\u001b[39;00m\n\u001b[1;32m     17\u001b[0m     \u001b[38;5;66;03m#      .rename(columns={'parsed_output': 'parsed_command_r'})\u001b[39;00m\n\u001b[1;32m     18\u001b[0m )\n",
      "File \u001b[0;32m~/miniconda3/lib/python3.12/site-packages/pandas/core/frame.py:4090\u001b[0m, in \u001b[0;36mDataFrame.__getitem__\u001b[0;34m(self, key)\u001b[0m\n\u001b[1;32m   4088\u001b[0m \u001b[38;5;28;01mif\u001b[39;00m \u001b[38;5;28mself\u001b[39m\u001b[38;5;241m.\u001b[39mcolumns\u001b[38;5;241m.\u001b[39mnlevels \u001b[38;5;241m>\u001b[39m \u001b[38;5;241m1\u001b[39m:\n\u001b[1;32m   4089\u001b[0m     \u001b[38;5;28;01mreturn\u001b[39;00m \u001b[38;5;28mself\u001b[39m\u001b[38;5;241m.\u001b[39m_getitem_multilevel(key)\n\u001b[0;32m-> 4090\u001b[0m indexer \u001b[38;5;241m=\u001b[39m \u001b[38;5;28;43mself\u001b[39;49m\u001b[38;5;241;43m.\u001b[39;49m\u001b[43mcolumns\u001b[49m\u001b[38;5;241;43m.\u001b[39;49m\u001b[43mget_loc\u001b[49m\u001b[43m(\u001b[49m\u001b[43mkey\u001b[49m\u001b[43m)\u001b[49m\n\u001b[1;32m   4091\u001b[0m \u001b[38;5;28;01mif\u001b[39;00m is_integer(indexer):\n\u001b[1;32m   4092\u001b[0m     indexer \u001b[38;5;241m=\u001b[39m [indexer]\n",
      "File \u001b[0;32m~/miniconda3/lib/python3.12/site-packages/pandas/core/indexes/base.py:3812\u001b[0m, in \u001b[0;36mIndex.get_loc\u001b[0;34m(self, key)\u001b[0m\n\u001b[1;32m   3807\u001b[0m     \u001b[38;5;28;01mif\u001b[39;00m \u001b[38;5;28misinstance\u001b[39m(casted_key, \u001b[38;5;28mslice\u001b[39m) \u001b[38;5;129;01mor\u001b[39;00m (\n\u001b[1;32m   3808\u001b[0m         \u001b[38;5;28misinstance\u001b[39m(casted_key, abc\u001b[38;5;241m.\u001b[39mIterable)\n\u001b[1;32m   3809\u001b[0m         \u001b[38;5;129;01mand\u001b[39;00m \u001b[38;5;28many\u001b[39m(\u001b[38;5;28misinstance\u001b[39m(x, \u001b[38;5;28mslice\u001b[39m) \u001b[38;5;28;01mfor\u001b[39;00m x \u001b[38;5;129;01min\u001b[39;00m casted_key)\n\u001b[1;32m   3810\u001b[0m     ):\n\u001b[1;32m   3811\u001b[0m         \u001b[38;5;28;01mraise\u001b[39;00m InvalidIndexError(key)\n\u001b[0;32m-> 3812\u001b[0m     \u001b[38;5;28;01mraise\u001b[39;00m \u001b[38;5;167;01mKeyError\u001b[39;00m(key) \u001b[38;5;28;01mfrom\u001b[39;00m \u001b[38;5;21;01merr\u001b[39;00m\n\u001b[1;32m   3813\u001b[0m \u001b[38;5;28;01mexcept\u001b[39;00m \u001b[38;5;167;01mTypeError\u001b[39;00m:\n\u001b[1;32m   3814\u001b[0m     \u001b[38;5;66;03m# If we have a listlike key, _check_indexing_error will raise\u001b[39;00m\n\u001b[1;32m   3815\u001b[0m     \u001b[38;5;66;03m#  InvalidIndexError. Otherwise we fall through and re-raise\u001b[39;00m\n\u001b[1;32m   3816\u001b[0m     \u001b[38;5;66;03m#  the TypeError.\u001b[39;00m\n\u001b[1;32m   3817\u001b[0m     \u001b[38;5;28mself\u001b[39m\u001b[38;5;241m.\u001b[39m_check_indexing_error(key)\n",
      "\u001b[0;31mKeyError\u001b[0m: 'parsed_output'"
     ]
    }
   ],
   "source": [
    "input_data_df_w_all_annotations = (\n",
    "    input_data_df\n",
    "    ## gpt 4\n",
    "         .merge(gpt4_data_df.drop(columns=['message']).rename(columns={'key': 'url'}))\n",
    "         .assign(was_unclear_gpt4=lambda df: df['parsed_output'] == WAS_UNCLEAR_STR)\n",
    "         .assign(parsed_output=lambda df: df['parsed_output'].apply(lambda x: x if x != WAS_UNCLEAR_STR else None))\n",
    "         .rename(columns={'parsed_output': 'parsed_gpt4'})\n",
    "    # ##  mixtral\n",
    "    #      .merge(mixtral_data_df.drop(columns=['message']).rename(columns={'key': 'url'}), how='left')\n",
    "    #      .assign(was_unclear_mixtral=lambda df: df['parsed_output'] == WAS_UNCLEAR_STR)\n",
    "    #      .assign(parsed_output=lambda df: df['parsed_output'].apply(lambda x: x if x != WAS_UNCLEAR_STR else None))\n",
    "    #      .rename(columns={'parsed_output': 'parsed_mixtral'})\n",
    "    # ##  command-r\n",
    "    #      .merge(command_r_data_df.drop(columns=['message']).rename(columns={'key': 'url'}), how='left')\n",
    "    #      .assign(was_unclear_command_r=lambda df: df['parsed_output'] == WAS_UNCLEAR_STR)\n",
    "    #      .assign(parsed_output=lambda df: df['parsed_output'].apply(lambda x: x if x != WAS_UNCLEAR_STR else None))\n",
    "    #      .rename(columns={'parsed_output': 'parsed_command_r'})\n",
    ")"
   ]
  },
  {
   "cell_type": "code",
   "execution_count": 17,
   "id": "3e5b82af-befe-44a7-b8c4-88ee75290f03",
   "metadata": {},
   "outputs": [
    {
     "name": "stdout",
     "output_type": "stream",
     "text": [
      "```python\n",
      "[\n",
      "    \"In recent developments, River Nile is experiencing unusually low water levels threatening agriculture.\",\n",
      "    \"Chemical benzene has been found in local water supplies causing health concerns.\",\n",
      "    \"Pineapple is now considered a luxury fruit in some regions due to escalating prices.\",\n",
      "    \"Building in downtown collapsed yesterday due to structural failure.\",\n",
      "    \"Wind storms are expected to increase in intensity according to recent climate studies.\",\n",
      "    \"Honey production has been significantly impacted by the decline in bee populations.\",\n",
      "    \"Joy over the recent peace talks seems to be widespread among the citizens.\",\n",
      "    \"Expectation for the new policy to bring economic stability is high among experts.\",\n",
      "    \"Neurosis is reportedly becoming more common due to increased stress in workplaces.\",\n",
      "    \"Crowd of people at the concert last night exceeded expectations, creating logistical challenges.\"\n",
      "]\n",
      "```\n"
     ]
    }
   ],
   "source": [
    "print(gpt4_data_df['message'].iloc[4])"
   ]
  },
  {
   "cell_type": "code",
   "execution_count": 14,
   "id": "097ae7f1-5ea8-46d7-a8d7-61fc12de2fad",
   "metadata": {},
   "outputs": [
    {
     "name": "stdout",
     "output_type": "stream",
     "text": [
      "[\n",
      "\"The president tweeted a message to his supporters, nouns that have been criticized by many for their divisive language.\"\n",
      "\"After the debate, the candidate spoke adjectives about her opponent that were deemed inappropriate by the public.\"\n",
      "\"The new policy on immigration verbs a lot of controversy among lawmakers.\"\n",
      "\"Despite the protests, the government proceeded adverbs with the construction of the new highway.\"\n",
      "\"The mayor announced prepositions a new initiative to combat homelessness in the city.\"\n",
      "\"Conjunctions the opposition party is planning a rally to protest the recent tax increase.\"\n",
      "\"The CEO's speech was filled with interjections that showed his passion for the company.\"\n",
      "\"The governor's speech was filled with interjections that showed his passion for the company.\"\n",
      "\"The CEO's speech was filled with interjections that showed his passion for the company.\"\n",
      "\"The CEO's speech was filled with interjections that showed his passion for the company.\"\n",
      "]\n"
     ]
    }
   ],
   "source": [
    "print(gpt3_data_df['message'].iloc[2])"
   ]
  },
  {
   "cell_type": "code",
   "execution_count": null,
   "id": "858a6e88-e78f-4056-a7e0-ca5c401d8cdc",
   "metadata": {},
   "outputs": [],
   "source": []
  },
  {
   "cell_type": "code",
   "execution_count": null,
   "id": "994ddbae-75ea-4e02-96af-513d3092843a",
   "metadata": {},
   "outputs": [],
   "source": []
  },
  {
   "cell_type": "code",
   "execution_count": null,
   "id": "6ecacd26-0393-4780-a3d4-196369f29b81",
   "metadata": {},
   "outputs": [],
   "source": []
  },
  {
   "cell_type": "code",
   "execution_count": null,
   "id": "2be55ba6-0b94-4667-b218-3e9890e5082a",
   "metadata": {},
   "outputs": [],
   "source": []
  },
  {
   "cell_type": "code",
   "execution_count": null,
   "id": "5262affc-6425-4e95-b9ea-3fcb26fe6a75",
   "metadata": {},
   "outputs": [],
   "source": []
  },
  {
   "cell_type": "code",
   "execution_count": null,
   "id": "01950439-deaa-4278-8eca-47db7a77ac76",
   "metadata": {},
   "outputs": [],
   "source": []
  },
  {
   "cell_type": "code",
   "execution_count": null,
   "id": "01652d74-2407-486a-9054-bb9ff961207b",
   "metadata": {},
   "outputs": [],
   "source": []
  },
  {
   "cell_type": "code",
   "execution_count": null,
   "id": "c72acc42-0499-418f-bed3-960a935f18ec",
   "metadata": {},
   "outputs": [],
   "source": []
  },
  {
   "cell_type": "code",
   "execution_count": null,
   "id": "adcba17d-6f58-4533-9879-97f4eaffc653",
   "metadata": {},
   "outputs": [],
   "source": []
  }
 ],
 "metadata": {
  "kernelspec": {
   "display_name": "Python 3 (ipykernel)",
   "language": "python",
   "name": "python3"
  },
  "language_info": {
   "codemirror_mode": {
    "name": "ipython",
    "version": 3
   },
   "file_extension": ".py",
   "mimetype": "text/x-python",
   "name": "python",
   "nbconvert_exporter": "python",
   "pygments_lexer": "ipython3",
   "version": "3.12.2"
  }
 },
 "nbformat": 4,
 "nbformat_minor": 5
}
