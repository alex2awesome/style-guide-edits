{
 "cells": [
  {
   "cell_type": "code",
   "execution_count": 364,
   "id": "0a54a054-2625-4188-9060-36f4a4f397de",
   "metadata": {},
   "outputs": [],
   "source": [
    "import ast\n",
    "import json\n",
    "from tqdm.auto import tqdm\n",
    "import pandas as pd \n",
    "import re \n",
    "import sys\n",
    "sys.path.insert(0, '../tasks/generate_synthetic_example_data/')\n",
    "import run_open_source_models as r\n",
    "import warnings\n",
    "warnings.simplefilter(action='ignore', category=SyntaxWarning)\n",
    "\n",
    "tok, gpt_4_model,_ = r.get_model('gpt-4-turbo', cache_dir=None)"
   ]
  },
  {
   "cell_type": "code",
   "execution_count": 250,
   "id": "46d7a115-87ab-4ddc-a62d-a4e64c562f9f",
   "metadata": {},
   "outputs": [],
   "source": [
    "input_data_df = pd.read_json('../corpora/chicago-style-guide/all-rules.jsonl', lines=True)"
   ]
  },
  {
   "cell_type": "code",
   "execution_count": 51,
   "id": "b9f64fc1-e894-44a2-bbbe-2635e91c7dcb",
   "metadata": {},
   "outputs": [
    {
     "name": "stdout",
     "output_type": "stream",
     "text": [
      "-rw-rw---- 1 spangher jonmay_231  508K Apr 23 16:06 command-r_zeroshot.jsonl\n",
      "-rw-rw---- 1 spangher jonmay_231  1.5M Apr 23 15:13 gpt-3.5-turbo_zeroshot.jsonl\n",
      "-rw-rw---- 1 spangher jonmay_231 1020K Apr 23 16:00 gpt-4-turbo_zeroshot.jsonl\n",
      "-rw-rw---- 1 spangher jonmay_231   324 Apr 23 01:02 llama-3-70b_zeroshot.jsonl\n",
      "-rw-rw---- 1 spangher jonmay_231  2.0M Apr 23 15:38 mixtral_zeroshot.jsonl\n"
     ]
    }
   ],
   "source": [
    "proj_dir = '/project/jonmay_231/spangher/Projects/style-guides'\n",
    "# ! ssh end \"ls -p $proj_dir/tasks/generate_synthetic_example_data/ | grep -v / | xargs -I {} ls {}\"\n",
    "! ssh end \"ls -lh $proj_dir/tasks/generate_synthetic_example_data/ | grep jsonl\""
   ]
  },
  {
   "cell_type": "code",
   "execution_count": 619,
   "id": "feb27e55-e292-461b-bb2b-3613c15c74d0",
   "metadata": {},
   "outputs": [
    {
     "name": "stderr",
     "output_type": "stream",
     "text": [
      "huggingface/tokenizers: The current process just got forked, after parallelism has already been used. Disabling parallelism to avoid deadlocks...\n",
      "To disable this warning, you can either:\n",
      "\t- Avoid using `tokenizers` before the fork if possible\n",
      "\t- Explicitly set the environment variable TOKENIZERS_PARALLELISM=(true | false)\n"
     ]
    },
    {
     "name": "stdout",
     "output_type": "stream",
     "text": [
      "mixtral_zeroshot.jsonl                        100% 2621KB   5.0MB/s   00:00    \n"
     ]
    },
    {
     "name": "stderr",
     "output_type": "stream",
     "text": [
      "huggingface/tokenizers: The current process just got forked, after parallelism has already been used. Disabling parallelism to avoid deadlocks...\n",
      "To disable this warning, you can either:\n",
      "\t- Avoid using `tokenizers` before the fork if possible\n",
      "\t- Explicitly set the environment variable TOKENIZERS_PARALLELISM=(true | false)\n"
     ]
    },
    {
     "name": "stdout",
     "output_type": "stream",
     "text": [
      "gpt-4-turbo_zeroshot.jsonl                    100% 2008KB   5.6MB/s   00:00    \n"
     ]
    },
    {
     "name": "stderr",
     "output_type": "stream",
     "text": [
      "huggingface/tokenizers: The current process just got forked, after parallelism has already been used. Disabling parallelism to avoid deadlocks...\n",
      "To disable this warning, you can either:\n",
      "\t- Avoid using `tokenizers` before the fork if possible\n",
      "\t- Explicitly set the environment variable TOKENIZERS_PARALLELISM=(true | false)\n"
     ]
    },
    {
     "name": "stdout",
     "output_type": "stream",
     "text": [
      "gpt-3.5-turbo_zeroshot.jsonl                  100% 1480KB   7.7MB/s   00:00    \n"
     ]
    },
    {
     "name": "stderr",
     "output_type": "stream",
     "text": [
      "huggingface/tokenizers: The current process just got forked, after parallelism has already been used. Disabling parallelism to avoid deadlocks...\n",
      "To disable this warning, you can either:\n",
      "\t- Avoid using `tokenizers` before the fork if possible\n",
      "\t- Explicitly set the environment variable TOKENIZERS_PARALLELISM=(true | false)\n"
     ]
    },
    {
     "name": "stdout",
     "output_type": "stream",
     "text": [
      "command-r_zeroshot.jsonl                      100% 1016KB   9.5MB/s   00:00    \n"
     ]
    }
   ],
   "source": [
    "! scp end:$proj_dir/tasks/generate_synthetic_example_data/mixtral_zeroshot.jsonl ../tasks/generate_synthetic_example_data/\n",
    "! scp end:$proj_dir/tasks/generate_synthetic_example_data/gpt-4-turbo_zeroshot.jsonl ../tasks/generate_synthetic_example_data/\n",
    "! scp end:$proj_dir/tasks/generate_synthetic_example_data/gpt-3.5-turbo_zeroshot.jsonl ../tasks/generate_synthetic_example_data/\n",
    "! scp end:$proj_dir/tasks/generate_synthetic_example_data/command-r_zeroshot.jsonl ../tasks/generate_synthetic_example_data/"
   ]
  },
  {
   "cell_type": "code",
   "execution_count": 620,
   "id": "bbeefb3f-15de-4760-8006-9343f5b057fb",
   "metadata": {},
   "outputs": [],
   "source": [
    "# mixtral_data_df = pd.read_json('../tasks/generate_synthetic_example_data/mixtral_zeroshot.jsonl', lines=True)\n",
    "command_r_data_df = pd.read_json('../tasks/generate_synthetic_example_data/command-r_zeroshot.jsonl', lines=True)\n",
    "gpt4_data_df = pd.read_json('../tasks/generate_synthetic_example_data/gpt-4-turbo_zeroshot.jsonl', lines=True)\n",
    "gpt3_data_df = pd.read_json('../tasks/generate_synthetic_example_data/gpt-3.5-turbo_zeroshot.jsonl', lines=True)"
   ]
  },
  {
   "cell_type": "markdown",
   "id": "f187ef7c-0e44-43f8-b363-2e6a5937590e",
   "metadata": {},
   "source": [
    "# Parse and combine these rules"
   ]
  },
  {
   "cell_type": "code",
   "execution_count": 621,
   "id": "0c27d67b-09dd-4ef4-8169-0f3b78f5564e",
   "metadata": {},
   "outputs": [
    {
     "data": {
      "application/vnd.jupyter.widget-view+json": {
       "model_id": "cb835c3b528f4b67935762429e343417",
       "version_major": 2,
       "version_minor": 0
      },
      "text/plain": [
       "  0%|          | 0/1093 [00:00<?, ?it/s]"
      ]
     },
     "metadata": {},
     "output_type": "display_data"
    },
    {
     "data": {
      "application/vnd.jupyter.widget-view+json": {
       "model_id": "bfc1fd5a9dca4e16b4e29f848abdc3d0",
       "version_major": 2,
       "version_minor": 0
      },
      "text/plain": [
       "  0%|          | 0/361 [00:00<?, ?it/s]"
      ]
     },
     "metadata": {},
     "output_type": "display_data"
    }
   ],
   "source": [
    "if 'parsed_output' not in mixtral_data_df.columns:\n",
    "    parsed, failed = mixtral_data_df.pipe(parse_data, return_failed=True, verbose=True)\n",
    "    mixtral_data_df['parsed_output'] = parsed\n",
    "\n",
    "if 'parsed_output' not in gpt4_data_df.columns:\n",
    "    parsed, failed = gpt4_data_df.pipe(parse_data, return_failed=True, verbose=True)\n",
    "    gpt4_data_df['parsed_output'] = parsed\n",
    "\n",
    "if 'parsed_output' not in command_r_data_df.columns:\n",
    "    parsed, failed = command_r_data_df.pipe(parse_data, return_failed=True, verbose=True)\n",
    "    command_r_data_df['parsed_output'] = parsed"
   ]
  },
  {
   "cell_type": "code",
   "execution_count": 622,
   "id": "60a82d2b-5549-48a8-98a0-e3512d0bb4fa",
   "metadata": {},
   "outputs": [],
   "source": [
    "input_data_df_w_all_annotations = (\n",
    "    input_data_df\n",
    "    ## gpt 4\n",
    "         .merge(gpt4_data_df.drop(columns=['message']).rename(columns={'key': 'url'}))\n",
    "         .assign(was_unclear_gpt4=lambda df: df['parsed_output'] == WAS_UNCLEAR_STR)\n",
    "         .assign(parsed_output=lambda df: df['parsed_output'].apply(lambda x: x if x != WAS_UNCLEAR_STR else None))\n",
    "         .rename(columns={'parsed_output': 'parsed_gpt4'})\n",
    "    ##  mixtral\n",
    "         .merge(mixtral_data_df.drop(columns=['message']).rename(columns={'key': 'url'}), how='left')\n",
    "         .assign(was_unclear_mixtral=lambda df: df['parsed_output'] == WAS_UNCLEAR_STR)\n",
    "         .assign(parsed_output=lambda df: df['parsed_output'].apply(lambda x: x if x != WAS_UNCLEAR_STR else None))\n",
    "         .rename(columns={'parsed_output': 'parsed_mixtral'})\n",
    "    ##  command-r\n",
    "         .merge(command_r_data_df.drop(columns=['message']).rename(columns={'key': 'url'}), how='left')\n",
    "         .assign(was_unclear_command_r=lambda df: df['parsed_output'] == WAS_UNCLEAR_STR)\n",
    "         .assign(parsed_output=lambda df: df['parsed_output'].apply(lambda x: x if x != WAS_UNCLEAR_STR else None))\n",
    "         .rename(columns={'parsed_output': 'parsed_command_r'})\n",
    ")"
   ]
  },
  {
   "cell_type": "code",
   "execution_count": 623,
   "id": "9cc820dd-fafb-412f-b22f-dd651ca1c0f2",
   "metadata": {},
   "outputs": [
    {
     "data": {
      "text/html": [
       "<div>\n",
       "<style scoped>\n",
       "    .dataframe tbody tr th:only-of-type {\n",
       "        vertical-align: middle;\n",
       "    }\n",
       "\n",
       "    .dataframe tbody tr th {\n",
       "        vertical-align: top;\n",
       "    }\n",
       "\n",
       "    .dataframe thead th {\n",
       "        text-align: right;\n",
       "    }\n",
       "</style>\n",
       "<table border=\"1\" class=\"dataframe\">\n",
       "  <thead>\n",
       "    <tr style=\"text-align: right;\">\n",
       "      <th></th>\n",
       "      <th>url</th>\n",
       "      <th>section_number</th>\n",
       "      <th>title</th>\n",
       "      <th>hierarchy</th>\n",
       "      <th>content</th>\n",
       "      <th>parsed_gpt4</th>\n",
       "      <th>was_unclear_gpt4</th>\n",
       "      <th>parsed_mixtral</th>\n",
       "      <th>was_unclear_mixtral</th>\n",
       "      <th>parsed_command_r</th>\n",
       "      <th>was_unclear_command_r</th>\n",
       "    </tr>\n",
       "  </thead>\n",
       "  <tbody>\n",
       "    <tr>\n",
       "      <th>0</th>\n",
       "      <td>/book/ed17/part2/ch05/psec001.html</td>\n",
       "      <td>5.1</td>\n",
       "      <td>The field of grammar</td>\n",
       "      <td>[{'href': '/book/ed17/part2/ch05/toc.html', 't...</td>\n",
       "      <td>In its usual sense, grammar is the set of rule...</td>\n",
       "      <td>None</td>\n",
       "      <td>True</td>\n",
       "      <td>None</td>\n",
       "      <td>False</td>\n",
       "      <td>[{'bad sentence': 'The city's mayor has not ye...</td>\n",
       "      <td>False</td>\n",
       "    </tr>\n",
       "    <tr>\n",
       "      <th>1</th>\n",
       "      <td>/book/ed17/part2/ch05/psec002.html</td>\n",
       "      <td>5.2</td>\n",
       "      <td>Schools of grammatical thought</td>\n",
       "      <td>[{'href': '/book/ed17/part2/ch05/toc.html', 't...</td>\n",
       "      <td>There are many schools of grammatical thought—...</td>\n",
       "      <td>None</td>\n",
       "      <td>True</td>\n",
       "      <td>[{'bad sentence': 'A journalist should never s...</td>\n",
       "      <td>False</td>\n",
       "      <td>[{'bad sentence': 'The city's mayor has not ye...</td>\n",
       "      <td>False</td>\n",
       "    </tr>\n",
       "  </tbody>\n",
       "</table>\n",
       "</div>"
      ],
      "text/plain": [
       "                                  url  section_number  \\\n",
       "0  /book/ed17/part2/ch05/psec001.html             5.1   \n",
       "1  /book/ed17/part2/ch05/psec002.html             5.2   \n",
       "\n",
       "                            title  \\\n",
       "0            The field of grammar   \n",
       "1  Schools of grammatical thought   \n",
       "\n",
       "                                           hierarchy  \\\n",
       "0  [{'href': '/book/ed17/part2/ch05/toc.html', 't...   \n",
       "1  [{'href': '/book/ed17/part2/ch05/toc.html', 't...   \n",
       "\n",
       "                                             content parsed_gpt4  \\\n",
       "0  In its usual sense, grammar is the set of rule...        None   \n",
       "1  There are many schools of grammatical thought—...        None   \n",
       "\n",
       "   was_unclear_gpt4                                     parsed_mixtral  \\\n",
       "0              True                                               None   \n",
       "1              True  [{'bad sentence': 'A journalist should never s...   \n",
       "\n",
       "   was_unclear_mixtral                                   parsed_command_r  \\\n",
       "0                False  [{'bad sentence': 'The city's mayor has not ye...   \n",
       "1                False  [{'bad sentence': 'The city's mayor has not ye...   \n",
       "\n",
       "   was_unclear_command_r  \n",
       "0                  False  \n",
       "1                  False  "
      ]
     },
     "execution_count": 623,
     "metadata": {},
     "output_type": "execute_result"
    }
   ],
   "source": [
    "input_data_df_w_all_annotations.head(2)"
   ]
  },
  {
   "cell_type": "code",
   "execution_count": 624,
   "id": "9c4f43f6-8b88-42a9-81f6-9bed78868e54",
   "metadata": {},
   "outputs": [
    {
     "data": {
      "text/plain": [
       "was_unclear_gpt4         0.174748\n",
       "was_unclear_mixtral      0.000000\n",
       "was_unclear_command_r    0.000000\n",
       "dtype: float64"
      ]
     },
     "execution_count": 624,
     "metadata": {},
     "output_type": "execute_result"
    }
   ],
   "source": [
    "input_data_df_w_all_annotations.pipe(lambda df: df[list(filter(lambda x: 'was_unclear' in x, df.columns))]).mean()"
   ]
  },
  {
   "cell_type": "markdown",
   "id": "99cf74dc-228e-4fd8-af92-661a6b07be35",
   "metadata": {},
   "source": [
    "# See if the rules are correctly applied"
   ]
  },
  {
   "cell_type": "code",
   "execution_count": 625,
   "id": "4018db10-2e4c-494e-b6f0-095a4d4b4968",
   "metadata": {
    "scrolled": true
   },
   "outputs": [
    {
     "name": "stdout",
     "output_type": "stream",
     "text": [
      "{\n",
      "    \"title\": \"Schools of grammatical thought\",\n",
      "    \"content\": \"There are many schools of grammatical thought\\u2014and differing vocabularies for describing grammar. Grammatical theories have been in upheaval in recent years. It seems that the more we learn, the less we know. As the illustrious editor in chief of the Oxford English Dictionary wrote in 1991: \\u201cAn entirely adequate description of English grammar is still a distant target and at present seemingly an unreachable one, the complications being what they are.\\u201d1 In fact, the more detailed the grammar (it can run to many large volumes), the less likely it is to be of any practical use to most writers and speakers.\\n\\n\\n1. Robert W. Burchfield, Unlocking the English Language (New York: Hill and Wang, 1991), 22.\",\n",
      "    \"parsed_mixtral\": [\n",
      "        {\n",
      "            \"bad sentence\": \"A journalist should never split an infinitive, as it is a cardinal sin of grammar.\",\n",
      "            \"good sentence\": \"While some people believe that splitting infinitives is a grammatical error, many linguists and style guides now consider it acceptable in English.\"\n",
      "        },\n",
      "        {\n",
      "            \"bad sentence\": \"It is incorrect to end a sentence with a preposition, as this is a sign of poor writing.\",\n",
      "            \"good sentence\": \"While some traditionalists argue that sentences should not end with prepositions, many modern style guides and linguists consider this a misguided rule, and allow for flexibility in sentence structure.\"\n",
      "        },\n",
      "        {\n",
      "            \"bad sentence\": \"The passive voice is always weaker than the active voice, and should be avoided in writing.\",\n",
      "            \"good sentence\": \"While the active voice can often make writing more clear and engaging, the passive voice has its place in certain contexts, such as when the subject of the sentence is unknown or unimportant.\"\n",
      "        },\n",
      "        {\n",
      "            \"bad sentence\": \"A sentence should never begin with a conjunction, as this is a mark of informal writing.\",\n",
      "            \"good sentence\": \"While some style guides discourage starting sentences with conjunctions like 'and' or 'but', many contemporary writers and editors consider this a useful way to vary sentence structure and create emphasis.\"\n",
      "        },\n",
      "        {\n",
      "            \"bad sentence\": \"It is improper to use contractions in formal writing, as they are too casual and informal.\",\n",
      "            \"good sentence\": \"While contractions are generally avoided in very formal writing, they are often used in more conversational or informal contexts, and can help make writing sound more natural and accessible.\"\n",
      "        },\n",
      "        {\n",
      "            \"bad sentence\": \"The singular 'they' is grammatically incorrect, and should be avoided in all cases.\",\n",
      "            \"good sentence\": \"While some people object to the use of singular 'they' as a gender-neutral pronoun, it has a long history in English, and is widely accepted and used by many writers, editors, and linguists.\"\n",
      "        },\n",
      "        {\n",
      "            \"bad sentence\": \"Slang and colloquial expressions have no place in professional writing, as they are too informal and imprecise.\",\n",
      "            \"good sentence\": \"While slang and colloquial expressions should generally be avoided in formal or academic writing, they can be useful in creating a sense of tone, character, or context, and can help make writing more engaging and relatable.\"\n",
      "        },\n",
      "        {\n",
      "            \"bad sentence\": \"It is incorrect to use a sentence fragment, as it lacks a subject and a verb.\",\n",
      "            \"good sentence\": \"While sentence fragments are generally discouraged in formal writing, they can be effective in creating emphasis, variety, or dialogue, and are commonly used in creative and journalistic writing.\"\n",
      "        },\n",
      "        {\n",
      "            \"bad sentence\": \"All adverbs should be avoided in writing, as they are unnecessary and distracting.\",\n",
      "            \"good sentence\": \"While adverbs can sometimes be overused or unnecessary, they can also be useful in adding emphasis, clarity, or tone to writing, and should be evaluated on a case-by-case basis.\"\n",
      "        },\n",
      "        {\n",
      "            \"bad sentence\": \"The use of jargon or technical terms is always a barrier to clear communication, and should be minimized in writing.\",\n",
      "            \"good sentence\": \"While jargon or technical terms can sometimes be obscure or exclusive, they can also be necessary for precision, accuracy, or clarity, and should be defined or explained as needed for the intended audience.\"\n",
      "        }\n",
      "    ],\n",
      "    \"parsed_command_r\": [\n",
      "        {\n",
      "            \"bad sentence\": \"The city's mayor has not yet commented on the recent scandal, but his silence is thought to be suspicious by many of the residents.\",\n",
      "            \"good sentence\": \"The city's mayor has yet to comment on the recent scandal, remaining tight-lipped, which has raised eyebrows among many residents.\"\n",
      "        },\n",
      "        {\n",
      "            \"bad sentence\": \"The new grammar rules are being implemented this semester at the local elementary school, and confusion has erupted among the faculty.\",\n",
      "            \"good sentence\": \"The new grammar rules are being phased in at the local elementary school this term, which has caused consternation among the staff.\"\n",
      "        },\n",
      "        {\n",
      "            \"bad sentence\": \"The tech CEO gave a rare address to the public, speaking in a formal tone about the company's recent data leak.\",\n",
      "            \"good sentence\": \"The tech CEO, in a rare public appearance, spoke in his trademark formal manner about the recent security breach.\"\n",
      "        },\n",
      "        {\n",
      "            \"bad sentence\": \"The grammatical changes being proposed would affect how we communicate going forward, and many are concerned about the potential fallout.\",\n",
      "            \"good sentence\": \"The proposed grammatical revisions are stirring up concern over the future of our communication.\"\n",
      "        },\n",
      "        {\n",
      "            \"bad sentence\": \"There's been a heated debate among linguists regarding the new words added to the dictionary, with many taking strong opinions on the matter.\",\n",
      "            \"good sentence\": \"The recent additions to the dictionary have sparked a passionate debate among linguists.\"\n",
      "        },\n",
      "        {\n",
      "            \"bad sentence\": \"The language experts gathered to discuss the evolution of modern English, but many left the conference feeling dissatisfied.\",\n",
      "            \"good sentence\": \"The conference on the evolution of the English language left many attendees feeling underwhelmed.\"\n",
      "        },\n",
      "        {\n",
      "            \"bad sentence\": \"A new study on language preference reveals some interesting findings on regional variations, indicating that regional dialects may be dying out.\",\n",
      "            \"good sentence\": \"New research highlights the decline of regional dialects, sparking concern for some.\"\n",
      "        },\n",
      "        {\n",
      "            \"bad sentence\": \"The government minister was unable to articulate a clear response when questioned about the latest policy changes.\",\n",
      "            \"good sentence\": \"The minister failed to provide a coherent response when grilled on the government's latest policy shifts.\"\n",
      "        },\n",
      "        {\n",
      "            \"bad sentence\": \"The award-winning journalist is known for her ability to explain complex grammar rules in an accessible manner, but this task may be too difficult even for her.\",\n",
      "            \"good sentence\": \"The renowned journalist, known for simplifying grammar for the masses, faces a challenging task in the face of the evolving linguistic landscape.\"\n",
      "        },\n",
      "        {\n",
      "            \"bad sentence\": \"The English department at the university has been grappling with the new writing standards, which have caused confusion among the students.\",\n",
      "            \"good sentence\": \"The English majors at the university are struggling to adapt to the newly implemented writing standards.\"\n",
      "        }\n",
      "    ]\n",
      "}\n"
     ]
    }
   ],
   "source": [
    "t = (\n",
    "    input_data_df_w_all_annotations\n",
    "        .loc[lambda df: df['was_unclear_gpt4'] == True]\n",
    "        [['title', 'content', 'parsed_mixtral', 'parsed_command_r']]\n",
    "        .iloc[1]\n",
    ")\n",
    "\n",
    "print(t.pipe(lambda s: json.dumps(s.to_dict(), indent=4)))"
   ]
  },
  {
   "cell_type": "code",
   "execution_count": 469,
   "id": "8c065c52-b350-4208-9c7e-ec0d24beeb7e",
   "metadata": {},
   "outputs": [],
   "source": [
    "rule_title = t['title']\n",
    "rule = t['content']"
   ]
  },
  {
   "cell_type": "code",
   "execution_count": 484,
   "id": "b74bcedb-3ab5-4765-b9cf-ccf9872272a8",
   "metadata": {},
   "outputs": [],
   "source": [
    "idx = 2\n",
    "b, g = t['parsed_mixtral'][idx]['bad sentence'], t['parsed_mixtral'][idx]['good sentence']"
   ]
  },
  {
   "cell_type": "code",
   "execution_count": 679,
   "id": "cca37e23-ba89-404f-88ef-4f1a3828c187",
   "metadata": {},
   "outputs": [],
   "source": [
    "import prompts"
   ]
  },
  {
   "cell_type": "code",
   "execution_count": 489,
   "id": "52256e64-93c0-4c49-a12d-c7d1dff38ca5",
   "metadata": {},
   "outputs": [],
   "source": [
    "messages = [\n",
    "    {\n",
    "        \"role\": \"system\",\n",
    "        \"content\": \"You are a helpful editor who checks other editors.\"\n",
    "    },\n",
    "    {\n",
    "        'role': 'user',\n",
    "        'content': prompts.ZERO_SHOT_SINGLE_PAIRWISE_SEMANTIC_CHECK.format(rule_title=rule_title, rule=rule, b=b, g=g)\n",
    "    }\n",
    "]\n",
    "    \n",
    "output = gpt_35_model(messages=messages, logprobs=True, top_logprobs=5)"
   ]
  },
  {
   "cell_type": "code",
   "execution_count": 490,
   "id": "7c99aef5-4723-4f05-811a-f5b2263aee01",
   "metadata": {},
   "outputs": [
    {
     "data": {
      "text/plain": [
       "Choice(finish_reason='stop', index=0, logprobs=ChoiceLogprobs(content=[ChatCompletionTokenLogprob(token='yes', bytes=[121, 101, 115], logprob=-0.4398991, top_logprobs=[TopLogprob(token='yes', bytes=[121, 101, 115], logprob=-0.4398991), TopLogprob(token='Yes', bytes=[89, 101, 115], logprob=-1.1569077), TopLogprob(token='No', bytes=[78, 111], logprob=-3.9005122), TopLogprob(token='no', bytes=[110, 111], logprob=-4.2488647), TopLogprob(token='Unc', bytes=[85, 110, 99], logprob=-5.7861056)])]), message=ChatCompletionMessage(content='yes', role='assistant', function_call=None, tool_calls=None))"
      ]
     },
     "execution_count": 490,
     "metadata": {},
     "output_type": "execute_result"
    }
   ],
   "source": [
    "output.choices[0]"
   ]
  },
  {
   "cell_type": "code",
   "execution_count": 492,
   "id": "d55b1d03-d0aa-40e8-8ca5-8aa196cbf188",
   "metadata": {},
   "outputs": [
    {
     "name": "stdout",
     "output_type": "stream",
     "text": [
      "\n",
      "Please check this work. I followed this editing rule:\n",
      "\n",
      "```Schools of grammatical thought\n",
      "\n",
      "There are many schools of grammatical thought—and differing vocabularies for describing grammar. Grammatical theories have been in upheaval in recent years. It seems that the more we learn, the less we know. As the illustrious editor in chief of the Oxford English Dictionary wrote in 1991: “An entirely adequate description of English grammar is still a distant target and at present seemingly an unreachable one, the complications being what they are.”1 In fact, the more detailed the grammar (it can run to many large volumes), the less likely it is to be of any practical use to most writers and speakers.\n",
      "\n",
      "\n",
      "1. Robert W. Burchfield, Unlocking the English Language (New York: Hill and Wang, 1991), 22.```\n",
      "\n",
      "To edit this bad sentence:\n",
      "```The passive voice is always weaker than the active voice, and should be avoided in writing.```\n",
      "\n",
      "Into this good one: \n",
      "```While the active voice can often make writing more clear and engaging, the passive voice has its place in certain contexts, such as when the subject of the sentence is unknown or unimportant.```\n",
      "\n",
      "Did I do a good job? Answer one of three answers: [yes, no, unclear]. Don't say anything else.\n",
      "\"yes\" if the rule is correctly applied and the good sentence makes sense. \n",
      "\"no\" otherwise.\n",
      "\"unclear\" if the rule doesn't make sense as a editing rule.\n",
      "\n"
     ]
    }
   ],
   "source": [
    "print(prompt.format(rule_title=rule_title, rule=rule, b=b, g=g))"
   ]
  },
  {
   "cell_type": "code",
   "execution_count": 677,
   "id": "0f880927-9869-4b2c-afb0-3c3ac5425afc",
   "metadata": {
    "scrolled": true
   },
   "outputs": [],
   "source": [
    "all_synthetic_data = (\n",
    "    input_data_df_w_all_annotations\n",
    "        [['url', 'title', 'content', 'parsed_gpt4', 'parsed_mixtral', 'parsed_command_r']]\n",
    "        .set_index(['url', 'title', 'content'])\n",
    "        .stack()\n",
    "        .reset_index()\n",
    "        .rename(columns={'level_3': 'algorithm', 0: 'synthetic_data'})\n",
    "        .explode('synthetic_data')\n",
    "        .reset_index(drop=True)\n",
    "        .loc[lambda df: df['synthetic_data'].str.get('bad sentence') != df['synthetic_data'].str.get('good sentence')]\n",
    ")\n",
    "\n",
    "all_single_prompts = (\n",
    "    all_synthetic_data\n",
    "        .apply(\n",
    "            lambda x: prompt.format(\n",
    "                rule_title=x['title'], \n",
    "                rule=x['content'],\n",
    "                b=x['synthetic_data']['bad sentence'],\n",
    "                g=x['synthetic_data']['good sentence']\n",
    "            ),\n",
    "            axis=1)\n",
    ")"
   ]
  },
  {
   "cell_type": "code",
   "execution_count": 678,
   "id": "910b583e-4f38-45dd-98ce-10791cd16bc1",
   "metadata": {},
   "outputs": [
    {
     "data": {
      "text/html": [
       "<div>\n",
       "<style scoped>\n",
       "    .dataframe tbody tr th:only-of-type {\n",
       "        vertical-align: middle;\n",
       "    }\n",
       "\n",
       "    .dataframe tbody tr th {\n",
       "        vertical-align: top;\n",
       "    }\n",
       "\n",
       "    .dataframe thead th {\n",
       "        text-align: right;\n",
       "    }\n",
       "</style>\n",
       "<table border=\"1\" class=\"dataframe\">\n",
       "  <thead>\n",
       "    <tr style=\"text-align: right;\">\n",
       "      <th></th>\n",
       "      <th>url</th>\n",
       "      <th>title</th>\n",
       "      <th>content</th>\n",
       "      <th>algorithm</th>\n",
       "      <th>synthetic_data</th>\n",
       "    </tr>\n",
       "  </thead>\n",
       "  <tbody>\n",
       "    <tr>\n",
       "      <th>0</th>\n",
       "      <td>/book/ed17/part2/ch05/psec001.html</td>\n",
       "      <td>The field of grammar</td>\n",
       "      <td>In its usual sense, grammar is the set of rule...</td>\n",
       "      <td>parsed_command_r</td>\n",
       "      <td>{'bad sentence': 'The city's mayor has not yet...</td>\n",
       "    </tr>\n",
       "    <tr>\n",
       "      <th>1</th>\n",
       "      <td>/book/ed17/part2/ch05/psec001.html</td>\n",
       "      <td>The field of grammar</td>\n",
       "      <td>In its usual sense, grammar is the set of rule...</td>\n",
       "      <td>parsed_command_r</td>\n",
       "      <td>{'bad sentence': 'The new legislation will hop...</td>\n",
       "    </tr>\n",
       "  </tbody>\n",
       "</table>\n",
       "</div>"
      ],
      "text/plain": [
       "                                  url                 title  \\\n",
       "0  /book/ed17/part2/ch05/psec001.html  The field of grammar   \n",
       "1  /book/ed17/part2/ch05/psec001.html  The field of grammar   \n",
       "\n",
       "                                             content         algorithm  \\\n",
       "0  In its usual sense, grammar is the set of rule...  parsed_command_r   \n",
       "1  In its usual sense, grammar is the set of rule...  parsed_command_r   \n",
       "\n",
       "                                      synthetic_data  \n",
       "0  {'bad sentence': 'The city's mayor has not yet...  \n",
       "1  {'bad sentence': 'The new legislation will hop...  "
      ]
     },
     "execution_count": 678,
     "metadata": {},
     "output_type": "execute_result"
    }
   ],
   "source": [
    "all_synthetic_data.head(2)"
   ]
  },
  {
   "cell_type": "code",
   "execution_count": 646,
   "id": "46f4ec1d-171b-4a1a-a660-225b4e159ccc",
   "metadata": {},
   "outputs": [
    {
     "data": {
      "text/html": [
       "<div>\n",
       "<style scoped>\n",
       "    .dataframe tbody tr th:only-of-type {\n",
       "        vertical-align: middle;\n",
       "    }\n",
       "\n",
       "    .dataframe tbody tr th {\n",
       "        vertical-align: top;\n",
       "    }\n",
       "\n",
       "    .dataframe thead th {\n",
       "        text-align: right;\n",
       "    }\n",
       "</style>\n",
       "<table border=\"1\" class=\"dataframe\">\n",
       "  <thead>\n",
       "    <tr style=\"text-align: right;\">\n",
       "      <th></th>\n",
       "      <th>url</th>\n",
       "      <th>title</th>\n",
       "      <th>content</th>\n",
       "      <th>algorithm</th>\n",
       "      <th>synthetic_data</th>\n",
       "    </tr>\n",
       "  </thead>\n",
       "  <tbody>\n",
       "    <tr>\n",
       "      <th>0</th>\n",
       "      <td>/book/ed17/part2/ch05/psec001.html</td>\n",
       "      <td>The field of grammar</td>\n",
       "      <td>In its usual sense, grammar is the set of rule...</td>\n",
       "      <td>parsed_command_r</td>\n",
       "      <td>{'bad sentence': 'The city's mayor has not yet...</td>\n",
       "    </tr>\n",
       "    <tr>\n",
       "      <th>1</th>\n",
       "      <td>/book/ed17/part2/ch05/psec001.html</td>\n",
       "      <td>The field of grammar</td>\n",
       "      <td>In its usual sense, grammar is the set of rule...</td>\n",
       "      <td>parsed_command_r</td>\n",
       "      <td>{'bad sentence': 'The new legislation will hop...</td>\n",
       "    </tr>\n",
       "  </tbody>\n",
       "</table>\n",
       "</div>"
      ],
      "text/plain": [
       "                                  url                 title  \\\n",
       "0  /book/ed17/part2/ch05/psec001.html  The field of grammar   \n",
       "1  /book/ed17/part2/ch05/psec001.html  The field of grammar   \n",
       "\n",
       "                                             content         algorithm  \\\n",
       "0  In its usual sense, grammar is the set of rule...  parsed_command_r   \n",
       "1  In its usual sense, grammar is the set of rule...  parsed_command_r   \n",
       "\n",
       "                                      synthetic_data  \n",
       "0  {'bad sentence': 'The city's mayor has not yet...  \n",
       "1  {'bad sentence': 'The new legislation will hop...  "
      ]
     },
     "execution_count": 646,
     "metadata": {},
     "output_type": "execute_result"
    }
   ],
   "source": [
    "all_synthetic_data.head(2)"
   ]
  },
  {
   "cell_type": "code",
   "execution_count": 648,
   "id": "4c949f5e-7f5b-4209-b5cd-4b686511f1b7",
   "metadata": {},
   "outputs": [],
   "source": [
    "idx = 100\n",
    "k = 10\n",
    "grouped_synthetic_data = (\n",
    "    all_synthetic_data\n",
    "        .groupby(['url', 'title', 'algorithm', 'content'])\n",
    "        ['synthetic_data']\n",
    "        .aggregate(list)\n",
    ")\n",
    "batch = grouped_synthetic_data.iloc[idx][:k]\n",
    "batch = list(map(lambda x: f'OLD: \"{x[\"bad sentence\"]}\" -> NEW: \"{x[\"good sentence\"]}\"', batch))\n",
    "batch = '\\n'.join(list(map(lambda x: f\"{x[0]+1}. {x[1]}\", enumerate( batch))))\n",
    "url, title, alg, rule = grouped_synthetic_data.index[idx]"
   ]
  },
  {
   "cell_type": "code",
   "execution_count": 650,
   "id": "cf88ae91-0ba3-456f-87fd-e6f9bf388369",
   "metadata": {
    "scrolled": true
   },
   "outputs": [],
   "source": [
    "messages = [\n",
    "    {\n",
    "        \"role\": \"system\",\n",
    "        \"content\": \"You are a helpful editor who checks other editors.\"\n",
    "    },\n",
    "    {\n",
    "        'role': 'user',\n",
    "        'content': multi_example_prompt.format(rule_title=title, rule=rule, k=k, sentences=batch)\n",
    "    }\n",
    "]\n",
    "    \n",
    "output = gpt_4_model(messages=messages, logprobs=True, top_logprobs=5)"
   ]
  },
  {
   "cell_type": "code",
   "execution_count": 656,
   "id": "646fab4e-32c0-4d01-96d6-dba11d0777ea",
   "metadata": {},
   "outputs": [
    {
     "data": {
      "text/plain": [
       "('/book/ed17/part2/ch05/psec001.html',\n",
       " 'The field of grammar',\n",
       " 'parsed_command_r',\n",
       " 'In its usual sense, grammar is the set of rules governing how words are put together in sentences to communicate ideas—or the study of these rules. Native speakers of a language learn them unconsciously. The rules govern most constructions in any given language. The small minority of constructions that lie outside these rules fall mostly into the category of idiom and customary usage.')"
      ]
     },
     "execution_count": 656,
     "metadata": {},
     "output_type": "execute_result"
    }
   ],
   "source": [
    "grouped_synthetic_data.index[0]"
   ]
  },
  {
   "cell_type": "code",
   "execution_count": 662,
   "id": "7fe1e1ea-9ed8-4cef-bc5d-1b37e7e6b69c",
   "metadata": {},
   "outputs": [],
   "source": [
    "all_messages = []\n",
    "for (url, title, alg, rule), examples in grouped_synthetic_data.items():\n",
    "    for batch_idx, batch in enumerate(batchify(examples, n=k)):\n",
    "        batch = list(map(lambda x: f'OLD: \"{x[\"bad sentence\"]}\" -> NEW: \"{x[\"good sentence\"]}\"', batch))\n",
    "        batch = '\\n'.join(list(map(lambda x: f\"{x[0] + k * batch_idx}. {x[1]}\", enumerate( batch))))\n",
    "\n",
    "        messages = {\n",
    "            'url': url,\n",
    "            'algorithm': alg,\n",
    "            'messages': [\n",
    "                {\n",
    "                    \"role\": \"system\",\n",
    "                    \"content\": \"You are a helpful editor who checks other editors.\"\n",
    "                }, {\n",
    "                    'role': 'user',\n",
    "                    'content': multi_example_prompt.format(rule_title=title, rule=rule, k=k, sentences=batch)\n",
    "                }\n",
    "            ]\n",
    "        }\n",
    "        all_messages.append(messages)"
   ]
  },
  {
   "cell_type": "code",
   "execution_count": 675,
   "id": "c52d907e-30e2-43ab-89ce-ec23100db5da",
   "metadata": {},
   "outputs": [],
   "source": [
    "output = gpt_4_model(messages=all_messages[50]['messages'])"
   ]
  },
  {
   "cell_type": "code",
   "execution_count": 686,
   "id": "3685a941-3c85-4278-9310-37f2c2179184",
   "metadata": {},
   "outputs": [
    {
     "name": "stdout",
     "output_type": "stream",
     "text": [
      "1. no\n",
      "2. no\n",
      "3. no\n",
      "4. no\n",
      "5. no\n",
      "6. no\n",
      "7. no\n",
      "8. no\n",
      "9. no\n",
      "10. no\n"
     ]
    }
   ],
   "source": [
    "print(output.choices[0].message.content)"
   ]
  },
  {
   "cell_type": "code",
   "execution_count": null,
   "id": "37f18d2c-31e2-4760-a2db-3a0661939f03",
   "metadata": {},
   "outputs": [],
   "source": []
  },
  {
   "cell_type": "code",
   "execution_count": null,
   "id": "1a30dc91-9e59-4c40-bd6c-18d2d76ea862",
   "metadata": {},
   "outputs": [],
   "source": []
  },
  {
   "cell_type": "code",
   "execution_count": null,
   "id": "9f2ed051-11e9-4af2-b395-1fe1adf3122a",
   "metadata": {},
   "outputs": [],
   "source": []
  },
  {
   "cell_type": "code",
   "execution_count": null,
   "id": "fdf55830-6830-428d-b918-ac0f5f02ddf1",
   "metadata": {},
   "outputs": [],
   "source": []
  },
  {
   "cell_type": "code",
   "execution_count": 658,
   "id": "4d31bca2-9a9f-4a15-97ff-bf1492e1da67",
   "metadata": {},
   "outputs": [
    {
     "data": {
      "application/vnd.jupyter.widget-view+json": {
       "model_id": "c00c8826d11d40c0b797ddca5ad39f55",
       "version_major": 2,
       "version_minor": 0
      },
      "text/plain": [
       "  0%|          | 0/2214 [00:00<?, ?it/s]"
      ]
     },
     "metadata": {},
     "output_type": "display_data"
    },
    {
     "data": {
      "text/plain": [
       "1701302"
      ]
     },
     "execution_count": 658,
     "metadata": {},
     "output_type": "execute_result"
    }
   ],
   "source": [
    "(\n",
    "    pd.Series(all_messages)\n",
    "     .str.get('messages')\n",
    "     .pipe(lambda s: s.str.get(0).str.get('content') + ' ' + s.str.get(1).str.get('content'))\n",
    "     .progress_apply(tok.encode)\n",
    "     .str.len()\n",
    "     .sum()\n",
    ")"
   ]
  },
  {
   "cell_type": "code",
   "execution_count": 642,
   "id": "a47cbfc4-668f-4db0-b6d7-f494b0aba966",
   "metadata": {
    "scrolled": true
   },
   "outputs": [
    {
     "data": {
      "text/plain": [
       "[{'bad sentence': \"The president spoke about the economy's recovery, stating, 'We have seen a remarkable turnaround in the past year.' (John Doe, Economic Trends, 2023, p. 58).\",\n",
       "  'good sentence': \"The president spoke about the economy's recovery, stating, 'We have seen a remarkable turnaround in the past year.' (John Doe, Economic Trends [2023], 58)\"},\n",
       " {'bad sentence': \"In her latest book, the author describes the city as 'a vibrant hub that never sleeps.' (Jane Smith, Cityscapes, 2023, p. 112).\",\n",
       "  'good sentence': \"In her latest book, the author describes the city as 'a vibrant hub that never sleeps.' (Jane Smith, Cityscapes [2023], 112)\"},\n",
       " {'bad sentence': \"The study found that 'more than 50% of respondents prefer flexible work options.' (Research Institute, Work Trends, 2023, p. 204).\",\n",
       "  'good sentence': \"The study found that 'more than 50% of respondents prefer flexible work options.' (Research Institute, Work Trends [2023], 204)\"},\n",
       " {'bad sentence': \"As the climate conference concluded, one expert noted, 'We are at a tipping point with our environmental policies.' (Climate Change Today, 2023, p. 78).\",\n",
       "  'good sentence': \"As the climate conference concluded, one expert noted, 'We are at a tipping point with our environmental policies.' (Climate Change Today [2023], 78)\"},\n",
       " {'bad sentence': \"The novel captures the essence of the 1920s with its description: 'It was an era of excess and excitement.' (Historical Fiction Review, 2023, p. 45).\",\n",
       "  'good sentence': \"The novel captures the essence of the 1920s with its description: 'It was an era of excess and excitement.' (Historical Fiction Review [2023], 45)\"},\n",
       " {'bad sentence': \"Critics argue that 'the policy may not effectively address the root causes of the problem.' (Policy Analysis, 2023, p. 90).\",\n",
       "  'good sentence': \"Critics argue that 'the policy may not effectively address the root causes of the problem.' (Policy Analysis [2023], 90)\"},\n",
       " {'bad sentence': \"The report highlights, 'There has been a significant increase in renewable energy adoption.' (Energy Today, 2023, p. 130).\",\n",
       "  'good sentence': \"The report highlights, 'There has been a significant increase in renewable energy adoption.' (Energy Today [2023], 130)\"},\n",
       " {'bad sentence': \"The artist stated, 'My work is deeply influenced by my cultural heritage.' (Art and Culture, 2023, p. 22).\",\n",
       "  'good sentence': \"The artist stated, 'My work is deeply influenced by my cultural heritage.' (Art and Culture [2023], 22)\"},\n",
       " {'bad sentence': \"The paper concludes that 'urban development must consider more green spaces.' (Urban Planning Review, 2023, p. 88).\",\n",
       "  'good sentence': \"The paper concludes that 'urban development must consider more green spaces.' (Urban Planning Review [2023], 88)\"},\n",
       " {'bad sentence': \"The historian remarked, 'This period is crucial for understanding the broader social changes.' (History Today, 2023, p. 102).\",\n",
       "  'good sentence': \"The historian remarked, 'This period is crucial for understanding the broader social changes.' (History Today [2023], 102)\"}]"
      ]
     },
     "execution_count": 642,
     "metadata": {},
     "output_type": "execute_result"
    }
   ],
   "source": [
    "examples"
   ]
  },
  {
   "cell_type": "code",
   "execution_count": null,
   "id": "dc50c447-7bba-4adc-9529-a3a10a4eeb7b",
   "metadata": {},
   "outputs": [],
   "source": []
  },
  {
   "cell_type": "code",
   "execution_count": null,
   "id": "60919802-ef03-41cf-9d67-6f51cb493498",
   "metadata": {},
   "outputs": [],
   "source": []
  },
  {
   "cell_type": "code",
   "execution_count": null,
   "id": "bc17fcc6-7698-4c1d-9301-c2e08ff04f6e",
   "metadata": {},
   "outputs": [],
   "source": []
  },
  {
   "cell_type": "code",
   "execution_count": null,
   "id": "03acc929-5488-4c2b-b72e-0fcb97600375",
   "metadata": {},
   "outputs": [],
   "source": []
  },
  {
   "cell_type": "code",
   "execution_count": null,
   "id": "1d35b6be-dcd5-480b-bf52-1a6ecf7fd318",
   "metadata": {},
   "outputs": [],
   "source": []
  },
  {
   "cell_type": "code",
   "execution_count": null,
   "id": "d2a40100-7306-4a37-abd2-1e0157a558c4",
   "metadata": {},
   "outputs": [],
   "source": []
  },
  {
   "cell_type": "code",
   "execution_count": 462,
   "id": "8c8ca4a0-a910-4119-81f9-2ec6058a9d4d",
   "metadata": {},
   "outputs": [],
   "source": [
    "tqdm.pandas()"
   ]
  },
  {
   "cell_type": "code",
   "execution_count": 564,
   "id": "682d4ed1-a705-49f9-969b-171c6ac84608",
   "metadata": {},
   "outputs": [
    {
     "data": {
      "application/vnd.jupyter.widget-view+json": {
       "model_id": "b71c66c7b6564a40b385106fa8a77d2e",
       "version_major": 2,
       "version_minor": 0
      },
      "text/plain": [
       "  0%|          | 0/17931 [00:00<?, ?it/s]"
      ]
     },
     "metadata": {},
     "output_type": "display_data"
    },
    {
     "data": {
      "text/plain": [
       "6525870"
      ]
     },
     "execution_count": 564,
     "metadata": {},
     "output_type": "execute_result"
    }
   ],
   "source": [
    "all_single_prompts.progress_apply(tok.encode).str.len().sum()"
   ]
  },
  {
   "cell_type": "code",
   "execution_count": null,
   "id": "adf640b2-b7d8-4b98-b94b-27a754a232e6",
   "metadata": {},
   "outputs": [],
   "source": []
  },
  {
   "cell_type": "code",
   "execution_count": null,
   "id": "330617bb-80fb-4a19-84fc-de1bf34f2773",
   "metadata": {},
   "outputs": [],
   "source": []
  },
  {
   "cell_type": "code",
   "execution_count": null,
   "id": "2d414a85-dd09-489e-a3ca-dc94afe15692",
   "metadata": {},
   "outputs": [],
   "source": []
  },
  {
   "cell_type": "code",
   "execution_count": null,
   "id": "c8dd37f0-23ad-4676-ac91-57f5aacd08bc",
   "metadata": {},
   "outputs": [],
   "source": []
  },
  {
   "cell_type": "code",
   "execution_count": null,
   "id": "2f6aab3a-d04d-4cb7-8e0f-edc8169adf63",
   "metadata": {},
   "outputs": [],
   "source": []
  },
  {
   "cell_type": "code",
   "execution_count": null,
   "id": "08e589ef-b6c0-48bf-9cb8-544df639965c",
   "metadata": {},
   "outputs": [],
   "source": []
  },
  {
   "cell_type": "code",
   "execution_count": null,
   "id": "bdec4eac-e99d-4dfe-b4e0-d9d48a6acbb3",
   "metadata": {},
   "outputs": [],
   "source": []
  },
  {
   "cell_type": "code",
   "execution_count": null,
   "id": "946edb9c-175c-4170-b7f3-a9a165c657ed",
   "metadata": {},
   "outputs": [],
   "source": []
  },
  {
   "cell_type": "code",
   "execution_count": null,
   "id": "40ffa88a-cae3-44a3-bdf4-931855ba8883",
   "metadata": {},
   "outputs": [],
   "source": []
  },
  {
   "cell_type": "code",
   "execution_count": null,
   "id": "1d208353-6a40-4e03-b792-a1f0db305e53",
   "metadata": {},
   "outputs": [],
   "source": []
  },
  {
   "cell_type": "code",
   "execution_count": null,
   "id": "a2b46dc1-9810-4552-b3bf-8734490ae53e",
   "metadata": {},
   "outputs": [],
   "source": []
  },
  {
   "cell_type": "code",
   "execution_count": null,
   "id": "4d950dd6-0ae5-449b-9af6-f1ae6c9e218e",
   "metadata": {},
   "outputs": [],
   "source": []
  },
  {
   "cell_type": "code",
   "execution_count": null,
   "id": "6944e2ea-8423-4610-81fd-370f9a273bed",
   "metadata": {},
   "outputs": [],
   "source": []
  },
  {
   "cell_type": "code",
   "execution_count": null,
   "id": "b66ea213-1f86-4802-9823-d06c126899cd",
   "metadata": {},
   "outputs": [],
   "source": []
  },
  {
   "cell_type": "code",
   "execution_count": null,
   "id": "48562a1c-870f-4815-a8c5-92247e3e45ad",
   "metadata": {},
   "outputs": [],
   "source": []
  },
  {
   "cell_type": "code",
   "execution_count": null,
   "id": "de5b6a3f-75fe-45bb-b6c6-c8eed7f9e2a7",
   "metadata": {},
   "outputs": [],
   "source": []
  },
  {
   "cell_type": "code",
   "execution_count": 71,
   "id": "5711b4d5-1140-456d-8e4b-02be7babf773",
   "metadata": {},
   "outputs": [
    {
     "data": {
      "text/plain": [
       "message\n",
       "[\\n    {\"bad sentence\": \"The city's mayor has not yet commented on the protests, which has left residents in suspense. \", \"good sentence\": \"The city's mayor has not commented on the protests, leaving residents in the dark.\"},\\n    {\"bad sentence\": \"The new legislation will hopefully bring about a positive change, ensuring a brighter future for the state's citizens, according to the Governor. \", \"good sentence\": \"The Governor believes the new legislation will brighten the state's future.\"},\\n    {\"bad sentence\": \"Many of the patients were upset, because the popular doctor was let go without warning, and has left the practice entirely\", \"good sentence\": \"The dismissal of the well-loved doctor came as a shock to patients, who are upset at the loss.\"},\\n    {\"bad sentence\": \"The award for Employee of the Month went to Sarah, who has been with the company longest, rather than based on her actual performance.\", \"good sentence\": \"The award for Employee of the Month went to Sarah, despite her mediocre performance, likely due to her longevity at the company.\"},\\n    {\"bad sentence\": \"The missing woman, who has been missing since Friday evening, has family members who are very worried and are searching for her.\", \"good sentence\": \"The missing woman's worried family are frantically searching for her, after she went missing Friday evening.\"},\\n    {\"bad sentence\": \"The restaurant's new menu is a welcome change, according to one regular customer, with interesting and unusual options.\", \"good sentence\": \"A regular at the restaurant praised the exciting new menu, which offers a refreshing change from the ordinary.\"},\\n    {\"bad sentence\": \"The drought-stricken town is running low on water, and the local government has called for residents to begin rationing their usage, which is an unusual measure.\", \"good sentence\": \"The drought has forced the town to ration water usage, a rare measure that reflects the severity of the situation.\"},\\n    {\"bad sentence\": \"The actor, who plays the lead in the new sci-fi movie, is relatively unknown, but the film also stars a well-established actress.\", \"good sentence\": \"The new sci-fi flick features a rising actor in the lead role, alongside a renowned industry veteran.\"},\\n    {\"bad sentence\": \"The tech startup's new app aims to organize your entire life, but it's unclear if it will actually make life simpler or just add more notifications.\", \"good sentence\": \"The new app from the tech startup promises to streamline your life, but it may end up being more hassle than it's worth.\"},\\n    {\"bad sentence\": \"The recent graduates are struggling to find jobs in their field, a worrying trend that's been happening nationwide.\", \"good sentence\": \"The job market has proven challenging for the latest batch of graduates, who are struggling to enter their chosen fields.\"},\\n    {\"bad sentence\": \"The new book about the former president's administration is a tell-all, according to the publisher, who promises many shocking revelations.\", \"good sentence\": \"A juicy new biography promises to expose untold stories from the former president's time in office.\"}\\n]<|END_OF_TURN_TOKEN|>                                                                                                                                                                                                                                                                                                                                                                                                                                                                                                                                                      1\n",
       "[\\n    {\\n        \"bad sentence\": \"Being in the midst of a heated election season, the politicians' constant bickering has left many voters feeling frustrated, with many undecided about their upcoming votes.\",\\n        \"good sentence\": \"With the politicians' constant bickering throughout this heated election season, many voters feel frustrated and undecided about their upcoming votes.\"\\n    },\\n    {\\n        \"bad sentence\": \"As the new royal baby makes its highly anticipated debut, crowds gathered outside the hospital have been cheering and celebrating, creating a joyful atmosphere for the new parents' arrival.\",\\n        \"good sentence\": \"The arrival of the highly anticipated royal baby has joyous crowds gathered outside the hospital cheering and celebrating the new addition.\"\\n    },\\n    {\\n        \"bad sentence\": \"The ongoing drought, parching farmland across the midwest, has forced many farmers to seek government aid, with crops failing and livestock suffering.\",\\n        \"good sentence\": \"The devastating drought across the midwest has pushed farmers to seek desperate measures, as crops wither and livestock suffer without feed.\"\\n    },\\n    {\\n        \"bad sentence\": \"A controversial new bill, aiming to reform tech giants, has sparked intense debate among policymakers, raising concerns over its potential impact on the tech industry.\",\\n        \"good sentence\": \"The introduction of the new bill aimed at reforming tech giants has ignited a fierce debate among policymakers, leaving the tech sector on edge.\"\\n    },\\n    {\\n        \"bad sentence\": \"The mysterious disappearance of the local activist, known for her outspoken nature, has sparked a widespread search effort led by concerned community members.\",\\n        \"good sentence\": \"With the disappearance of a prominent local activist, community members have rallied together to conduct a thorough search for her whereabouts.\"\\n    },\\n    {\\n        \"bad sentence\": \"Found floating in the ocean, the derelict fishing boat's presence has puzzled marine experts, sparking a investigation into its origins.\",\\n        \"good sentence\": \"The discovery of a mysterious fishing boat drifting in the ocean has stumped marine experts, leading to a search for answers.\"\\n    },\\n    {\\n        \"bad sentence\": \"The wildfires, raging uncontrollably across the state, have forced thousands to evacuate their homes, with many losing their residences.\",\\n        \"good sentence\": \"The devastating wildfires that have engulfed the state have resulted in mass evacuations, leaving many residents homeless and communities in ashes.\"\\n    },\\n    {\\n        \"bad sentence\": \"The Oscar-winning actor, known for his charismatic roles, has been cast in the upcoming biopic, portraying a legendary musician.\",\\n        \"good sentence\": \"The upcoming biopic has found its leading man in the charismatic Oscar-winning actor, who will portray a revered musical icon.\"\\n    },\\n    {\\n        \"bad sentence\": \"After months of negotiations, the trade agreement has finally been signed, boosting the local economy and creating new opportunities for businesses.\",\\n        \"good sentence\": \"The successful conclusion of months-long negotiations has resulted in a groundbreaking trade agreement, offering a welcome boost to the local business community.\"\\n    },\\n    {\\n        \"bad sentence\": \"The new AI-powered technology, revolutionizing the medical field, allows for earlier and more accurate disease detection.\",\\n        \"good sentence\": \"Revolutionary AI technology is transforming the medical landscape by enabling earlier detection and improved diagnosis of diseases.\"\\n    }\\n]<|END_OF_TURN_TOKEN|>        1\n",
       "[\\n    {\"bad sentence\": \"The city councilor refused to comment on the ongoing investigation, with tensions growing among the members.\", \"good sentence\": \"The city councilor refused to comment on the probe, heightening tension among members.\"},\\n    {\"bad sentence\": \"The fire's heat singed the building's facade, with onlookers watching from a third-person perspective.\", \"good sentence\": \"The fire's scorching heat singed the building's exterior, as curious onlookers observed from a distance.\"},\\n    {\"bad sentence\": \"The new legislation will go into effect next year, according to the governor's office first-person account.\", \"good sentence\": \"The new legislation is set to take effect next year, according to a statement from the governor's office.\"},\\n    {\"bad sentence\": \"The protest group marched in unison, their chants echoing through the city's streets in past tense.\", \"good sentence\": \"The protest group's chants reverberated through the city's streets, their voices carrying a powerful message.\"},\\n    {\"bad sentence\": \"The tech startup announced plans for an IPO, with the CEO delivering the news in a formal statement.\", \"good sentence\": \"The tech startup revealed its plans for an initial public offering, with the CEO taking responsibility for the exciting announcement.\"},\\n    {\"bad sentence\": \"The journalist reported on the disaster, focusing on the victims' stories in past perfect tense.\", \"good sentence\": \"The journalist's compelling reports highlighted the disaster's human toll, capturing the stories of those affected.\"},\\n    {\"bad sentence\": \"The fashion designer's new collection debuted to a packed audience, with the designs lacking a clear theme.\", \"good sentence\": \"The fashion designer unveiled a diverse range of creations, but the collection failed to present a cohesive vision.\"},\\n    {\"bad sentence\": \"The political candidate's speech left many supporters feeling energized and enthusiastic, according to a recent poll.\", \"good sentence\": \"The candidate's rally inspired a fervent response from attendees, as shown by post-event surveys.\"},\\n    {\"bad sentence\": \"The scientific research paper was published in a prestigious journal, gaining recognition for the authors' contributions.\", \"good sentence\": \"The groundbreaking research study, published in a leading journal, brought well-deserved recognition to its authors.\"},\\n    {\"bad sentence\": \"The movie's trailer gave viewers a sneak peek at the upcoming summer blockbuster, leaving some disappointed in the verb agreement.\", \"good sentence\": \"The highly anticipated movie trailer offered a glimpse at the action-packed film, but some fans were left wanting more.\"},\\n    {\"bad sentence\": \"The author crafted a gripping narrative, with the story's plot twists captivating readers of all ages, past and present.\", \"good sentence\": \"The author's masterful storytelling captivated audiences young and old, weaving a timeless tale that transcends generations.\"}\\n]<|END_OF_TURN_TOKEN|>                                                                                                                                                                                                                                                                                                                                                                                                                                                                                                                                                                                                                                                                                                                   1\n",
       "[{'bad sentence': 'The city will be experiencing a heatwave this weekend, with temperatures expected to soar up to 100 degrees.', 'good sentence': 'This weekend, the city will actively experience a heatwave, with temperatures soaring up to 100 degrees.'}, {'bad sentence': 'The new legislation could be potentially reducing the number of opiate-related deaths, if passed.' , 'good sentence': 'The new legislation, if passed, will actively reduce the number of opiate-related deaths.'}, {'bad sentence': 'The missing painting, believed to have been stolen, was found in the suspected thief’s home and will be returned to its rightful owner soon.', 'good sentence': 'The missing painting, found in the home of the alleged thief, will actively be returned to its owner.'}, {'bad sentence': 'The CEO’s annual salary, which is around $15 million, will be discussed at the shareholder meeting this year.', 'good sentence': 'The shareholders will actively discuss the CEO’s annual salary of $15 million at this year’s meeting.'}, {'bad sentence': 'Some community members are concerned that the new library might be attracting homeless people, and want the city council to take action.', 'good sentence': 'Community members are actively concerned about the library attracting homeless people, and want the city council to take action.'}, {'bad sentence': 'The wildfire, believed to have started by a lightning strike, raged through the forest, destroying several homes.', 'good sentence': 'The wildfire, started by a lightning strike, actively destroyed several homes as it raged through the forest.'}, {'bad sentence': 'The new study suggests that levels of pollution could possibly be lowering in the city center.', 'good sentence': 'The new study indicates that pollution levels in the city center will decrease.'}, {'bad sentence': 'The Oscar-winning actor might be attending the charity event this weekend, according to the event organizers.', 'good sentence': 'The Oscar-winning actor will likely attend the charity event this weekend.'}, {'bad sentence': 'The new restaurant might not be surviving its first year in business, as its owners are being sued by a former employee.', 'good sentence': 'The new restaurant faces an uncertain future after a former employee filed a lawsuit against the owners.'}, {'bad sentence': 'The President was praised by many world leaders for his work in improving international relations.', 'good sentence': 'Many world leaders actively praised the President’s work in enhancing international relations.'}]<|END_OF_TURN_TOKEN|>                                                                                                                                                                                                                                                                                                                                                                                                                                                                                                                                                                                                                                                                                                                                                                                                                                                                                                                                                                                                                                                                                                                                                          1\n",
       "[\\n    {\"bad sentence\": \"The building is being reportedly constructed quickly, according to the city council.\", \"good sentence\": \"The city council claims the building's construction is swift.\"},\\n    {\"bad sentence\": \"The missing painting appears to be finally located, with authorities being informed of its whereabouts.\", \"good sentence\": \"The missing painting's location has been reportedly revealed to authorities.\"},\\n    {\"bad sentence\": \"The new legislation is being hopefully passed this term, say local representatives.\", \"good sentence\": \"Local representatives are optimistic about passing the new legislation this term.\"},\\n    {\"bad sentence\": \"The stolen artifact is believed to be carefully hidden, with its location unknown to authorities.\", \"good sentence\": \"The stolen artifact's precise location remains a mystery to investigators.\"},\\n    {\"bad sentence\": \"The forest fire is rapidly spreading, with firefighters actively battling the blaze.\", \"good sentence\": \"Firefighters are actively tackling the rapidly spreading forest fire.\"},\\n    {\"bad sentence\": \"The missing person's whereabouts are thought to be possibly known by the suspect.\", \"good sentence\": \"The suspect may know the missing person's location, according to investigators.\"},\\n    {\"bad sentence\": \"The community is actively organizing relief efforts, providing aid to those affected by the natural disaster.\", \"good sentence\": \"The community's relief efforts are in full swing, aiding those impacted by the recent natural disaster.\"},\\n    {\"bad sentence\": \"The growing protest is being noticed by local officials, who are considering their response.\", \"good sentence\": \"Local officials are taking notice of the expanding protest and are discussing their course of action.\"},\\n    {\"bad sentence\": \"The new technology is reportedly being embraced by consumers, who are finding it user-friendly.\", \"good sentence\": \"Consumers are reportedly embracing the new technology, finding it intuitive and accessible.\"},\\n    {\"bad sentence\": \"The actor is being widely praised for his latest role, with critics calling it a career-defining performance.\", \"good sentence\": \"The actor's latest role has earned him widespread acclaim, including praise from critics as a career-best performance.\"}\\n]<|END_OF_TURN_TOKEN|>                                                                                                                                                                                                                                                                                                                                                                                                                                                                                                                                                                                                                                                                                                                                                                                                                                                                                                                                                                                                                                                                                                                                                                                                                                                                                                                                                                                                                                   1\n",
       "                                                                                                                                                                                                                                                                                                                                                                                                                                                                                                                                                                                                                                                                                                                                                                                                                                                                                                                                                                                                                                                                                                                                                                                                                                                                                                                                                                                                                                                                                                                                                                                                                                                                                                                                                                                                                                                                                                                                                                                                                                                                                                                                                                                                                                                                                                                                                                                                                                                                                                                                                                                                                                                                                                                                                                                                                                                                                                                                                                                                                                                                                                                                                                                                                                                                                                                                                                                                                                                                                                                                                                                                                                                                                                                                                                                                                        ..\n",
       "[{'bad sentence': 'The city councilor, of whom many residents have questions about the recent vote, will not be attending the town hall meeting tonight.', 'good sentence': 'The city councilor, whose votes have sparked resident queries, is M.I.A. at tonight's town hall.'}, {'bad sentence': 'The new legislation, of which the prime minister is a strong supporter, will be introduced in the upcoming sitting of Parliament.', 'good sentence': 'The new legislation has the prime minister's full support and will soon be debated.'}, {'bad sentence': 'It remains unclear who among the witnesses actually saw the accident, of whom all three have given differing accounts.', 'good sentence': 'It remains unclear whose eyes witnessed the accident, as all three accounts differ.'}, {'bad sentence': 'The company CEO denied the allegations, of which there have been many over the past year.', 'good sentence': 'The CEO denied the latest allegations, which have been numerous over the past year.'}, {'bad sentence': 'The award show had no host this year, of whom the absence was notable.', 'good sentence': 'The awards show had no host whose absence left a noticeable gap in the ceremony.'}, {'bad sentence': 'The missing person’s family are offering a reward for any information leading to their loved one’s safe return, of whom they have not heard from in over a week.', 'good sentence': 'The missing person’s family are desperate for information about their loved one, whose whereabouts have been unknown for over seven days.'}, {'bad sentence': 'The governor, of whom many had high hopes, has signed the controversial bill into law.', 'good sentence': 'The governor has signed the controversial bill into law, disappointing many who had high expectations.'}, {'bad sentence': 'The new hires, of which there are five in total, will begin training next week.', 'good sentence': 'The five new hires will commence training next week.'}, {'bad sentence': 'The public is invited to attend the opening of the new art gallery, of which the city’s art scene has needed for some time.', 'good sentence': 'The public is welcome to attend the grand opening of a highly anticipated art gallery this Friday.'}, {'bad sentence': 'The jury is still out on the new restaurant, of which has received mixed reviews since its soft opening.', 'good sentence': 'The new restaurant has sparked varied responses from critics and diners alike, leaving opinions undecided.'}]<|END_OF_TURN_TOKEN|>                                                                                                                                                                                                                                                                                                                                                                                                                                                                                                                                                                                                                                                                                                                                                                                                                                                                                                                                                                                                                                                                                                                                                                                                                                                           1\n",
       "[\\n    {\"bad sentence\": \"The conclusions of the reports, which findings will be released next week, are expected to impact the upcoming election.\", \"good sentence\": \"The conclusions of the reports, whose findings will be released next week, are expected to impact the upcoming election.\"},\\n    {\"bad sentence\": \"The behavior of the cats, which have taken up residence in the neighborhood, is causing concern among residents.\", \"good sentence\": \"The behavior of the cats whose presence has become a fixture in the neighborhood is causing concern among residents.\"},\\n    {\"bad sentence\": \"The city's mayor was praised for his response to the crisis, of which the full extent is not yet known.\", \"good sentence\": \"The city's mayor was praised for his response to the crisis, whose full extent is not yet known.\"},\\n    {\"bad sentence\": \"The award show's producers are preparing for the ceremony, of which the highlights will be broadcast tonight.\", \"good sentence\": \"The award show's producers are preparing for the ceremony, whose highlights will be broadcast tonight.\"},\\n    {\"bad sentence\": \"The new legislation could impact the tech giant, of which the CEO has been a vocal supporter.\", \"good sentence\": \"The new legislation could impact the tech giant, whose CEO has been a vocal supporter.\"},\\n    {\"bad sentence\": \"The researchers are analyzing the data, which pertains to the recent outbreak.\", \"good sentence\": \"The researchers are analyzing the data, whose pertaining details will help trace the recent outbreak.\"},\\n    {\"bad sentence\": \"The missing person's family is desperate for answers, as the search continues with no new leads, about the disappearance.\", \"good sentence\": \"The missing person's family is desperate for answers, as the search continues with no new leads whose trail has gone cold.\"},\\n    {\"bad sentence\": \"The documentary explores the life of an artist, whose identity remains unknown to most, and the impact of their work.\", \"good sentence\": \"The documentary explores the life of an enigmatic artist, of whom the work has influenced generations.\"},\\n    {\"bad sentence\": \"The fans were disappointed with the team's performance, whose recent record has been lackluster.\", \"good sentence\": \"The fans were disappointed with the team's recent string of losses, whose impact on the season's standings is undeniable.\"},\\n    {\"bad sentence\": \"The wildfire's path of destruction, of which the full damage is not yet assessed, has left a trail of devastation.\", \"good sentence\": \"The wildfire's path of destruction, whose extent is still being surveyed, has left a trail of devastation behind.\"}\\n]<|END_OF_TURN_TOKEN|>                                                                                                                                                                                                                                                                                                                                                                                                                                                                                                                                                                                                                                                                                                                                                                                                                                                                                                                                                                                                                                                                   1\n",
       "[\\n    {\\n        \"bad sentence\": \"The mayor said she would campaign for whomever is willing to listen, but some residents feel that she's only interested in talking to those who support her.\",\\n        \"good sentence\": \"The mayor said she would campaign for whoever is willing to listen, but some residents feel that she's only interested in talking to supporters.\"\\n    },\\n    {\\n        \"bad sentence\": \"The police department has asked the public for help in identifying the man who stole the artwork, and they are searching for the culprit at large.\",\\n        \"good sentence\": \"The police department has asked the public for help in identifying the man, whoever the culprit may be.\"\\n    },\\n    {\\n        \"bad sentence\": \"It's unclear if the suspect had help from anyone, or if he acted alone, but witnesses saw him fleeing the scene and described him as a tall man with a thick beard.\",\\n        \"good sentence\": \"It's unclear if the suspect had help from anyone or acted alone, but witnesses saw him fleeing the scene, whoever he may be.\"\\n    },\\n    {\\n        \"bad sentence\": \"The new policy affects everyone at city hall, and employees are upset that the mayor isn't taking input on the matter from whomever.\",\\n        \"good sentence\": \"The new policy affects everyone at city hall, and employees are upset that the mayor isn't taking input from whoever wants to share their thoughts.\"\\n    },\\n    {\\n        \"bad sentence\": \"The campaign rally was chaotic, with multiple protestors disrupting the event and the candidate only engaging with supporters, rather than anyone who attended.\",\\n        \"good sentence\": \"The campaign rally was chaotic, with multiple protestors disrupting the event and the candidate only engaging with supporters, not whoever else might have attended.\"\\n    },\\n    {\\n        \"bad sentence\": \"The witness refused to share his account of the accident, despite repeated questioning from the police, who are now searching for other people who saw what happened.\",\\n        \"good sentence\": \"The witness refused to share his account of the accident, despite repeated questioning from the police, who are now seeking out other witnesses.\"\\n    },\\n    {\\n        \"bad sentence\": \"The suspect had a history of evading capture, and officers were unsure if he'd been tipped off by someone, or if he'd simply fled because he was guilty.\",\\n        \"good sentence\": \"The suspect had a history of evading capture, and officers were unsure of whoever might have tipped him off, or if he'd fled out of guilt.\"\\n    },\\n    {\\n        \"bad sentence\": \"The award for community involvement goes to whoever donates the most money to the cause, which some see as a strange incentive.\",\\n        \"good sentence\": \"The award for community involvement goes to those who donate the most money to the cause, which some see as a strange incentive.\"\\n    },\\n    {\\n        \"bad sentence\": \"The missing person's family is desperate for answers about her disappearance, and are seeking anyone who might have information, reaching out to the public for help.\",\\n        \"good sentence\": \"The missing person's family is desperate for answers about her disappearance, and are seeking out whoever might have information.\"\\n    },\\n    {\\n        \"bad sentence\": \"The reporter tried to ask the celebrity questions about the scandal, but her publicist only allowed questions from media outlets who had previously run positive stories.\",\\n        \"good sentence\": \"The reporter tried to ask the celebrity about the scandal, but her publicist only allowed questions from media outlets that had previously run positive stories.\"\\n    }\\n]<|END_OF_TURN_TOKEN|>    1\n",
       "[\\n    {\\n        \"bad sentence\": \"Whom do you think will win the upcoming presidential election, and whom would you vote for?\",\\n        \"good sentence\": \"Who do you think will win the upcoming presidential election, and who would you vote for?\"\\n    },\\n    {\\n        \"bad sentence\": \"The protest group demanded to know whom the decision-makers were, but the government wouldn't disclose this information.\",\\n        \"good sentence\": \"The protest group demanded to know who the decision-makers were, but the government stayed silent on the matter.\"\\n    },\\n    {\\n        \"bad sentence\": \"It's unclear whom the governor was referring to when he said there'd be 'consequences'\",\\n        \"good sentence\": \"It remained unclear who the governor was referring to when he spoke of 'consequences'.\"\\n    },\\n    {\\n        \"bad sentence\": \"Whom should we blame for the stock market plunge?\",\\n        \"good sentence\": \"Who should we hold responsible for the stock market's recent plunge?\"\\n    },\\n    {\\n        \"bad sentence\": \"The award for Whom the Bell Tolls goes to the latest Grisham legal thriller.\",\\n        \"good sentence\": \"The award for Who the Bell Tolls was given to Grisham's latest work.\"\\n    },\\n    {\\n        \"bad sentence\": \"The mystery of whom the treasure map belongs to has been solved by local detectives.\",\\n        \"good sentence\": \"Local detectives have solved the mystery of who owns the treasure map.\"\\n    },\\n    {\\n        \"bad sentence\": \"The mayor kept quiet on whom he'd appoint as the next police chief.\",\\n        \"good sentence\": \"The mayor kept tight-lipped about who would get the appointment as police chief.\"\\n    },\\n    {\\n        \"bad sentence\": \"It's a split decision on whether the stimulus checks should go out to whomever applies or only the most needy.\",\\n        \"good sentence\": \"There's division on whether stimulus funds should be sent to whoever applies or reserved for the most vulnerable citizens.\"\\n    },\\n    {\\n        \"bad sentence\": \"The new CEO promised to hire whomever was best for the job, but his appointment of his old college roommate raised eyebrows.\",\\n        \"good sentence\": \"The new CEO's promise to hire the most qualified candidate was met with skepticism when he appointed his old roommate, sparking controversy.\"\\n    },\\n    {\\n        \"bad sentence\": \"The missing person's family are unsure whom to believe about the conflicting witness testimonies.\",\\n        \"good sentence\": \"The family of the missing person is unsure who to trust when it comes to the differing witness accounts.\"\\n    },\\n    {\\n        \"bad sentence\": \"The witness refused to say whom she saw at the crime scene, which has hampered the investigation.\",\\n        \"good sentence\": \"The witness remained tight-lipped about the identity of the individual she saw at the crime scene, hindering the probe.\"\\n    }\\n]<|END_OF_TURN_TOKEN|>                                                                                                                                                                                                                                                                                                                                                                                                                                                                                                                                                                                                                                                                                                                                                                                                                   1\n",
       "[\\n    {\"bad sentence\": \"For instance, the President remarked that inflation continues to be a top concern for his administration, and one that requires immediate action.\", \"good sentence\": \"The President remarked that, for instance, inflation continues to be a top concern requiring immediate action.\"},\\n    {\"bad sentence\": \"In any event, the Governor announced plans for a press conference tomorrow morning, where she will likely address the recent scandal.\", \"good sentence\": \"The Governor plans to hold a press conference tomorrow morning, in any event.\"},\\n    {\"bad sentence\": \"For many, the rise of AI has been a fascinating development, with far-reaching implications across all sectors, especially healthcare, which could benefit greatly from its advancements, revolutionizing patient care and research in the years to come.\", \"good sentence\": \"The potential of AI to revolutionize patient care and research has fascinated many, especially in the sector of healthcare.\"},\\n    {\"bad sentence\": \"In the last analysis, the jury found the defendant not guilty, despite overwhelming evidence presented by the prosecution.\", \"good sentence\": \"The defendant was found not guilty, in the end.\"},\\n    {\"bad sentence\": \"The new mayor has many challenges ahead, for example, balancing the city's budget while also addressing the growing homelessness crisis.\", \"good sentence\": \"The mayor faces a challenging situation, with competing priorities, and will need to balance the city's budget.\"},\\n    {\"bad sentence\": \"In a word, the Prime Minister's visit to the region has been a diplomatic success, improving relations with the local leaders.\", \"good sentence\": \"The Prime Minister's visit has been a successful diplomatic endeavor.\"},\\n    {\"bad sentence\": \"The public health crisis demands action, and the city council must respond with measures to support an overwhelmed hospital network, for instance, by enforcing new mask mandates.\", \"good sentence\": \"The city council must act on the public health crisis, and support the strained hospital network.\"},\\n    {\"bad sentence\": \"The CEO emphasized the importance of sustainability initiatives, which, in the long run, will impact the bottom line.\", \"good sentence\": \"The CEO emphasized long-term sustainability initiatives and their future impact.\"},\\n    {\"bad sentence\": \"Many residents have complained about the noise from the construction site, and are demanding action from the city, for instance, noise barriers or a curfew on construction hours.\", \"good sentence\": \"Complaints over construction noise pollution have been lodged by residents, who are calling for action from the city.\"},\\n    {\"bad sentence\": \"The new ad campaign hopes to increase tourism, with the catchy slogan 'Visit LA: See the Stars!', and other enticing offers.\", \"good sentence\": \"A new ad campaign aims to draw more visitors to the city with the slogan 'Visit LA: See the Stars!'\"},\\n    {\"bad sentence\": \"The recent heatwave has caused record-breaking temperatures across the region, and residents are seeking relief, in any event, with many flocking to the beaches.\", \"good sentence\": \"The sweltering heat has sent residents flocking to the beaches in search of relief.\"}\\n]<|END_OF_TURN_TOKEN|>                                                                                                                                                                                                                                                                                                                                                                                                                                                       1\n",
       "Name: count, Length: 182, dtype: int64"
      ]
     },
     "execution_count": 71,
     "metadata": {},
     "output_type": "execute_result"
    }
   ],
   "source": [
    "command_r_data_df['message'].value_counts()"
   ]
  },
  {
   "cell_type": "code",
   "execution_count": 72,
   "id": "9d85caf6-97bb-4b2a-90bb-affd895e1a53",
   "metadata": {},
   "outputs": [
    {
     "data": {
      "text/plain": [
       "message\n",
       "No clear rule or preference expressed.                                                                                                                                                                                                                                                                                                                                                                                                                                                                                                                                                                                                                                                                                                                                                                                                                                                                                                                                                                                                                                                                                                                                                                                                                                                                                                                                                                                                                                                                                                                                                                                                                                                                                                                                                                                                                                                                                                                                                                                                                                                                                                                                                                                                                                                                                                                                                                                                                                                                                                                                                                                                                                                                                                                                     52\n",
       "[\\n    {\\n        \"bad sentence\": \"The government shutdown, it was a major concern for everyone involved.\",\\n        \"good sentence\": \"The government shutdown—that was a major concern for everyone involved.\"\\n    },\\n    {\\n        \"bad sentence\": \"Rising sea levels and increasing temperatures, they are the main indicators of climate change.\",\\n        \"good sentence\": \"Rising sea levels and increasing temperatures—these are the main indicators of climate change.\"\\n    },\\n    {\\n        \"bad sentence\": \"The new vaccine, it offers hope to many.\",\\n        \"good sentence\": \"The new vaccine—that offers hope to many.\"\\n    },\\n    {\\n        \"bad sentence\": \"Economic recovery, it seems to be on everyone's mind lately.\",\\n        \"good sentence\": \"Economic recovery—that seems to be on everyone's mind lately.\"\\n    },\\n    {\\n        \"bad sentence\": \"The president's speech, it was well received by the public.\",\\n        \"good sentence\": \"The president's speech—that was well received by the public.\"\\n    },\\n    {\\n        \"bad sentence\": \"Wildfires in California, they continue to devastate large areas.\",\\n        \"good sentence\": \"Wildfires in California—these continue to devastate large areas.\"\\n    },\\n    {\\n        \"bad sentence\": \"Cryptocurrency regulations, they are becoming stricter.\",\\n        \"good sentence\": \"Cryptocurrency regulations—these are becoming stricter.\"\\n    },\\n    {\\n        \"bad sentence\": \"The new immigration policy, it has sparked a lot of debate.\",\\n        \"good sentence\": \"The new immigration policy—that has sparked a lot of debate.\"\\n    },\\n    {\\n        \"bad sentence\": \"Record-breaking temperatures, they are now a common occurrence each summer.\",\\n        \"good sentence\": \"Record-breaking temperatures—these are now a common occurrence each summer.\"\\n    },\\n    {\\n        \"bad sentence\": \"The tech giant's latest innovation, it has changed the industry standards.\",\\n        \"good sentence\": \"The tech giant's latest innovation—that has changed the industry standards.\"\\n    }\\n]                                                                                                                                                                                                                                                                                                                                                                                                                                                                                                                                                                                                                                                     1\n",
       "[\\n    {\\n        \"bad sentence\": \"Experts say that the economic growth rate, which they estimate at 3% (a preliminary figure), will stabilize the market.\",\\n        \"good sentence\": \"Experts say that the economic growth rate, which they estimate at 3% [a preliminary figure], will stabilize the market.\"\\n    },\\n    {\\n        \"bad sentence\": \"The recent archaeological findings (dated to the 5th century) challenge previous historical assumptions.\",\\n        \"good sentence\": \"The recent archaeological findings [dated to the 5th century] challenge previous historical assumptions.\"\\n    },\\n    {\\n        \"bad sentence\": \"The new policy could affect thousands of people (specifically immigrants) living in the area.\",\\n        \"good sentence\": \"The new policy could affect thousands of people [specifically immigrants] living in the area.\"\\n    },\\n    {\\n        \"bad sentence\": \"The senator mentioned the bill (yet to be passed) during the press conference.\",\\n        \"good sentence\": \"The senator mentioned the bill [yet to be passed] during the press conference.\"\\n    },\\n    {\\n        \"bad sentence\": \"The CEO announced a new initiative to improve workplace safety (effective immediately).\",\\n        \"good sentence\": \"The CEO announced a new initiative to improve workplace safety [effective immediately].\"\\n    },\\n    {\\n        \"bad sentence\": \"Recent studies on climate change (conducted by the University) show a significant increase in temperature.\",\\n        \"good sentence\": \"Recent studies on climate change [conducted by the University] show a significant increase in temperature.\"\\n    },\\n    {\\n        \"bad sentence\": \"The film was released last Friday (directed by John Smith) to critical acclaim.\",\\n        \"good sentence\": \"The film was released last Friday [directed by John Smith] to critical acclaim.\"\\n    },\\n    {\\n        \"bad sentence\": \"The government has issued new guidelines (applicable to small businesses) to ease the tax filing process.\",\\n        \"good sentence\": \"The government has issued new guidelines [applicable to small businesses] to ease the tax filing process.\"\\n    },\\n    {\\n        \"bad sentence\": \"The artist will be on tour next month (tickets go on sale tomorrow).\",\\n        \"good sentence\": \"The artist will be on tour next month [tickets go on sale tomorrow].\"\\n    },\\n    {\\n        \"bad sentence\": \"The latest smartphone model (featuring a new camera technology) has been unveiled.\",\\n        \"good sentence\": \"The latest smartphone model [featuring a new camera technology] has been unveiled.\"\\n    }\\n]                                                                                             1\n",
       "[\\n    {\\n        \"bad sentence\": \"The mayor announced the new policy (which will take effect immediately), and it has sparked a lot of debates.\",\\n        \"good sentence\": \"The mayor announced the new policy (which will take effect immediately) and it has sparked a lot of debates.\"\\n    },\\n    {\\n        \"bad sentence\": \"Experts warn of severe weather conditions (hail, sleet, and snow; are expected throughout the region).\",\\n        \"good sentence\": \"Experts warn of severe weather conditions (hail, sleet, and snow are expected throughout the region).\"\\n    },\\n    {\\n        \"bad sentence\": \"The new book titled 'Innovations in Science' (Smith, 2023); explores groundbreaking technologies.\",\\n        \"good sentence\": \"The new book titled 'Innovations in Science' (Smith, 2023) explores groundbreaking technologies.\"\\n    },\\n    {\\n        \"bad sentence\": \"She won the award for best actress (for her role in the blockbuster movie); she was overjoyed.\",\\n        \"good sentence\": \"She won the award for best actress (for her role in the blockbuster movie). She was overjoyed.\"\\n    },\\n    {\\n        \"bad sentence\": \"The conference was postponed (due to unforeseen circumstances), which caused inconvenience for many attendees.\",\\n        \"good sentence\": \"The conference was postponed (due to unforeseen circumstances) which caused inconvenience for many attendees.\"\\n    },\\n    {\\n        \"bad sentence\": \"The team secured a victory (by a large margin), which led them to the championships.\",\\n        \"good sentence\": \"The team secured a victory (by a large margin) which led them to the championships.\"\\n    },\\n    {\\n        \"bad sentence\": \"Our latest project (a new community center) is now open; come visit us!\",\\n        \"good sentence\": \"Our latest project (a new community center) is now open. Come visit us!\"\\n    },\\n    {\\n        \"bad sentence\": \"He finally responded to the allegations (in a public statement); his words were carefully chosen.\",\\n        \"good sentence\": \"He finally responded to the allegations (in a public statement). His words were carefully chosen.\"\\n    },\\n    {\\n        \"bad sentence\": \"The artist revealed her new artwork (inspired by nature); it received critical acclaim.\",\\n        \"good sentence\": \"The artist revealed her new artwork (inspired by nature). It received critical acclaim.\"\\n    },\\n    {\\n        \"bad sentence\": \"The government cut taxes (a decision welcomed by businesses), which could stimulate economic growth.\",\\n        \"good sentence\": \"The government cut taxes (a decision welcomed by businesses) which could stimulate economic growth.\"\\n    }\\n]                                       1\n",
       "[\\n    {\\n        \"bad sentence\": \"The senator stated that the new policy (which he described as 'revolutionary (see page 34)') would change the industry.\",\\n        \"good sentence\": \"The senator stated that the new policy (which he described as 'revolutionary [see page 34]') would change the industry.\"\\n    },\\n    {\\n        \"bad sentence\": \"The recent study on climate change (conducted by the university (2021)) has shown significant findings.\",\\n        \"good sentence\": \"The recent study on climate change (conducted by the university [2021]) has shown significant findings.\"\\n    },\\n    {\\n        \"bad sentence\": \"In her speech, the CEO mentioned the company's growth (see the annual report (2020)) as unprecedented.\",\\n        \"good sentence\": \"In her speech, the CEO mentioned the company's growth (see the annual report [2020]) as unprecedented.\"\\n    },\\n    {\\n        \"bad sentence\": \"The new law (introduced last week (see article 12)) has sparked a lot of debate.\",\\n        \"good sentence\": \"The new law (introduced last week [see article 12]) has sparked a lot of debate.\"\\n    },\\n    {\\n        \"bad sentence\": \"The health department (refer to document 5B (appendix A)) issued new guidelines.\",\\n        \"good sentence\": \"The health department (refer to document 5B [appendix A]) issued new guidelines.\"\\n    },\\n    {\\n        \"bad sentence\": \"The historical novel (set in the 1920s (see chapter 3)) captures the essence of the era.\",\\n        \"good sentence\": \"The historical novel (set in the 1920s [see chapter 3]) captures the essence of the era.\"\\n    },\\n    {\\n        \"bad sentence\": \"The technology firm (founded in 2001 (see history section)) is now a market leader.\",\\n        \"good sentence\": \"The technology firm (founded in 2001 [see history section]) is now a market leader.\"\\n    },\\n    {\\n        \"bad sentence\": \"The environmental report (released this morning (see summary page)) highlights several critical issues.\",\\n        \"good sentence\": \"The environmental report (released this morning [see summary page]) highlights several critical issues.\"\\n    },\\n    {\\n        \"bad sentence\": \"The director mentioned the upcoming film (his latest project (see press release)) during the interview.\",\\n        \"good sentence\": \"The director mentioned the upcoming film (his latest project [see press release]) during the interview.\"\\n    },\\n    {\\n        \"bad sentence\": \"The government's response to the crisis (outlined in the report (section 4B)) was considered inadequate.\",\\n        \"good sentence\": \"The government's response to the crisis (outlined in the report [section 4B]) was considered inadequate.\"\\n    }\\n]     1\n",
       "                                                                                                                                                                                                                                                                                                                                                                                                                                                                                                                                                                                                                                                                                                                                                                                                                                                                                                                                                                                                                                                                                                                                                                                                                                                                                                                                                                                                                                                                                                                                                                                                                                                                                                                                                                                                                                                                                                                                                                                                                                                                                                                                                                                                                                                                                                                                                                                                                                                                                                                                                                                                                                                                                                                                                                           ..\n",
       "[\\n    {\\n        \"bad sentence\": \"The legislation was passed in accordance with the demands of the public.\",\\n        \"good sentence\": \"The legislation was passed according to the demands of the public.\"\\n    },\\n    {\\n        \"bad sentence\": \"The mayor spoke at length in regard to the new policy on urban development.\",\\n        \"good sentence\": \"The mayor spoke at length about the new policy on urban development.\"\\n    },\\n    {\\n        \"bad sentence\": \"The company has made significant changes in consideration of customer feedback.\",\\n        \"good sentence\": \"The company has made significant changes due to customer feedback.\"\\n    },\\n    {\\n        \"bad sentence\": \"The budget was adjusted in case of an economic downturn.\",\\n        \"good sentence\": \"The budget was adjusted for an economic downturn.\"\\n    },\\n    {\\n        \"bad sentence\": \"The protest was organized in front of the courthouse.\",\\n        \"good sentence\": \"The protest was organized outside the courthouse.\"\\n    },\\n    {\\n        \"bad sentence\": \"The film was banned in several countries by reason of its controversial content.\",\\n        \"good sentence\": \"The film was banned in several countries because of its controversial content.\"\\n    },\\n    {\\n        \"bad sentence\": \"The new law was enacted by means of a bipartisan agreement.\",\\n        \"good sentence\": \"The new law was enacted through a bipartisan agreement.\"\\n    },\\n    {\\n        \"bad sentence\": \"The artist is known for working in apposition with various other creatives.\",\\n        \"good sentence\": \"The artist is known for collaborating with various other creatives.\"\\n    },\\n    {\\n        \"bad sentence\": \"The funds were allocated by way of the new government program.\",\\n        \"good sentence\": \"The funds were allocated through the new government program.\"\\n    },\\n    {\\n        \"bad sentence\": \"The report was prepared with reference to numerous scientific studies.\",\\n        \"good sentence\": \"The report was prepared based on numerous scientific studies.\"\\n    }\\n]                                                                                                                                                                                                                                                                                                                                                                                                                                                                                                                                                                                                                                                           1\n",
       "[\\n    {\\n        \"bad sentence\": \"The policy that the government stands by is controversial.\",\\n        \"good sentence\": \"The policy by which the government stands is controversial.\"\\n    },\\n    {\\n        \"bad sentence\": \"The crisis which we are currently in has escalated.\",\\n        \"good sentence\": \"The crisis in which we are currently has escalated.\"\\n    },\\n    {\\n        \"bad sentence\": \"The candidate who you voted for lost the election.\",\\n        \"good sentence\": \"The candidate for whom you voted lost the election.\"\\n    },\\n    {\\n        \"bad sentence\": \"The law that the senator spoke against was passed yesterday.\",\\n        \"good sentence\": \"The law against which the senator spoke was passed yesterday.\"\\n    },\\n    {\\n        \"bad sentence\": \"The issue which many debates are centered around remains unresolved.\",\\n        \"good sentence\": \"The issue around which many debates are centered remains unresolved.\"\\n    },\\n    {\\n        \"bad sentence\": \"The agreement that many countries agreed on is now in effect.\",\\n        \"good sentence\": \"The agreement on which many countries agreed is now in effect.\"\\n    },\\n    {\\n        \"bad sentence\": \"The technology that the new regulations apply to is evolving rapidly.\",\\n        \"good sentence\": \"The technology to which the new regulations apply is evolving rapidly.\"\\n    },\\n    {\\n        \"bad sentence\": \"The disaster which the community is recovering from has caused significant damage.\",\\n        \"good sentence\": \"The disaster from which the community is recovering has caused significant damage.\"\\n    },\\n    {\\n        \"bad sentence\": \"The leader who the protest was directed at has not responded.\",\\n        \"good sentence\": \"The leader at whom the protest was directed has not responded.\"\\n    },\\n    {\\n        \"bad sentence\": \"The budget that the funds will be allocated to has been approved.\",\\n        \"good sentence\": \"The budget to which the funds will be allocated has been approved.\"\\n    }\\n]                                                                                                                                                                                                                                                                                                                                                                                                                                                                                                                                                                                                                                                                                                      1\n",
       "[\\n    {\\n        \"bad sentence\": \"The government has always clearly stated their position.\",\\n        \"good sentence\": \"The government has clearly always stated their position.\"\\n    },\\n    {\\n        \"bad sentence\": \"The company will likely soon announce a new initiative.\",\\n        \"good sentence\": \"The company will soon likely announce a new initiative.\"\\n    },\\n    {\\n        \"bad sentence\": \"The candidate had emphatically always opposed the policy.\",\\n        \"good sentence\": \"The candidate had always emphatically opposed the policy.\"\\n    },\\n    {\\n        \"bad sentence\": \"The council has already quietly approved the new regulations.\",\\n        \"good sentence\": \"The council has quietly already approved the new regulations.\"\\n    },\\n    {\\n        \"bad sentence\": \"The organization will probably eventually change its guidelines.\",\\n        \"good sentence\": \"The organization will eventually probably change its guidelines.\"\\n    },\\n    {\\n        \"bad sentence\": \"The technology firm had quickly and efficiently solved the problem.\",\\n        \"good sentence\": \"The technology firm had efficiently quickly solved the problem.\"\\n    },\\n    {\\n        \"bad sentence\": \"The researchers have recently clearly demonstrated the theory.\",\\n        \"good sentence\": \"The researchers have clearly recently demonstrated the theory.\"\\n    },\\n    {\\n        \"bad sentence\": \"The government will soon publicly announce the new law.\",\\n        \"good sentence\": \"The government will publicly soon announce the new law.\"\\n    },\\n    {\\n        \"bad sentence\": \"The director had always strongly believed in transparent communication.\",\\n        \"good sentence\": \"The director had strongly always believed in transparent communication.\"\\n    },\\n    {\\n        \"bad sentence\": \"The team has always consistently performed at high levels.\",\\n        \"good sentence\": \"The team has consistently always performed at high levels.\"\\n    }\\n]                                                                                                                                                                                                                                                                                                                                                                                                                                                                                                                                                                                                                                                                                                                                                       1\n",
       "[\\n    {\\n        \"bad sentence\": \"The politician appears confidently about his chances in the upcoming election.\",\\n        \"good sentence\": \"The politician appears confident about his chances in the upcoming election.\"\\n    },\\n    {\\n        \"bad sentence\": \"The singer sounds beautifully in her latest live performance.\",\\n        \"good sentence\": \"The singer sounds beautiful in her latest live performance.\"\\n    },\\n    {\\n        \"bad sentence\": \"The new policy seems unfairly to target younger demographics.\",\\n        \"good sentence\": \"The new policy seems unfair to target younger demographics.\"\\n    },\\n    {\\n        \"bad sentence\": \"The chef feels strongly that organic ingredients taste differently.\",\\n        \"good sentence\": \"The chef feels strongly that organic ingredients taste different.\"\\n    },\\n    {\\n        \"bad sentence\": \"The city looks peacefully in the early morning hours.\",\\n        \"good sentence\": \"The city looks peaceful in the early morning hours.\"\\n    },\\n    {\\n        \"bad sentence\": \"The economy becomes slowly more stable after the recent downturn.\",\\n        \"good sentence\": \"The economy becomes slowly more stable after the recent downturn.\"\\n    },\\n    {\\n        \"bad sentence\": \"The actor appears nervously before the premiere of his new film.\",\\n        \"good sentence\": \"The actor appears nervous before the premiere of his new film.\"\\n    },\\n    {\\n        \"bad sentence\": \"The novel feels amazingly to read because of its intricate plot.\",\\n        \"good sentence\": \"The novel feels amazing to read because of its intricate plot.\"\\n    },\\n    {\\n        \"bad sentence\": \"The garden smells freshly after the morning rain.\",\\n        \"good sentence\": \"The garden smells fresh after the morning rain.\"\\n    },\\n    {\\n        \"bad sentence\": \"The documentary seems truthfully in its depiction of historical events.\",\\n        \"good sentence\": \"The documentary seems truthful in its depiction of historical events.\"\\n    }\\n]                                                                                                                                                                                                                                                                                                                                                                                                                                                                                                                                                                                                                                                                                                               1\n",
       "[\\n    {\\n        \"bad sentence\": \"The generation x is known for its entrepreneurial spirit.\",\\n        \"good sentence\": \"Generation X is known for its entrepreneurial spirit.\"\\n    },\\n    {\\n        \"bad sentence\": \"Members of generation y are facing unique economic challenges.\",\\n        \"good sentence\": \"Members of Generation Y are facing unique economic challenges.\"\\n    },\\n    {\\n        \"bad sentence\": \"The generation z has been remarkable in its quick adaptation to technology.\",\\n        \"good sentence\": \"Generation Z has been remarkable in its quick adaptation to technology.\"\\n    },\\n    {\\n        \"bad sentence\": \"The millennials are often credited with sparking new trends in technology.\",\\n        \"good sentence\": \"The millennials are often credited with sparking new trends in technology.\"\\n    },\\n    {\\n        \"bad sentence\": \"The baby boomers are now entering retirement age, changing the dynamics of the workforce.\",\\n        \"good sentence\": \"The baby boomers are now entering retirement age, changing the dynamics of the workforce.\"\\n    },\\n    {\\n        \"bad sentence\": \"Generation x values work-life balance more than previous generations.\",\\n        \"good sentence\": \"Generation X values work-life balance more than previous generations.\"\\n    },\\n    {\\n        \"bad sentence\": \"Generation y has been at the forefront of social media evolution.\",\\n        \"good sentence\": \"Generation Y has been at the forefront of social media evolution.\"\\n    },\\n    {\\n        \"bad sentence\": \"Generation z's approach to education is vastly different due to online learning platforms.\",\\n        \"good sentence\": \"Generation Z's approach to education is vastly different due to online learning platforms.\"\\n    },\\n    {\\n        \"bad sentence\": \"The MTV generation still influences music and fashion today.\",\\n        \"good sentence\": \"The MTV generation still influences music and fashion today.\"\\n    },\\n    {\\n        \"bad sentence\": \"The baby busters are known for their skepticism towards traditional marketing.\",\\n        \"good sentence\": \"The baby busters are known for their skepticism towards traditional marketing.\"\\n    }\\n]                                                                                                                                                                                                                                                                                                                                                                                                                                                                                                                         1\n",
       "Name: count, Length: 472, dtype: int64"
      ]
     },
     "execution_count": 72,
     "metadata": {},
     "output_type": "execute_result"
    }
   ],
   "source": [
    "gpt4_data_df['message'].value_counts()"
   ]
  },
  {
   "cell_type": "code",
   "execution_count": 66,
   "id": "6cbabef5-b105-454c-a872-905c026a2adf",
   "metadata": {
    "scrolled": true
   },
   "outputs": [
    {
     "name": "stdout",
     "output_type": "stream",
     "text": [
      "[\n",
      "    {\n",
      "        \"bad sentence\": \"The generation x is known for its entrepreneurial spirit.\",\n",
      "        \"good sentence\": \"Generation X is known for its entrepreneurial spirit.\"\n",
      "    },\n",
      "    {\n",
      "        \"bad sentence\": \"Members of generation y are facing unique economic challenges.\",\n",
      "        \"good sentence\": \"Members of Generation Y are facing unique economic challenges.\"\n",
      "    },\n",
      "    {\n",
      "        \"bad sentence\": \"The generation z has been remarkable in its quick adaptation to technology.\",\n",
      "        \"good sentence\": \"Generation Z has been remarkable in its quick adaptation to technology.\"\n",
      "    },\n",
      "    {\n",
      "        \"bad sentence\": \"The millennials are often credited with sparking new trends in technology.\",\n",
      "        \"good sentence\": \"The millennials are often credited with sparking new trends in technology.\"\n",
      "    },\n",
      "    {\n",
      "        \"bad sentence\": \"The baby boomers are now entering retirement age, changing the dynamics of the workforce.\",\n",
      "        \"good sentence\": \"The baby boomers are now entering retirement age, changing the dynamics of the workforce.\"\n",
      "    },\n",
      "    {\n",
      "        \"bad sentence\": \"Generation x values work-life balance more than previous generations.\",\n",
      "        \"good sentence\": \"Generation X values work-life balance more than previous generations.\"\n",
      "    },\n",
      "    {\n",
      "        \"bad sentence\": \"Generation y has been at the forefront of social media evolution.\",\n",
      "        \"good sentence\": \"Generation Y has been at the forefront of social media evolution.\"\n",
      "    },\n",
      "    {\n",
      "        \"bad sentence\": \"Generation z's approach to education is vastly different due to online learning platforms.\",\n",
      "        \"good sentence\": \"Generation Z's approach to education is vastly different due to online learning platforms.\"\n",
      "    },\n",
      "    {\n",
      "        \"bad sentence\": \"The MTV generation still influences music and fashion today.\",\n",
      "        \"good sentence\": \"The MTV generation still influences music and fashion today.\"\n",
      "    },\n",
      "    {\n",
      "        \"bad sentence\": \"The baby busters are known for their skepticism towards traditional marketing.\",\n",
      "        \"good sentence\": \"The baby busters are known for their skepticism towards traditional marketing.\"\n",
      "    }\n",
      "]\n"
     ]
    }
   ],
   "source": [
    "print(gpt4_data_df['message'].iloc[-1])"
   ]
  },
  {
   "cell_type": "code",
   "execution_count": null,
   "id": "07436576-144e-48b6-af4b-e3a954897885",
   "metadata": {},
   "outputs": [],
   "source": []
  },
  {
   "cell_type": "code",
   "execution_count": null,
   "id": "ac67575f-9090-4471-a359-fe3ee6a64dc9",
   "metadata": {},
   "outputs": [],
   "source": []
  },
  {
   "cell_type": "code",
   "execution_count": null,
   "id": "606041e4-1cf6-4873-91af-e961a1f7f66b",
   "metadata": {},
   "outputs": [],
   "source": []
  },
  {
   "cell_type": "code",
   "execution_count": null,
   "id": "67fe9a24-4d39-4999-ae8c-7a9421ddbc22",
   "metadata": {},
   "outputs": [],
   "source": []
  }
 ],
 "metadata": {
  "kernelspec": {
   "display_name": "Python 3 (ipykernel)",
   "language": "python",
   "name": "python3"
  },
  "language_info": {
   "codemirror_mode": {
    "name": "ipython",
    "version": 3
   },
   "file_extension": ".py",
   "mimetype": "text/x-python",
   "name": "python",
   "nbconvert_exporter": "python",
   "pygments_lexer": "ipython3",
   "version": "3.12.2"
  }
 },
 "nbformat": 4,
 "nbformat_minor": 5
}
