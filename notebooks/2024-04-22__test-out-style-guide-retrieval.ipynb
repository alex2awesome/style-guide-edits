{
 "cells": [
  {
   "cell_type": "code",
   "execution_count": null,
   "id": "2cefe2bb-3f46-4544-bb9f-3dcf57a9c972",
   "metadata": {},
   "outputs": [],
   "source": [
    "'https://storage.googleapis.com/chrome-for-testing-public/124.0.6367.60/mac-arm64/chrome-mac-arm64.zip'"
   ]
  },
  {
   "cell_type": "code",
   "execution_count": 2,
   "id": "be4ef93c-ed96-4cdc-8b60-2a600d261835",
   "metadata": {},
   "outputs": [],
   "source": [
    "import pandas as pd \n",
    "import requests"
   ]
  },
  {
   "cell_type": "code",
   "execution_count": 74,
   "id": "2bbccf76-4d68-4597-8301-4b119e309276",
   "metadata": {},
   "outputs": [],
   "source": [
    "from bs4 import BeautifulSoup\n",
    "from urllib.parse import urlparse"
   ]
  },
  {
   "cell_type": "code",
   "execution_count": 162,
   "id": "aebdebdb-c6d5-472d-aec8-e2810ce5df0f",
   "metadata": {
    "scrolled": true
   },
   "outputs": [],
   "source": [
    "from playwright.async_api import async_playwright\n",
    "\n",
    "playwright = await async_playwright().start()\n",
    "browser = await playwright.chromium.launch(headless = False)\n",
    "page = await browser.new_page()"
   ]
  },
  {
   "cell_type": "code",
   "execution_count": 164,
   "id": "2d89b8eb-57c7-46bd-94cf-9b66cb06b561",
   "metadata": {},
   "outputs": [],
   "source": [
    "username_css= \"#username\"\n",
    "password_css='#password'\n",
    "button_css='#loginform > div > button'"
   ]
  },
  {
   "cell_type": "code",
   "execution_count": null,
   "id": "2a8fb973-1bd3-407f-96e8-aa7fd07d62d8",
   "metadata": {},
   "outputs": [],
   "source": [
    "main_page_url = 'https://www-chicagomanualofstyle-org.libproxy2.usc.edu/book/ed17/frontmatter/toc.html'\n",
    "\n",
    "await page.goto(main_page_url)\n",
    "await page.locator(username_css).fill(\"spangher\")\n",
    "await page.locator(password_css).fill(\"Pica_pic0Pica_pic5\")\n",
    "await page.locator(button_css).click()\n",
    "\n",
    "overview_content= await page.content()"
   ]
  },
  {
   "cell_type": "code",
   "execution_count": 53,
   "id": "a8cc3236-464c-4ed4-998a-f5cc17795990",
   "metadata": {},
   "outputs": [],
   "source": [
    "with open('../corpora/chicago-style-guide/main.html', 'w') as f:\n",
    "    f.write(overview_content)"
   ]
  },
  {
   "cell_type": "code",
   "execution_count": 166,
   "id": "2652f20a-7fe3-43f0-9481-481dd10bd0b0",
   "metadata": {},
   "outputs": [],
   "source": [
    "soup = BeautifulSoup(overview_content)\n",
    "chapter_lis = soup.find_all('li', attrs={'class': 'toc'})\n",
    "chapter_hrefs = list(map(lambda x: x.find('a')['href'], chapter_lis))"
   ]
  },
  {
   "cell_type": "code",
   "execution_count": 70,
   "id": "5ad6c91b-b164-46ef-b29d-d80229bbc7b2",
   "metadata": {},
   "outputs": [],
   "source": [
    "chapter_endpoints = list(filter(lambda x: 'part2' in x, chapter_hrefs))"
   ]
  },
  {
   "cell_type": "code",
   "execution_count": 76,
   "id": "1b3a07d6-c99c-4b6a-ab7a-6f3becad34cb",
   "metadata": {},
   "outputs": [],
   "source": [
    "url_parts = urlparse(main_page_url)"
   ]
  },
  {
   "cell_type": "code",
   "execution_count": 83,
   "id": "e1b0a1c6-ad54-4e24-8dd5-7a560070592a",
   "metadata": {},
   "outputs": [],
   "source": [
    "domain = f'{url_parts.scheme}://{url_parts.netloc}'"
   ]
  },
  {
   "cell_type": "code",
   "execution_count": 94,
   "id": "3768cc49-f34d-42f4-b27f-a06c62116f4e",
   "metadata": {},
   "outputs": [],
   "source": [
    "all_subchapter_endpoints = []"
   ]
  },
  {
   "cell_type": "code",
   "execution_count": null,
   "id": "1567d0e5-5954-4e17-90e8-607f1196997e",
   "metadata": {},
   "outputs": [],
   "source": [
    "from tqdm.auto import tqdm\n",
    "import time\n",
    "\n",
    "for e in tqdm(chapter_endpoints):\n",
    "    await page.goto(f'{domain}{e}')\n",
    "    subchapter_html = await page.content()\n",
    "    soup = BeautifulSoup(subchapter_html)\n",
    "    subchapter_lis = soup.find_all('li', attrs={'class': 'ctoc2'})\n",
    "    subchapter_endpoints = list(map(lambda x: x.find('a')['href'], subchapter_lis))\n",
    "    all_subchapter_endpoints += subchapter_endpoints"
   ]
  },
  {
   "cell_type": "code",
   "execution_count": 99,
   "id": "818b7877-e724-4774-bbf1-52337588cd15",
   "metadata": {},
   "outputs": [
    {
     "data": {
      "text/plain": [
       "1093"
      ]
     },
     "execution_count": 99,
     "metadata": {},
     "output_type": "execute_result"
    }
   ],
   "source": [
    "len(all_subchapter_endpoints)"
   ]
  },
  {
   "cell_type": "code",
   "execution_count": 102,
   "id": "38b4d260-4092-425d-9643-8ab457259080",
   "metadata": {},
   "outputs": [],
   "source": [
    "with open('../corpora/chicago-style-guide/all-subchapter-urls.txt', 'w') as f:\n",
    "    for e in all_subchapter_endpoints:\n",
    "        f.write(e)\n",
    "        f.write('\\n')"
   ]
  },
  {
   "cell_type": "code",
   "execution_count": 167,
   "id": "c5c76cb5-730e-47f4-b5fb-3e5de65f4cf6",
   "metadata": {
    "scrolled": true
   },
   "outputs": [
    {
     "data": {
      "application/vnd.jupyter.widget-view+json": {
       "model_id": "d83ea7be3ce34ba7aacc1d34b4062355",
       "version_major": 2,
       "version_minor": 0
      },
      "text/plain": [
       "  0%|          | 0/1093 [00:00<?, ?it/s]"
      ]
     },
     "metadata": {},
     "output_type": "display_data"
    }
   ],
   "source": [
    "all_style_guide_rules = []\n",
    "for e in tqdm(all_subchapter_endpoints):\n",
    "    await page.goto(f'{domain}{e}')\n",
    "    page_content = await page.content()\n",
    "    style_guide_item = BeautifulSoup(page_content)\n",
    "    page_section = style_guide_item.find('div', attrs={'class': 'page-section'})\n",
    "    \n",
    "    section_number = page_section.find('span', attrs={'class': 'section-number'}).get_text()\n",
    "    title = page_section.find('span', attrs={'class': 'section-title'}).get_text()\n",
    "    \n",
    "    trail = page_section.find('p', attrs={'class': 'trail'}).find_all('a')\n",
    "    trail = list(map(lambda x: {'href': x['href'], 'text': x.get_text()}, trail))\n",
    "    content = page_section.find('div', attrs={'class': 'section-content'}).get_text().strip()\n",
    "    \n",
    "    style_guide_packet = {\n",
    "        'url': e,\n",
    "        'section_number': section_number,\n",
    "        'title': title,\n",
    "        'hierarchy': trail, \n",
    "        'content': content\n",
    "    }\n",
    "    all_style_guide_rules.append(style_guide_packet)\n",
    "    time.sleep(.5)"
   ]
  },
  {
   "cell_type": "code",
   "execution_count": 175,
   "id": "b993ba33-33fe-4523-b82c-3bf46a57f48d",
   "metadata": {},
   "outputs": [],
   "source": [
    "import pandas as pd "
   ]
  },
  {
   "cell_type": "code",
   "execution_count": 185,
   "id": "901af80e-cc27-4142-b76c-fcec2bd2f2b8",
   "metadata": {},
   "outputs": [
    {
     "data": {
      "text/plain": [
       "{'url': '/book/ed17/part2/ch13/psec070.html',\n",
       " 'section_number': '13.70',\n",
       " 'title': 'Parenthetical source following a block quotation',\n",
       " 'hierarchy': [{'href': '/book/ed17/part2/ch13/toc.html',\n",
       "   'text': 'Chapter Contents'},\n",
       "  {'href': '/book/ed17/part2/ch13/psec064.html',\n",
       "   'text': 'Attributing Quotations in Text'},\n",
       "  {'href': '/book/ed17/part2/ch13/psec070.html',\n",
       "   'text': 'Sources Following Block Quotations and Poetry Extracts'}],\n",
       " 'content': 'The source of a block quotation is given in parentheses at the end of the quotation and in the same type size. The opening parenthesis appears after the final punctuation mark of the quoted material. No period either precedes or follows the closing parenthesis. See also 6.101, 15.26.\\nIf you happen to be fishing, and you get a strike, and whatever it is starts off with the preliminaries of a vigorous fight; and by and by, looking down over the side through the glassy water, you see a rosy golden gleam, the mere specter of a fish, shining below in the clear depths; and when you look again a sort of glory of golden light flashes and dazzles as it circles nearer beneath and around and under the boat;\\xa0.\\xa0.\\xa0. and you land a slim and graceful and impossibly beautiful three-foot goldfish, whose fierce and vivid yellow is touched around the edges with a violent red—when all these things happen to you, fortunate but bewildered fisherman, then you may know you have been fishing in the Galapagos Islands and have taken a Golden Grouper. (Gifford Pinchot, To the South Seas [Philadelphia: John Winston, 1930], 123)\\nShortened references are treated in the same way as full ones. If a qualifier such as line, vol., or p. is required at the beginning of the shortened reference (a p. may often be omitted, especially with repeated references), it should be lowercased as with sources to run-in quotations.\\nAt last the fish came into sight—at first a mere gleam in the water, and then his full side. This was not even a distant cousin to the fish I thought I was fighting, but something else again entirely. (p. 142) or (142)'}"
      ]
     },
     "execution_count": 185,
     "metadata": {},
     "output_type": "execute_result"
    }
   ],
   "source": [
    "all_style_guide_rules[-3]"
   ]
  },
  {
   "cell_type": "code",
   "execution_count": 177,
   "id": "192e5bea-2ba4-40d3-9cd8-fd1da006a95a",
   "metadata": {},
   "outputs": [],
   "source": [
    "all_style_guide_rules_df = pd.DataFrame(all_style_guide_rules)"
   ]
  },
  {
   "cell_type": "code",
   "execution_count": 179,
   "id": "1aee4e2e-d682-45f7-af33-f16038854f2b",
   "metadata": {},
   "outputs": [],
   "source": [
    "all_style_guide_rules_df.to_json('../corpora/chicago-style-guide/all-rules.jsonl', lines=True, orient='records')"
   ]
  },
  {
   "cell_type": "markdown",
   "id": "12c492b5-7265-4733-9946-f46e9de2d4d1",
   "metadata": {},
   "source": [
    "# Query LLMs for Training Data"
   ]
  },
  {
   "cell_type": "code",
   "execution_count": 180,
   "id": "0fb0448c-254b-481f-a0d6-91637824d50e",
   "metadata": {},
   "outputs": [],
   "source": [
    "## on endeavor"
   ]
  },
  {
   "cell_type": "code",
   "execution_count": null,
   "id": "ec266e29-6fb7-467d-89bd-ac4cc0cca1a0",
   "metadata": {},
   "outputs": [],
   "source": [
    "from vllm import LLM, SamplingParams\n",
    "pluslab_cache_dir='/mnt/data09/spangher/Projects/press-releases/models'\n",
    "endeavor_cache_dir = \"/project/jonmay_231/spangher/huggingface_cache\"\n",
    "model = \"CohereForAI/c4ai-command-r-v01\"\n",
    "model = \"mistralai/Mixtral-8x7B-Instruct-v0.1\"\n",
    "llm = LLM(\n",
    "    model=model, dtype='half',\n",
    "    tensor_parallel_size=4, \n",
    "    download_dir=endeavor_cache_dir\n",
    ")"
   ]
  },
  {
   "cell_type": "code",
   "execution_count": 193,
   "id": "c3a96b2e-0048-4763-8b74-4275b898bf3b",
   "metadata": {
    "scrolled": true
   },
   "outputs": [],
   "source": [
    "style_guide_rule_title, style_guide_rule = (\n",
    "    all_style_guide_rules_df\n",
    "     .iloc[0][['title', 'content']]\n",
    ")"
   ]
  },
  {
   "cell_type": "code",
   "execution_count": 243,
   "id": "d22c1d85-ae46-4e04-bd8b-7b563f8ce689",
   "metadata": {},
   "outputs": [],
   "source": [
    "# style_guide_rule_title= 'Noun gender'\n",
    "# style_guide_rule = \"English nouns have no true gender, as that property is understood in many other languages. For example, whether a noun refers to a masculine or feminine person or thing does not determine the form of the accompanying article as it does in French, German, Spanish, and many other languages. Still, some English words—almost exclusively nouns denoting people or animals—are inherently masculine {uncle} {rooster} {lad} or feminine {aunt} {hen} {lass} and take the gender-appropriate pronouns. But most English nouns are common in gender and may refer to either sex {relative} {chicken} {child}. Many words once considered strictly masculine—especially words associated with jobs and professions—have been accepted as common (or indefinite) in gender over time {author} {executor} {proprietor}. Similarly, many forms made feminine by the addition of a suffix {aviatrix} {poetess} have been essentially abandoned.\"\n",
    "n = 20\n",
    "prompt = \"\"\"\n",
    "You are a journalist's assistant. Here is a rule from the Chicago Manual of Style that either captures a grammatical inaccuracy, or a changing style:\n",
    "\n",
    "The title of this rule is: \"{style_guide_rule_title}\"\n",
    "\n",
    "The rule is:\n",
    "\n",
    "```{style_guide_rule}```\n",
    "\n",
    "If you are able to identify a clear rule or linguistic preference expressed, \n",
    "write me {n} examples of pairs of two sentences: one that violates the rule (\"bad sentence\") \n",
    "and one corrected version of the same sentence (\"good sentence\"). \n",
    "Make them topically sound like news-article sentences: they should be about current events, or similar news writing.\n",
    "Respond with a list of {n} python dictionaries, each with the keys \"bad sentence\", \"good sentence\".\n",
    "\n",
    "If you cannot identify a clear rule or linguistic preference expressed, say \"No clear rule or preference expressed\".\n",
    "\n",
    "Don't say anything else.\n",
    "\"\"\""
   ]
  },
  {
   "cell_type": "code",
   "execution_count": null,
   "id": "c1bf70ee-36a4-4171-bd0f-1c6bea377958",
   "metadata": {},
   "outputs": [],
   "source": [
    "sampling_params = SamplingParams(temperature=0.4, top_p=0.95, max_tokens=100)\n",
    "outputs = llm.generate([prompt], sampling_params)\n",
    "\n",
    "generated_text = outputs[0].outputs[0].text\n",
    "generated_text"
   ]
  },
  {
   "cell_type": "markdown",
   "id": "39fdf5e5-d0cc-4e67-9a3b-be44f0af1e57",
   "metadata": {},
   "source": [
    "# Prompt OpenAI"
   ]
  },
  {
   "cell_type": "code",
   "execution_count": 208,
   "id": "d75612b9-d247-4f25-8fcc-d6efd1460267",
   "metadata": {},
   "outputs": [],
   "source": [
    "from transformers import AutoTokenizer"
   ]
  },
  {
   "cell_type": "code",
   "execution_count": 210,
   "id": "63ce7e1d-724d-4a76-a5c6-7e294b314c30",
   "metadata": {},
   "outputs": [],
   "source": [
    "tok = AutoTokenizer.from_pretrained('gpt2')"
   ]
  },
  {
   "cell_type": "code",
   "execution_count": null,
   "id": "3d871919-07b2-4ab1-b9f5-97d1375e92cc",
   "metadata": {},
   "outputs": [],
   "source": [
    "from openai import OpenAI\n",
    "client = OpenAI(api_key=open('/Users/spangher/.openai-isi-key.txt').read().strip())"
   ]
  },
  {
   "cell_type": "code",
   "execution_count": 219,
   "id": "9982a2cb-5952-4ada-a7ad-718efb3027fc",
   "metadata": {},
   "outputs": [
    {
     "data": {
      "text/plain": [
       "362000"
      ]
     },
     "execution_count": 219,
     "metadata": {},
     "output_type": "execute_result"
    }
   ],
   "source": [
    "len(tok.encode(prompt)) * 2 * 1000"
   ]
  },
  {
   "cell_type": "code",
   "execution_count": 259,
   "id": "89917bb1-8741-4d09-971c-0d91199d73e9",
   "metadata": {},
   "outputs": [
    {
     "data": {
      "application/vnd.jupyter.widget-view+json": {
       "model_id": "06302cfa4496470fa6edd2b3d8639fa6",
       "version_major": 2,
       "version_minor": 0
      },
      "text/plain": [
       "  0%|          | 0/1093 [00:00<?, ?it/s]"
      ]
     },
     "metadata": {},
     "output_type": "display_data"
    }
   ],
   "source": [
    "all_training_data = []\n",
    "for _, (url, style_guide_rule_title, style_guide_rule) in tqdm(\n",
    "    all_style_guide_rules_df[['url', 'title', 'content']].iloc[100:].iterrows(), \n",
    "    total=len(all_style_guide_rules_df)\n",
    "):\n",
    "    prompt_str = prompt.format(style_guide_rule=style_guide_rule, style_guide_rule_title=style_guide_rule_title, n=n)    \n",
    "    messages = [\n",
    "        {\n",
    "            \"role\": \"system\", \n",
    "            \"content\": \"You are a journalist's assistant who helps me perform line-edits.\"\n",
    "        }, {\n",
    "            'role': 'user',\n",
    "            'content': prompt_str,\n",
    "        }\n",
    "    ]\n",
    "    break\n",
    "    completion = client.chat.completions.create(\n",
    "        model=\"gpt-4-turbo\",\n",
    "        messages=messages\n",
    "    )\n",
    "    response = completion.choices[0].message.content"
   ]
  },
  {
   "cell_type": "code",
   "execution_count": 274,
   "id": "9fedde5c-7dea-436a-a72f-55f9bb43b635",
   "metadata": {},
   "outputs": [],
   "source": [
    "completion = client.chat.completions.create(\n",
    "    model=\"gpt-4-turbo\",\n",
    "    messages=messages,\n",
    "    temperature=.3\n",
    ")\n",
    "response = completion.choices[0].message.content"
   ]
  },
  {
   "cell_type": "code",
   "execution_count": 261,
   "id": "785da900-350d-4f05-92bb-5d3acff25c2c",
   "metadata": {},
   "outputs": [],
   "source": [
    "import ast"
   ]
  },
  {
   "cell_type": "code",
   "execution_count": 273,
   "id": "e6fef182-11df-4045-a1b1-de32483287e3",
   "metadata": {},
   "outputs": [
    {
     "name": "stdout",
     "output_type": "stream",
     "text": [
      "[{'role': 'system', 'content': \"You are a journalist's assistant who helps me perform line-edits.\"}, {'role': 'user', 'content': '\\nYou are a journalist\\'s assistant. Here is a rule from the Chicago Manual of Style that either captures a grammatical inaccuracy, or a changing style:\\n\\nThe title of this rule is: \"Linking verbs\"\\n\\nThe rule is:\\n\\n```A linking verb (also called a copula or connecting verb) is one that links the subject to a closely related word in the predicate—a subjective complement. The linking verb itself does not take an object, because it expresses a state of being instead of an action {Mr. Block is the chief executive officer} {that snake is venomous} {his heart’s desire is to see his sister again}. There are two kinds of linking verbs: be-verbs and intransitive verbs that are used in a weakened sense, such as appear, become, feel, look, seem, smell, and taste. The weakened intransitive verbs often have a figurative sense akin to that of become, as in He fell heir to a large fortune (he didn’t physically fall on or into anything) or The river ran dry (a waterless river doesn’t run—it has dried up). (See also 5.170.) Some verbs only occasionally function as linking verbs—among them act {act weird}, get {get fat}, go {go bald}, grow {grow weary}, lie {lie fallow}, prove {prove untenable}, remain {remain quiet}, sit {sit still}, stay {stay trim}, turn {turn gray}, and wax {wax eloquent}. Also, some passive-voice constructions contain linking verbs {this band was judged best in the contest} {she was made sales-force manager}. If a verb doesn’t have a subjective complement, then it doesn’t qualify as a linking verb in that particular construction. For instance, when a be-verb conveys the sense “to be situated” or “to exist,” it is not a linking verb {Kansas City, Kansas, is across the river} {there is an unfilled receptionist position}. Likewise, if a verb such as appear, feel, smell, sound, or taste is followed by an adverbial modifier instead of a subjective complement {he appeared in court} or a direct object {the dog smelled the scent}, it isn’t a linking verb.```\\n\\nIf you are able to identify a clear rule or linguistic preference expressed, \\nwrite me 20 examples of pairs of two sentences: one that violates the rule (\"bad sentence\") \\nand one corrected version of the same sentence (\"good sentence\"). \\nMake them topically sound like news-article sentences: they should be about current events, or similar news writing.\\nRespond with a list of 20 python dictionaries, each with the keys \"bad sentence\", \"good sentence\".\\n\\nIf you cannot identify a clear rule or linguistic preference expressed, say \"No clear rule or preference expressed\".\\n\\nDon\\'t say anything else.\\n'}]\n"
     ]
    }
   ],
   "source": [
    "print(messages)"
   ]
  },
  {
   "cell_type": "code",
   "execution_count": 275,
   "id": "14c10e76-62cd-4d47-a1e2-73c67f04a54b",
   "metadata": {
    "scrolled": true
   },
   "outputs": [
    {
     "data": {
      "text/plain": [
       "[{'bad sentence': 'The economy appears very shaky.',\n",
       "  'good sentence': 'The economy appears to be very shaky.'},\n",
       " {'bad sentence': 'The new policy feels a bit rushed.',\n",
       "  'good sentence': 'The new policy feels like it was a bit rushed.'},\n",
       " {'bad sentence': 'The lake smells foul.',\n",
       "  'good sentence': 'The lake smells like something foul.'},\n",
       " {'bad sentence': 'The candidate looks the part of a leader.',\n",
       "  'good sentence': 'The candidate looks like the part of a leader.'},\n",
       " {'bad sentence': 'The soup tastes too salty.',\n",
       "  'good sentence': 'The soup tastes like it is too salty.'},\n",
       " {'bad sentence': 'The city seems quieter post-pandemic.',\n",
       "  'good sentence': 'The city seems to be quieter post-pandemic.'},\n",
       " {'bad sentence': 'The painting looks a masterpiece.',\n",
       "  'good sentence': 'The painting looks like a masterpiece.'},\n",
       " {'bad sentence': 'The agreement feels a significant step.',\n",
       "  'good sentence': 'The agreement feels like a significant step.'},\n",
       " {'bad sentence': 'The new model appears a success.',\n",
       "  'good sentence': 'The new model appears to be a success.'},\n",
       " {'bad sentence': 'The actor turned very professional over the years.',\n",
       "  'good sentence': 'The actor turned into a very professional figure over the years.'},\n",
       " {'bad sentence': 'The neighborhood stays quiet during the night.',\n",
       "  'good sentence': 'The neighborhood remains quiet during the night.'},\n",
       " {'bad sentence': 'The technology company grows innovative.',\n",
       "  'good sentence': 'The technology company grows more innovative.'},\n",
       " {'bad sentence': 'The garden looks neglected.',\n",
       "  'good sentence': 'The garden looks like it has been neglected.'},\n",
       " {'bad sentence': 'The market feels saturated.',\n",
       "  'good sentence': 'The market feels like it is saturated.'},\n",
       " {'bad sentence': 'The book reads a thrilling adventure.',\n",
       "  'good sentence': 'The book reads like a thrilling adventure.'},\n",
       " {'bad sentence': 'The car smells new.',\n",
       "  'good sentence': 'The car smells like it is new.'},\n",
       " {'bad sentence': 'The speech sounded a call to action.',\n",
       "  'good sentence': 'The speech sounded like a call to action.'},\n",
       " {'bad sentence': 'The movie feels a classic.',\n",
       "  'good sentence': 'The movie feels like a classic.'},\n",
       " {'bad sentence': 'The new law seems a game changer.',\n",
       "  'good sentence': 'The new law seems to be a game changer.'},\n",
       " {'bad sentence': 'The dessert tastes perfection.',\n",
       "  'good sentence': 'The dessert tastes like perfection.'}]"
      ]
     },
     "execution_count": 275,
     "metadata": {},
     "output_type": "execute_result"
    }
   ],
   "source": [
    "ast.literal_eval(response)"
   ]
  },
  {
   "cell_type": "code",
   "execution_count": 266,
   "id": "38f1dcc6-f194-4df5-8b67-45cf1194a321",
   "metadata": {},
   "outputs": [
    {
     "name": "stdout",
     "output_type": "stream",
     "text": [
      "\n",
      "You are a journalist's assistant. Here is a rule from the Chicago Manual of Style that either captures a grammatical inaccuracy, or a changing style:\n",
      "\n",
      "The title of this rule is: \"Linking verbs\"\n",
      "\n",
      "The rule is:\n",
      "\n",
      "```A linking verb (also called a copula or connecting verb) is one that links the subject to a closely related word in the predicate—a subjective complement. The linking verb itself does not take an object, because it expresses a state of being instead of an action {Mr. Block is the chief executive officer} {that snake is venomous} {his heart’s desire is to see his sister again}. There are two kinds of linking verbs: be-verbs and intransitive verbs that are used in a weakened sense, such as appear, become, feel, look, seem, smell, and taste. The weakened intransitive verbs often have a figurative sense akin to that of become, as in He fell heir to a large fortune (he didn’t physically fall on or into anything) or The river ran dry (a waterless river doesn’t run—it has dried up). (See also 5.170.) Some verbs only occasionally function as linking verbs—among them act {act weird}, get {get fat}, go {go bald}, grow {grow weary}, lie {lie fallow}, prove {prove untenable}, remain {remain quiet}, sit {sit still}, stay {stay trim}, turn {turn gray}, and wax {wax eloquent}. Also, some passive-voice constructions contain linking verbs {this band was judged best in the contest} {she was made sales-force manager}. If a verb doesn’t have a subjective complement, then it doesn’t qualify as a linking verb in that particular construction. For instance, when a be-verb conveys the sense “to be situated” or “to exist,” it is not a linking verb {Kansas City, Kansas, is across the river} {there is an unfilled receptionist position}. Likewise, if a verb such as appear, feel, smell, sound, or taste is followed by an adverbial modifier instead of a subjective complement {he appeared in court} or a direct object {the dog smelled the scent}, it isn’t a linking verb.```\n",
      "\n",
      "If you are able to identify a clear rule or linguistic preference expressed, \n",
      "write me 20 examples of pairs of two sentences: one that violates the rule (\"bad sentence\") \n",
      "and one corrected version of the same sentence (\"good sentence\"). \n",
      "Make them topically sound like news-article sentences: they should be about current events, or similar news writing.\n",
      "Respond with a list of 20 python dictionaries, each with the keys \"bad sentence\", \"good sentence\".\n",
      "\n",
      "If you cannot identify a clear rule or linguistic preference expressed, say \"No clear rule or preference expressed\".\n",
      "\n",
      "Don't say anything else.\n",
      "\n"
     ]
    }
   ],
   "source": [
    "print(messages[1]['content'])"
   ]
  },
  {
   "cell_type": "code",
   "execution_count": null,
   "id": "3d8d0e1c-32c2-4d52-af8b-6631f1f1209e",
   "metadata": {},
   "outputs": [],
   "source": []
  },
  {
   "cell_type": "code",
   "execution_count": null,
   "id": "94203795-bf81-4a3a-97ba-4b972305abfd",
   "metadata": {},
   "outputs": [],
   "source": []
  },
  {
   "cell_type": "code",
   "execution_count": null,
   "id": "6700167f-005a-4f91-b557-75dc4ecfba9b",
   "metadata": {},
   "outputs": [],
   "source": []
  },
  {
   "cell_type": "code",
   "execution_count": null,
   "id": "4f0f054f-9b81-4b00-ba08-e43ee35c5674",
   "metadata": {},
   "outputs": [],
   "source": []
  },
  {
   "cell_type": "code",
   "execution_count": null,
   "id": "dba7be68-13d4-42e2-a76a-22a329e92b7d",
   "metadata": {},
   "outputs": [],
   "source": []
  },
  {
   "cell_type": "code",
   "execution_count": null,
   "id": "89646296-e73e-4bf2-8a6f-8eb20d160b8b",
   "metadata": {},
   "outputs": [],
   "source": []
  },
  {
   "cell_type": "code",
   "execution_count": null,
   "id": "a0b84b44-a50e-4ad9-9a39-bfd31e8ed3b4",
   "metadata": {},
   "outputs": [],
   "source": []
  },
  {
   "cell_type": "code",
   "execution_count": null,
   "id": "a434776c-fb16-491e-8e7d-cca8df862ca9",
   "metadata": {},
   "outputs": [],
   "source": []
  }
 ],
 "metadata": {
  "kernelspec": {
   "display_name": "Python 3 (ipykernel)",
   "language": "python",
   "name": "python3"
  },
  "language_info": {
   "codemirror_mode": {
    "name": "ipython",
    "version": 3
   },
   "file_extension": ".py",
   "mimetype": "text/x-python",
   "name": "python",
   "nbconvert_exporter": "python",
   "pygments_lexer": "ipython3",
   "version": "3.12.2"
  }
 },
 "nbformat": 4,
 "nbformat_minor": 5
}
